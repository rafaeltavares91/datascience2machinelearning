{
 "cells": [
  {
   "cell_type": "markdown",
   "metadata": {
    "colab_type": "text",
    "id": "yDhBZZ6PvG69"
   },
   "source": [
    "# Introduction"
   ]
  },
  {
   "cell_type": "markdown",
   "metadata": {
    "colab_type": "text",
    "id": "lTKspsacvMZU"
   },
   "source": [
    "In this lesson, we'll work with a dataset of used cars from *eBay Kleinanzeigen*, a [classifieds](https://en.wikipedia.org/wiki/Classified_advertising) section of the German eBay website.\n",
    "\n",
    "The dataset was originally [scraped](https://en.wikipedia.org/wiki/Web_scraping) and uploaded to [Kaggle](https://www.kaggle.com/orgesleka/used-cars-database/data). We've made a few modifications from the original dataset that was uploaded to Kaggle:\n",
    "\n",
    "- We sampled 50,000 data points from the full dataset, to ensure your code runs quickly\n",
    "- We dirtied the dataset a bit to more closely resemble what you would expect from a scraped dataset (the version uploaded to Kaggle was cleaned to be easier to work with)\n",
    "\n",
    "The data dictionary provided with data is as follows:\n",
    "\n",
    "\n",
    "- **dateCrawled** - When this ad was first crawled. All field-values are taken from this date.\n",
    "- **name** - Name of the car.\n",
    "- **seller** - Whether the seller is private or a dealer\n",
    "- **offerType** - The type of listing\n",
    "- **price** - The price on the ad to sell the car.\n",
    "- **abtest** - Whether the listing is included in an A/B test.\n",
    "- **vehicleType** - The vehicle Type.\n",
    "- **yearOfRegistration** - The year in which which year the car was first registered.\n",
    "- **gearbox** - The transmission type.\n",
    "- **powerPS** - The power of the car in PS.\n",
    "- **model** - The car model name.\n",
    "- **kilometer** - How many kilometers the car has driven.\n",
    "- **monthOfRegistration** - The month in which which year the car was first registered.\n",
    "- **fuelType** - What type of fuel the car uses.\n",
    "- **brand** - The brand of the car.\n",
    "- **notRepairedDamage** - If the car has a damage which is not yet repaired.\n",
    "- **dateCreated** - The date on which the eBay listing was created.\n",
    "- **nrOfPictures** - The number of pictures in the ad.\n",
    "- **postalCode** - The postal code for the location of the vehicle.\n",
    "- **lastSeenOnline** - When the crawler saw this ad last online.\n",
    "\n",
    "The aim of this project is to clean the data and analyze the included used car listings. You'll also become familiar with some of the unique benefits jupyter notebook provides for pandas.\n",
    "\n",
    "Let's start by importing the libraries we need and reading the dataset into pandas.\n",
    "\n",
    "**Exercise**\n",
    "\n",
    "<left><img width=\"100\" src=\"https://drive.google.com/uc?export=view&id=1E8tR7B9YYUXsU_rddJAyq0FrM0MSelxZ\"></left>\n",
    "\n",
    "\n",
    "- Import the pandas and NumPy libraries\n",
    "- Read the **autos.csv** CSV file into pandas, and assign it to the variable name **autos**.\n",
    "    - Try without specifying any encoding (which will default to **UTF-8**)\n",
    "    - If you get an encoding error, try the next two most popular encodings (**Latin-1** and **Windows-1252**) until you are able to read the file without error.\n",
    "- Create a new cell with just the variable **autos** and run this cell.\n",
    "A neat feature of jupyter notebook is its ability to render the first few and last few values of any pandas object.\n",
    "- Use the **DataFrame.info()** and **DataFrame.head()** methods to print information about the **autos** dataframe, as well as the first few rows.\n",
    "- Write a markdown cell briefly describing your observations.\n"
   ]
  },
  {
   "cell_type": "code",
   "execution_count": 1,
   "metadata": {
    "colab": {},
    "colab_type": "code",
    "id": "zHDkOQhzvkvT"
   },
   "outputs": [],
   "source": [
    "import pandas as pd\n",
    "\n",
    "autos = pd.read_csv(\"autos.csv\", encoding=\"Latin-1\")"
   ]
  },
  {
   "cell_type": "code",
   "execution_count": 2,
   "metadata": {},
   "outputs": [
    {
     "name": "stdout",
     "output_type": "stream",
     "text": [
      "<class 'pandas.core.frame.DataFrame'>\n",
      "RangeIndex: 50000 entries, 0 to 49999\n",
      "Data columns (total 20 columns):\n",
      "dateCrawled            50000 non-null object\n",
      "name                   50000 non-null object\n",
      "seller                 50000 non-null object\n",
      "offerType              50000 non-null object\n",
      "price                  50000 non-null object\n",
      "abtest                 50000 non-null object\n",
      "vehicleType            44905 non-null object\n",
      "yearOfRegistration     50000 non-null int64\n",
      "gearbox                47320 non-null object\n",
      "powerPS                50000 non-null int64\n",
      "model                  47242 non-null object\n",
      "odometer               50000 non-null object\n",
      "monthOfRegistration    50000 non-null int64\n",
      "fuelType               45518 non-null object\n",
      "brand                  50000 non-null object\n",
      "notRepairedDamage      40171 non-null object\n",
      "dateCreated            50000 non-null object\n",
      "nrOfPictures           50000 non-null int64\n",
      "postalCode             50000 non-null int64\n",
      "lastSeen               50000 non-null object\n",
      "dtypes: int64(5), object(15)\n",
      "memory usage: 7.6+ MB\n"
     ]
    }
   ],
   "source": [
    "# autos\n",
    "autos.info()\n",
    "# autos.head()"
   ]
  },
  {
   "cell_type": "markdown",
   "metadata": {
    "colab_type": "text",
    "id": "0K84WqLpVGxa"
   },
   "source": [
    "# Cleaning Column Names\n",
    "\n"
   ]
  },
  {
   "cell_type": "markdown",
   "metadata": {
    "colab_type": "text",
    "id": "P7FvLuVXVe6e"
   },
   "source": [
    "From the work we did in the last section, we can make the following observations:\n",
    "\n",
    "- The dataset contains 20 columns, most of which are strings.\n",
    "- Some columns have **null** values, but none have more than ~20% **null** values.\n",
    "- The column names use [camelcase](https://en.wikipedia.org/wiki/Camel_case) instead of Python's preferred [snakecase](https://en.wikipedia.org/wiki/Snake_case), which means we can't just replace spaces with underscores.\n",
    "\n",
    "Let's convert the column names from **camelcase** to **snakecase** and reword some of the column names based on the data dictionary to be more descriptive.\n",
    "\n",
    "**Exercise**\n",
    "\n",
    "<left><img width=\"100\" src=\"https://drive.google.com/uc?export=view&id=1E8tR7B9YYUXsU_rddJAyq0FrM0MSelxZ\"></left>\n",
    "\n",
    "- Use the **DataFrame.columns** attribute to print an array of the existing column names.\n",
    "- Copy that array and make the following edits to columns names:\n",
    "    - **yearOfRegistration** to **registration_year**\n",
    "    - **monthOfRegistration** to **registration_month**\n",
    "    - **notRepairedDamage** to **unrepaired_damage**\n",
    "    - **dateCreated** to **ad_created**\n",
    "    - The rest of the columnn names from camelcase to snakecase.\n",
    "- Assign the modified column names back to the **DataFrame.columns** attribute.\n",
    "- Use **DataFrame.head()** to look at the current state of the autos dataframe.\n",
    "- Write a markdown cell explaining the changes you made and why."
   ]
  },
  {
   "cell_type": "code",
   "execution_count": 3,
   "metadata": {
    "colab": {},
    "colab_type": "code",
    "id": "saqI9ZDMrOOV"
   },
   "outputs": [
    {
     "name": "stdout",
     "output_type": "stream",
     "text": [
      "Index(['dateCrawled', 'name', 'seller', 'offerType', 'price', 'abtest',\n",
      "       'vehicleType', 'yearOfRegistration', 'gearbox', 'powerPS', 'model',\n",
      "       'odometer', 'monthOfRegistration', 'fuelType', 'brand',\n",
      "       'notRepairedDamage', 'dateCreated', 'nrOfPictures', 'postalCode',\n",
      "       'lastSeen'],\n",
      "      dtype='object')\n"
     ]
    }
   ],
   "source": [
    "print(autos.columns)"
   ]
  },
  {
   "cell_type": "code",
   "execution_count": 4,
   "metadata": {},
   "outputs": [],
   "source": [
    "autos_test = autos.copy()\n",
    "autos_test.columns = autos_test.columns.str.replace('yearOfRegistration',\"registration_year\").tolist()"
   ]
  },
  {
   "cell_type": "code",
   "execution_count": 5,
   "metadata": {},
   "outputs": [
    {
     "data": {
      "text/plain": [
       "Index(['dateCrawled', 'name', 'seller', 'offerType', 'price', 'abtest',\n",
       "       'vehicleType', 'registration_year', 'gearbox', 'powerPS', 'model',\n",
       "       'odometer', 'monthOfRegistration', 'fuelType', 'brand',\n",
       "       'notRepairedDamage', 'dateCreated', 'nrOfPictures', 'postalCode',\n",
       "       'lastSeen'],\n",
       "      dtype='object')"
      ]
     },
     "execution_count": 5,
     "metadata": {},
     "output_type": "execute_result"
    }
   ],
   "source": [
    "autos_test.columns"
   ]
  },
  {
   "cell_type": "code",
   "execution_count": null,
   "metadata": {},
   "outputs": [],
   "source": []
  },
  {
   "cell_type": "markdown",
   "metadata": {
    "colab_type": "text",
    "id": "0xinTh-JV6ka"
   },
   "source": [
    "# Initial Exploration and Cleaning"
   ]
  },
  {
   "cell_type": "markdown",
   "metadata": {
    "colab_type": "text",
    "id": "pF8jCLKYqJ7N"
   },
   "source": [
    "Now let's do some basic data exploration to determine what other cleaning tasks need to be done. Initially we will look for:\n",
    "\n",
    "- Text columns where all or almost all values are the same. These can often be dropped as they don't have useful information for analysis.\n",
    "- Examples of numeric data stored as text which can be cleaned and converted.\n",
    "\n",
    "The following methods are helpful for exploring the data:\n",
    "- **DataFrame.describe()** (with **include='all'** to get both categorical and numeric columns) \n",
    "- **Series.value_counts()** and **Series.head()** if any columns need a closer look.\n",
    "\n",
    "**Exercise**\n",
    "\n",
    "<left><img width=\"100\" src=\"https://drive.google.com/uc?export=view&id=1E8tR7B9YYUXsU_rddJAyq0FrM0MSelxZ\"></left>\n",
    "\n",
    "- Use **DataFrame.describe()** to look at descriptive statistics for all columns.\n",
    "- Write a markdown cell noting:\n",
    "  - Any columns that have mostly one value that are candidates to be dropped\n",
    "  - Any columns that need more investigation.\n",
    "  - Any examples of numeric data stored as text that needs to be cleaned.\n",
    "- If you need to investigate any columns more, do so and write up any additional things you found.\n",
    "- You likely found that the **price** and **odometer** columns are numeric values stored as text. For each column:\n",
    "    - Remove any non-numeric characters.\n",
    "    - Convert the column to a numeric dtype.\n",
    "    - Use **DataFrame.rename()** to rename the column to **odometer_km**."
   ]
  },
  {
   "cell_type": "code",
   "execution_count": null,
   "metadata": {
    "colab": {},
    "colab_type": "code",
    "id": "q2uBgqtrqkWC"
   },
   "outputs": [],
   "source": [
    "# put your code here"
   ]
  },
  {
   "cell_type": "markdown",
   "metadata": {
    "colab_type": "text",
    "id": "QD7z0bp2rSbB"
   },
   "source": [
    "# Exploring the Odometer and Price Columns"
   ]
  },
  {
   "cell_type": "markdown",
   "metadata": {
    "colab_type": "text",
    "id": "LeBXgFoUrbKg"
   },
   "source": [
    "From the last section, we learned that there are a number of text columns where almost all of the values are the same (**seller** and **offer_type**). We also converted the **price** and **odometer** columns to numeric types and renamed **odometer** to **odometer_km**.\n",
    "\n",
    "Let's continue exploring the data, specifically looking for data that doesn't look right. We'll start by analyzing the **odometer_km** and **price** columns. Here's the steps we'll take:\n",
    "\n",
    "- Analyze the columns using minimum and maximum values and look for any values that look unrealistically high or low (outliers) that we might want to remove.\n",
    "- We'll use:\n",
    "  - **Series.unique().shape** to see how many unique values\n",
    "  - **Series.describe()** to view min/max/median/mean etc\n",
    "  - **Series.value_counts()**, with some variations:\n",
    "    - chained to **.head()** if there are lots of values.\n",
    "    - Because **Series.value_counts()** returns a series, we can use **Series.sort_index()** with **ascending=True** or **False** to view the highest and lowest values with their counts (can also chain to head() here).\n",
    "    - When removing outliers, we can do df[(df[\"col\"] > x ) & (df[\"col\"] < y )], but it's more readable to use df[df[\"col\"].[between(x,y)](https://pandas.pydata.org/pandas-docs/version/0.22/generated/pandas.Series.between.html)]\n",
    "    \n",
    "\n",
    "**Exercise**\n",
    "\n",
    "<left><img width=\"100\" src=\"https://drive.google.com/uc?export=view&id=1E8tR7B9YYUXsU_rddJAyq0FrM0MSelxZ\"></left>\n",
    "\n",
    "\n",
    "- For each of the **odometer_km** and **price** columns:\n",
    "  - Use the techniques above to explore the data\n",
    "  - If you find there are outliers, remove them and write a markdown paragraph explaining your decision.\n",
    "  - After you have removed the outliers, make some observations about the remaining values, with examples of how we can use that to extract **YYYY**, **YYYY-MM** or **YYYY-MM-DD** from those columns."
   ]
  },
  {
   "cell_type": "code",
   "execution_count": null,
   "metadata": {
    "colab": {},
    "colab_type": "code",
    "id": "XUAfmmKcsT6w"
   },
   "outputs": [],
   "source": [
    "# put your code here"
   ]
  },
  {
   "cell_type": "markdown",
   "metadata": {
    "colab_type": "text",
    "id": "KbZcTdc3tSGu"
   },
   "source": [
    "# Exploring the date columns\n",
    "\n"
   ]
  },
  {
   "cell_type": "markdown",
   "metadata": {
    "colab_type": "text",
    "id": "rC3rAMuptawF"
   },
   "source": [
    "Let's now move on to the date columns and understand the date range the data covers.\n",
    "\n",
    "There are 5 columns that should represent date values. Some of these columns were created by the crawler, some came from the website itself. We can differentiate by referring to the data dictionary:\n",
    "\n",
    "\n",
    "- **date_crawled**: added by the crawler\n",
    "- **last_seen**: added by the crawler\n",
    "- **ad_created**: from the website\n",
    "- **registration_month**: from the website\n",
    "- **registration_year**: from the website\n",
    "\n",
    "Right now, the **date_crawled**, **last_seen**, and **ad_created** columns are all identified as string values by pandas. Because these three columns are represented as strings, we need to convert the data into a numerical representation so we can understand it quantitatively. The other two columns are represented as numeric values, so we can use methods like **Series.describe()** to understand the distribution without any extra data processing.\n",
    "\n",
    "Let's first understand how the values in the three string columns are formatted. These columns all represent full timestamp values, like so:\n",
    "\n",
    "```python\n",
    "autos[['date_crawled','ad_created','last_seen']][0:5]\n",
    "```\n",
    "\n",
    "|      _        |        date_crawled | ad_created          | last_seen           |\n",
    "|--------------|---------------------|---------------------|---------------------|\n",
    "| 0            | 2016-03-26 17:47:46 | 2016-03-26 00:00:00 | 2016-04-06 06:45:54 |\n",
    "| 1            | 2016-04-04 13:38:56 | 2016-04-04 00:00:00 | 2016-04-06 14:45:08 |\n",
    "| 2            | 2016-03-26 18:57:24 | 2016-03-26 00:00:00 | 2016-04-06 20:15:37 |\n",
    "| 3            | 2016-03-12 16:58:10 | 2016-03-12 00:00:00 | 2016-03-15 03:16:28 |\n",
    "| 4            | 2016-04-01 14:38:50 | 2016-04-01 00:00:00 | 2016-04-01 14:38:50 |\n",
    "\n",
    "\n",
    "You'll notice that the first 10 characters represent the day (e.g. **2016-03-12**). To understand the date range, we can extract just the date values, use **Series.value_counts()** to generate a distribution, and then sort by the index.\n",
    "\n",
    "To select the first 10 characters in each column, we can use **Series.str[:10]**:\n",
    "\n",
    "```python\n",
    "autos['date_crawled'].str[:10]\n",
    "\n",
    ">>>\n",
    "0        2016-03-26\n",
    "1        2016-04-04\n",
    "2        2016-03-26\n",
    "3        2016-03-12\n",
    "...\n",
    "```\n",
    "\n",
    "**Exercise**\n",
    "\n",
    "<left><img width=\"100\" src=\"https://drive.google.com/uc?export=view&id=1E8tR7B9YYUXsU_rddJAyq0FrM0MSelxZ\"></left>\n",
    "\n",
    "\n",
    "- Use the workflow we just described to calculate the distribution of values in the **date_crawled**, **ad_created**, and **last_seen** columns (all string columns) as percentages.\n",
    "  - To include missing values in the distribution and to use percentages instead of counts, chain the **Series.value_counts(normalize=True, dropna=False)** method.\n",
    "  - To rank by date in ascending order (earliest to latest), chain the **Series.sort_index()** method.\n",
    "  - Write a markdown cell after each column exploration to explain your observations.\n",
    "- Use **Series.describe()** to understand the distribution of **registration_year**.\n",
    "    - Write a markdown cell explaining your observations."
   ]
  },
  {
   "cell_type": "code",
   "execution_count": null,
   "metadata": {
    "colab": {},
    "colab_type": "code",
    "id": "UynpvHxBt704"
   },
   "outputs": [],
   "source": [
    "# put your code here"
   ]
  },
  {
   "cell_type": "markdown",
   "metadata": {
    "colab_type": "text",
    "id": "o0Kh-87cvYzG"
   },
   "source": [
    "# Dealing with Incorrect Registration Year Data\n"
   ]
  },
  {
   "cell_type": "markdown",
   "metadata": {
    "colab_type": "text",
    "id": "A0HZRH3wvaUV"
   },
   "source": [
    "One thing that stands out from the exploration we did in the last section is that the **registration_year** column contains some odd values:\n",
    "\n",
    "- The minimum value is 1000, before cars were invented\n",
    "- The maximum value is 9999, many years into the future\n",
    "\n",
    "Because a car can't be first registered before the listing was seen, any vehicle with a registration year above 2016 is definitely inaccurate. Determining the earliest valid year is more difficult. Realistically, it could be somewhere in the first few decades of the 1900s.\n",
    "\n",
    "Let's count the number of listings with cars that fall outside the 1900 - 2016 interval and see if it's safe to remove those rows entirely, or if we need more custom logic.\n",
    "\n",
    "\n",
    "**Exercise**\n",
    "\n",
    "<left><img width=\"100\" src=\"https://drive.google.com/uc?export=view&id=1E8tR7B9YYUXsU_rddJAyq0FrM0MSelxZ\"></left>\n",
    "\n",
    "\n",
    "- Decide which the highest and lowest acceptable values are for the **registration_year** column.\n",
    "  - Write a markdown cell explaining your decision and why.\n",
    "- Remove the values outside those upper and lower bounds and calculate the distribution of the remaining values using **Series.value_counts(normalize=True)**.\n",
    "  - Write a markdown cell explaining your observations.\n"
   ]
  },
  {
   "cell_type": "code",
   "execution_count": null,
   "metadata": {
    "colab": {},
    "colab_type": "code",
    "id": "C9cCwSrjv8be"
   },
   "outputs": [],
   "source": [
    "# put your code here"
   ]
  },
  {
   "cell_type": "markdown",
   "metadata": {
    "colab_type": "text",
    "id": "f-s-lroVwbr9"
   },
   "source": [
    "# Exploring Price by Brand\n"
   ]
  },
  {
   "cell_type": "markdown",
   "metadata": {
    "colab_type": "text",
    "id": "1IKJOb4IwfUW"
   },
   "source": [
    "One of the analysis techniques we learned in this course is aggregation. When working with data on cars, it's natural to explore variations across different car brands. We can use aggregation to understand the **brand** column.\n",
    "\n",
    "If you recall in an earlier lesson, we explored how to use loops to perform aggregation. Here's what the process looks like:\n",
    "\n",
    "\n",
    "- Identify the unique values we want to aggregate by\n",
    "- Create an empty dictionary to store our aggregate data\n",
    "- Loop over the unique values, and for each:\n",
    "    - Subset the dataframe by the unique values\n",
    "    - Calculate the mean of whichever column we're interested in\n",
    "    - Assign the val/mean to the dict as k/v.\n",
    "    \n",
    "    \n",
    "**Exercise**\n",
    "\n",
    "<left><img width=\"100\" src=\"https://drive.google.com/uc?export=view&id=1E8tR7B9YYUXsU_rddJAyq0FrM0MSelxZ\"></left>\n",
    "\n",
    "\n",
    "- Explore the unique values in the **brand** column, and decide on which brands you want to aggregate by.\n",
    "  - You might want to select the top 20, or you might want to select those that have over a certain percentage of the total values (e.g. > 5%).\n",
    "  - Remember that **Series.value_counts()** produces a series with index labels, so you can use **Series.index** attribute to access the labels, should you wish.\n",
    "- Write a short paragraph describing the brand data, and explaining which brands you've chosen to aggregate on.\n",
    "- Create an empty dictionary to hold your aggregate data.\n",
    "  - Loop over your selected brands, and assign the mean price to the dictionary, with the brand name as the key.\n",
    "  - Print your dictionary of aggregate data, and write a paragraph analyzing the results."
   ]
  },
  {
   "cell_type": "code",
   "execution_count": null,
   "metadata": {
    "colab": {},
    "colab_type": "code",
    "id": "k-Smmf4Axb7g"
   },
   "outputs": [],
   "source": [
    "# put your code here"
   ]
  },
  {
   "cell_type": "markdown",
   "metadata": {
    "colab_type": "text",
    "id": "0wL30SkbxuJW"
   },
   "source": [
    "# Storing Aggregate Data in a DataFrame"
   ]
  },
  {
   "cell_type": "markdown",
   "metadata": {
    "colab_type": "text",
    "id": "z-m3FNApxwpJ"
   },
   "source": [
    "In the last section, we aggregated across brands to understand mean price. We observed that in the top 5 brands, there's a distinct price gap.\n",
    "\n",
    "- Audi, BMW and Mercedes Benz are more expensive\n",
    "- Ford and Opel are less expensive\n",
    "- Volkswagen is in between\n",
    "\n",
    "For the top 5 brands, let's use aggregation to understand the average mileage for those cars and if there's any visible link with mean price. While our natural instinct may be to display both aggregated series objects and visually compare them, this has a few limitations:\n",
    "\n",
    "- it's difficult to compare more than two aggregate series objects if we want to extend to more columns\n",
    "- we can't compare more than a few rows from each series object\n",
    "- we can only sort by the index (brand name) of both series objects so we can easily make visual comparisons\n",
    "\n",
    "\n",
    "Instead, we can combine the data from both series objects into a single dataframe (with a shared index) and display the dataframe directly. To do this, we'll need to learn two pandas methods:\n",
    "\n",
    "- [pandas series constructor](https://pandas.pydata.org/pandas-docs/stable/generated/pandas.Series.html)\n",
    "- [pandas dataframe constructor](https://pandas.pydata.org/pandas-docs/stable/generated/pandas.DataFrame.html)\n",
    "\n",
    "Here's an example of the series constructor that uses the **brand_mean_prices** dictionary:\n",
    "\n",
    "\n",
    "```python\n",
    "bmp_series = pd.Series(brand_mean_prices)\n",
    "bmp_series\n",
    "\n",
    ">>>\n",
    "audi             9336\n",
    "bmw              8332\n",
    "ford             3749\n",
    "mercedes_benz    8628\n",
    "opel             2975\n",
    "volkswagen       5402\n",
    "dtype: int64\n",
    "```\n",
    "\n",
    "\n",
    "The keys in the dictionary bceame the index in the series object. We can then create a single-column dataframe from this series object. We need to use the **columns** parameter when calling the dataframe constructor (which accepts a array-like object) to specify the column name (or the column name will be set to 0 by default):\n",
    "\n",
    "```python\n",
    "df = pd.DataFrame(bmp_series, columns=['mean_mileage'])\n",
    "df\n",
    "```\n",
    "\n",
    "\n",
    "| _| mean_mileage  |      \n",
    "|---------------|------|\n",
    "| bmw           | 8332 |\n",
    "| mercedes_benz | 8628 |\n",
    "| opel          | 2975 |\n",
    "| audi          | 9336 |\n",
    "| volkswagen    | 5402 |\n",
    "| ford          | 3749 |\n",
    "\n",
    "\n",
    "**Exercise**\n",
    "\n",
    "<left><img width=\"100\" src=\"https://drive.google.com/uc?export=view&id=1E8tR7B9YYUXsU_rddJAyq0FrM0MSelxZ\"></left>\n",
    "\n",
    "\n",
    "- Use the loop method from the last screen to calculate the mean mileage and mean price for each of the top brands, storing the results in a dictionary.\n",
    "- Convert both dictionaries to series objects, using the series constructor.\n",
    "- Create a dataframe from the first series object using the dataframe constructor.\n",
    "- Assign the other series as a new column in this dataframe.\n",
    "Pretty print the dataframe, and write a paragraph analyzing the aggregate data.\n",
    "\n",
    "\n"
   ]
  },
  {
   "cell_type": "code",
   "execution_count": null,
   "metadata": {
    "colab": {},
    "colab_type": "code",
    "id": "5s_nLWR_yQ0W"
   },
   "outputs": [],
   "source": [
    "# put your code here"
   ]
  }
 ],
 "metadata": {
  "colab": {
   "name": "Introduction.ipynb",
   "provenance": [],
   "version": "0.3.2"
  },
  "kernelspec": {
   "display_name": "Python 3",
   "language": "python",
   "name": "python3"
  },
  "language_info": {
   "codemirror_mode": {
    "name": "ipython",
    "version": 3
   },
   "file_extension": ".py",
   "mimetype": "text/x-python",
   "name": "python",
   "nbconvert_exporter": "python",
   "pygments_lexer": "ipython3",
   "version": "3.7.0"
  }
 },
 "nbformat": 4,
 "nbformat_minor": 2
}
