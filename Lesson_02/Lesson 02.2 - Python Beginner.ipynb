{
 "cells": [
  {
   "cell_type": "markdown",
   "metadata": {
    "colab_type": "text",
    "id": "9ApEfm2w7Fnc",
    "toc-hr-collapsed": false
   },
   "source": [
    "# Python Basic\n"
   ]
  },
  {
   "cell_type": "markdown",
   "metadata": {
    "colab_type": "text",
    "id": "iwU3luKAN7mS",
    "toc-hr-collapsed": false
   },
   "source": [
    "\n",
    "## Programming And Data Science\n",
    "\n",
    "Data science involves processing, analyzing, and visualizing data. While some tools like Microsoft Excel allow us to perform basic data science tasks, they're limited to the functionality built in to the user interface. If you want to work with datasets that aren't structured like a spreadsheet or create entire new data visualizations from scratch, you'll need to become proficient in **programming**. Instead of using a program written by others that can solve a narrow set of tasks, you can create your own programs that can solve your specific problems.\n",
    "\n",
    "Programming involves organizing a collection of instructions into a program for a computer to carry out. To express these instructions, we use a **programming language**. In this track, we focus on a language called Python. **Python** is a general-purpose programming language that is becoming more and more popular for doing **data science**. Companies worldwide are using Python to harvest insights from their data and get a competitive edge.\n",
    "\n",
    "\n",
    "**Python** is a popular choice for working with data because it has good support for:\n",
    "\n",
    "- handling large datasets\n",
    "- working with common mathematical functions\n",
    "- creating powerful data visualizations\n",
    "\n",
    "\n",
    "What you will learn\n",
    "- Python versions\n",
    "- Expressions\n",
    "- Data types\n",
    "- List and Operations\n",
    "- Files and Loops\n",
    "- Boolean and Statements\n",
    "- Challenge\n"
   ]
  },
  {
   "cell_type": "markdown",
   "metadata": {
    "colab_type": "text",
    "id": "rVxsWmwe80-L"
   },
   "source": [
    "\n",
    "\n",
    "### Python version\n",
    "\n",
    "There are currently two different supported versions of Python, 2.7 and 3.6. Python 3.x introduced many backwards-incompatible changes to the language, so code written for 2.7 may not work under 3.x and vice versa. For this class all code will use Python 3.6. \n",
    "\n",
    "https://wiki.python.org/moin/Python2orPython3\n",
    "\n",
    "\"Python 2.x is legacy, Python 3.x is the present and future of the language\"\"\n",
    "\n"
   ]
  },
  {
   "cell_type": "code",
   "execution_count": null,
   "metadata": {
    "colab": {
     "autoexec": {
      "startup": false,
      "wait_interval": 0
     },
     "base_uri": "https://localhost:8080/",
     "height": 51
    },
    "colab_type": "code",
    "executionInfo": {
     "elapsed": 890,
     "status": "ok",
     "timestamp": 1533319430799,
     "user": {
      "displayName": "Ivanovitch Silva",
      "photoUrl": "//lh4.googleusercontent.com/-baHwkIBEacY/AAAAAAAAAAI/AAAAAAAAFo0/aWRaXNQgy7Q/s50-c-k-no/photo.jpg",
      "userId": "116628038672433119071"
     },
     "user_tz": 180
    },
    "id": "wBfLeC-1815Y",
    "outputId": "74d1a85a-3716-4f38-ea5b-dbf496b95c54"
   },
   "outputs": [],
   "source": [
    "import sys\n",
    "print(sys.version)"
   ]
  },
  {
   "cell_type": "markdown",
   "metadata": {
    "colab_type": "text",
    "id": "C9w9vTZCAQDt"
   },
   "source": [
    "### Expressions\n",
    "\n",
    "To introduce the basic concepts in Python, we'll start by understanding how to evaluate basic **expressions**. If you've ever used a calculator, you're familiar with the process of writing and running mathematical expressions like **4 + 5** or **(1 + 2 + 3) / 3**. Your calculator evaluates what you entered and immediately returns the result.\n",
    "\n"
   ]
  },
  {
   "cell_type": "code",
   "execution_count": null,
   "metadata": {
    "colab": {
     "autoexec": {
      "startup": false,
      "wait_interval": 0
     },
     "base_uri": "https://localhost:8080/",
     "height": 34
    },
    "colab_type": "code",
    "executionInfo": {
     "elapsed": 728,
     "status": "ok",
     "timestamp": 1533320265842,
     "user": {
      "displayName": "Ivanovitch Silva",
      "photoUrl": "//lh4.googleusercontent.com/-baHwkIBEacY/AAAAAAAAAAI/AAAAAAAAFo0/aWRaXNQgy7Q/s50-c-k-no/photo.jpg",
      "userId": "116628038672433119071"
     },
     "user_tz": 180
    },
    "id": "SHGkr0VmAnAt",
    "outputId": "072f2f10-5189-4a19-eb7f-025661f7b2a8"
   },
   "outputs": [],
   "source": [
    "4+5"
   ]
  },
  {
   "cell_type": "code",
   "execution_count": null,
   "metadata": {
    "colab": {
     "autoexec": {
      "startup": false,
      "wait_interval": 0
     },
     "base_uri": "https://localhost:8080/",
     "height": 34
    },
    "colab_type": "code",
    "executionInfo": {
     "elapsed": 664,
     "status": "ok",
     "timestamp": 1533320288712,
     "user": {
      "displayName": "Ivanovitch Silva",
      "photoUrl": "//lh4.googleusercontent.com/-baHwkIBEacY/AAAAAAAAAAI/AAAAAAAAFo0/aWRaXNQgy7Q/s50-c-k-no/photo.jpg",
      "userId": "116628038672433119071"
     },
     "user_tz": 180
    },
    "id": "pBq5F4AYArGc",
    "outputId": "bc4ce49d-9f73-4fc3-8159-f6ed43144974"
   },
   "outputs": [],
   "source": [
    "(1+2+3)/3"
   ]
  },
  {
   "cell_type": "markdown",
   "metadata": {
    "colab_type": "text",
    "id": "xNTSJS9GAmTP"
   },
   "source": [
    "Python has multiple arithmetic operators that allow you to express calculations between values. In the following diagram is a list of the main arithmetic operators, some simple expressions that use each operator, and the result of each expression if we ran it in the Python console."
   ]
  },
  {
   "cell_type": "markdown",
   "metadata": {
    "colab_type": "text",
    "id": "hmWWcN_uAP_x"
   },
   "source": [
    "<center>\n",
    "<img width=\"600\" src=\"https://drive.google.com/uc?export=view&id=1PegHzSWBTzLRFDwoizeuJ1YqCzDGAEgn\">\n",
    "</center>"
   ]
  },
  {
   "cell_type": "code",
   "execution_count": null,
   "metadata": {
    "colab": {
     "autoexec": {
      "startup": false,
      "wait_interval": 0
     },
     "base_uri": "https://localhost:8080/",
     "height": 51
    },
    "colab_type": "code",
    "executionInfo": {
     "elapsed": 662,
     "status": "ok",
     "timestamp": 1533321962566,
     "user": {
      "displayName": "Ivanovitch Silva",
      "photoUrl": "//lh4.googleusercontent.com/-baHwkIBEacY/AAAAAAAAAAI/AAAAAAAAFo0/aWRaXNQgy7Q/s50-c-k-no/photo.jpg",
      "userId": "116628038672433119071"
     },
     "user_tz": 180
    },
    "id": "wWodsITzAP8W",
    "outputId": "c4611645-56d2-4b1e-82ce-9afad783e4da"
   },
   "outputs": [],
   "source": [
    "exp_1 = 5 + 5 + 5 / 3\n",
    "exp_2 = (5 + 5 + 5) / 3\n",
    "\n",
    "print(\"Exp #1: {0:.2f} \\nExp #2: {1:.2f}\".format(exp_1,exp_2))"
   ]
  },
  {
   "cell_type": "markdown",
   "metadata": {
    "colab_type": "text",
    "id": "ULWBK7WXHPIm"
   },
   "source": [
    "Assuming we'd explore parts of a dataset on U.S. crime rates. For each city in this dataset, the number of violent crimes that occurred in 2012 per 100,000 people are listed next to the city. Here's what the first 5 rows of that dataset look like:\n",
    "\n",
    "| City | Crime rates  |\n",
    "|-------------|------|\n",
    "| Albuquerque | 749  |\n",
    "| Anaheim     | 371  |\n",
    "| Anchorage   | 828  |\n",
    "| Arlington   | 503  |\n",
    "| Atlanta     | 1379 |\n",
    "\n",
    "Let's calculate the average of these 5 violent crime rates.\n",
    "\n",
    "**Exercise**\n",
    "\n",
    "<left><img align=\"left\" width=\"100\" src=\"https://drive.google.com/uc?export=view&id=1E8tR7B9YYUXsU_rddJAyq0FrM0MSelxZ\" /></left>\n",
    "\n",
    "1. Calculates the average of **749, 371, 828, 503, 1379** and assign it to variable **crime_rates_avg**. \n",
    "2. Display the result using the print() function.\n",
    "\n"
   ]
  },
  {
   "cell_type": "code",
   "execution_count": null,
   "metadata": {
    "colab": {
     "autoexec": {
      "startup": false,
      "wait_interval": 0
     }
    },
    "colab_type": "code",
    "id": "zMyM9eneK107"
   },
   "outputs": [],
   "source": [
    "# put your code here\n"
   ]
  },
  {
   "cell_type": "markdown",
   "metadata": {
    "colab_type": "text",
    "id": "ZfQJsmBI8zkD"
   },
   "source": [
    "\n",
    "### Data types\n",
    "\n",
    "We've been working with whole numbers like **1379**, which are known as **integers**. The two most common numerical types in Python are **integer** and **float**, which is used to represent fractional (or decimal) values. **3.5** and **4.1111** are both examples of float values.\n",
    "\n",
    "The most common non-numerical type is a **string**, which is used to represent text. To represent a piece of text as a string value, surround the text with either single quotes (') or double quotes (\"). **'Hello'** and **\"Hello World!\"** are both examples of **string** values."
   ]
  },
  {
   "cell_type": "code",
   "execution_count": null,
   "metadata": {
    "colab": {
     "autoexec": {
      "startup": false,
      "wait_interval": 0
     },
     "base_uri": "https://localhost:8080/",
     "height": 34
    },
    "colab_type": "code",
    "executionInfo": {
     "elapsed": 866,
     "status": "ok",
     "timestamp": 1533336051546,
     "user": {
      "displayName": "Ivanovitch Silva",
      "photoUrl": "//lh4.googleusercontent.com/-baHwkIBEacY/AAAAAAAAAAI/AAAAAAAAFo0/aWRaXNQgy7Q/s50-c-k-no/photo.jpg",
      "userId": "116628038672433119071"
     },
     "user_tz": 180
    },
    "id": "w9s0xpvn8zkb",
    "outputId": "2ec68846-c662-44c1-c01d-076fb3558032"
   },
   "outputs": [],
   "source": [
    "print(\"Hello\")"
   ]
  },
  {
   "cell_type": "markdown",
   "metadata": {
    "colab_type": "text",
    "id": "91Ip15Hy_cyv"
   },
   "source": [
    "Unlike variable names, strings can contain special characters and spaces. You can assign a string to a variable in the same way you'd assign it a numeric value:"
   ]
  },
  {
   "cell_type": "code",
   "execution_count": null,
   "metadata": {
    "colab": {
     "autoexec": {
      "startup": false,
      "wait_interval": 0
     },
     "base_uri": "https://localhost:8080/",
     "height": 34
    },
    "colab_type": "code",
    "executionInfo": {
     "elapsed": 697,
     "status": "ok",
     "timestamp": 1533336767194,
     "user": {
      "displayName": "Ivanovitch Silva",
      "photoUrl": "//lh4.googleusercontent.com/-baHwkIBEacY/AAAAAAAAAAI/AAAAAAAAFo0/aWRaXNQgy7Q/s50-c-k-no/photo.jpg",
      "userId": "116628038672433119071"
     },
     "user_tz": 180
    },
    "id": "gr2UEN0x_ggJ",
    "outputId": "bbe6919b-5c67-45da-9810-9dad5f010182"
   },
   "outputs": [],
   "source": [
    "atlanta = \"Atlanta\"\n",
    "atlanta"
   ]
  },
  {
   "cell_type": "markdown",
   "metadata": {
    "colab_type": "text",
    "id": "q2QeWmZ-_5Po"
   },
   "source": [
    "You may have noticed a pattern here. **Numerical values like integers and floats don't require quotation marks, but strings do**. The way in which you enter a value tells Python what data type it is. Python will use the data type to determine how the value should be handled. For example, Python allows integer variables to be divided, but not string variables. We'll learn more about that soon, but first let's practice some of the concepts you've learned so far.\n",
    "\n"
   ]
  },
  {
   "cell_type": "markdown",
   "metadata": {
    "colab_type": "text",
    "id": "Ooifu2b9ABAB"
   },
   "source": [
    "**Exercise**\n",
    "\n",
    "<left><img align=\"left\" width=\"100\" src=\"https://drive.google.com/uc?export=view&id=1E8tR7B9YYUXsU_rddJAyq0FrM0MSelxZ\" /></left>\n",
    "\n",
    "1. Assign the string value **\"Atlanta\"** to **atlanta_string**.\n",
    "2. Assign the float value **1379.5** to **atlanta_float**.\n",
    "3. Print all variables using print(). "
   ]
  },
  {
   "cell_type": "code",
   "execution_count": null,
   "metadata": {
    "colab": {
     "autoexec": {
      "startup": false,
      "wait_interval": 0
     }
    },
    "colab_type": "code",
    "id": "8ZyyGqEKAbTG"
   },
   "outputs": [],
   "source": [
    "# put your code here"
   ]
  },
  {
   "cell_type": "markdown",
   "metadata": {
    "colab_type": "text",
    "id": "LvredkywAoAH"
   },
   "source": [
    "**The Type function**\n",
    "\n",
    "We can look up the data type of a variable's value using the **type()** function. Similar to the **print()** function, you pass a value (or variable) into the parentheses. Unlike the **print()** statement, however, the **type()** statement won't display anything. Instead, it will return the data type as a value, which can be assigned to another variable or displayed using the **print()** statement:"
   ]
  },
  {
   "cell_type": "code",
   "execution_count": null,
   "metadata": {
    "colab": {
     "autoexec": {
      "startup": false,
      "wait_interval": 0
     },
     "base_uri": "https://localhost:8080/",
     "height": 34
    },
    "colab_type": "code",
    "executionInfo": {
     "elapsed": 706,
     "status": "ok",
     "timestamp": 1533337146059,
     "user": {
      "displayName": "Ivanovitch Silva",
      "photoUrl": "//lh4.googleusercontent.com/-baHwkIBEacY/AAAAAAAAAAI/AAAAAAAAFo0/aWRaXNQgy7Q/s50-c-k-no/photo.jpg",
      "userId": "116628038672433119071"
     },
     "user_tz": 180
    },
    "id": "Ndra_L0PA-uK",
    "outputId": "c69a5ffb-51a2-4e51-bb06-7cb7f4df12c2"
   },
   "outputs": [],
   "source": [
    "hello = 'Hello'\n",
    "hello_type = type(hello)\n",
    "print(hello_type)"
   ]
  },
  {
   "cell_type": "markdown",
   "metadata": {
    "colab_type": "text",
    "id": "INhWttw8BKGl"
   },
   "source": [
    "This will return the string **class 'str'**, which means that the value associated with **hello** is a string (**str** is short for string). To avoid having to create a variable each time, you can chain the **print()** and **type()** statements:"
   ]
  },
  {
   "cell_type": "code",
   "execution_count": null,
   "metadata": {
    "colab": {
     "autoexec": {
      "startup": false,
      "wait_interval": 0
     },
     "base_uri": "https://localhost:8080/",
     "height": 34
    },
    "colab_type": "code",
    "executionInfo": {
     "elapsed": 703,
     "status": "ok",
     "timestamp": 1533337374997,
     "user": {
      "displayName": "Ivanovitch Silva",
      "photoUrl": "//lh4.googleusercontent.com/-baHwkIBEacY/AAAAAAAAAAI/AAAAAAAAFo0/aWRaXNQgy7Q/s50-c-k-no/photo.jpg",
      "userId": "116628038672433119071"
     },
     "user_tz": 180
    },
    "id": "YV7zrqTdB4Zb",
    "outputId": "af9213f3-40f1-4494-e413-a1e7befd313b"
   },
   "outputs": [],
   "source": [
    "hello = 'Hello'\n",
    "print(type(hello))"
   ]
  },
  {
   "cell_type": "markdown",
   "metadata": {
    "colab_type": "text",
    "id": "LoVm-SEUCE4o"
   },
   "source": [
    "**Exercise**\n",
    "\n",
    "<left><img align=\"left\" width=\"100\" src=\"https://drive.google.com/uc?export=view&id=1E8tR7B9YYUXsU_rddJAyq0FrM0MSelxZ\" /></left>\n",
    "\n",
    "\n",
    "1. Display the type of **atlanta_string**."
   ]
  },
  {
   "cell_type": "code",
   "execution_count": null,
   "metadata": {
    "colab": {
     "autoexec": {
      "startup": false,
      "wait_interval": 0
     }
    },
    "colab_type": "code",
    "id": "AffwblplDvsZ"
   },
   "outputs": [],
   "source": [
    "# put your code  here"
   ]
  },
  {
   "cell_type": "markdown",
   "metadata": {
    "colab_type": "text",
    "id": "Yja3ZUGXG6bf",
    "toc-hr-collapsed": true
   },
   "source": [
    "## Using A List To Store Multiple Values\n",
    "\n",
    "So far, we've been storing individual values in variables. Often in data science, we're working with thousands of data points that are grouped together in a certain way and have an order to them. We need a container that can hold multiple values that we can use to perform operations on.\n",
    "\n",
    "We can use a **list**, which is an object that represents a sequence of values. For example, we can represent the cities in our dataset as a list as a sequence of strings (**\"Albuquerque\", \"Anaheim\"**, and so on).\n",
    "\n",
    "<img width=\"300\" src=\"https://drive.google.com/uc?export=view&id=1zsaj8TYl5PgLmkTFrWhhXprhmDY5HPqm\">\n",
    "\n",
    "\n",
    "The most basic way to make a list is to create an empty one first, and then adding values to it. To create an empty list, assign a pair of empty brackets **[ ]** to a variable:\n"
   ]
  },
  {
   "cell_type": "code",
   "execution_count": null,
   "metadata": {
    "colab": {
     "autoexec": {
      "startup": false,
      "wait_interval": 0
     }
    },
    "colab_type": "code",
    "id": "CyeukvF6IZYH"
   },
   "outputs": [],
   "source": [
    "cities = []"
   ]
  },
  {
   "cell_type": "markdown",
   "metadata": {
    "colab_type": "text",
    "id": "S45OOfN_7Fnj"
   },
   "source": [
    "To add values to a list object, use the **list.append()** method. This method accepts a value and adds it to a list object. Unlike functions, methods are called using dot notation **( . )** on a specific object.\n",
    "\n",
    "Because **cities** is a list object, the Python interpreter knows that **list.append()** can be used. You can see the methods available to list objects [here](https://docs.python.org/3/tutorial/datastructures.html#more-on-lists).\n",
    "\n",
    "In the following code snippet, we use the **list.append()** method to add the string **\"Albuquerque\"** then the string **\"Anaheim\"** to the list cities:"
   ]
  },
  {
   "cell_type": "code",
   "execution_count": null,
   "metadata": {
    "colab": {
     "autoexec": {
      "startup": false,
      "wait_interval": 0
     },
     "base_uri": "https://localhost:8080/",
     "height": 51
    },
    "colab_type": "code",
    "executionInfo": {
     "elapsed": 722,
     "status": "ok",
     "timestamp": 1533339334920,
     "user": {
      "displayName": "Ivanovitch Silva",
      "photoUrl": "//lh4.googleusercontent.com/-baHwkIBEacY/AAAAAAAAAAI/AAAAAAAAFo0/aWRaXNQgy7Q/s50-c-k-no/photo.jpg",
      "userId": "116628038672433119071"
     },
     "user_tz": 180
    },
    "id": "Cdpy8GIl7Fnj",
    "outputId": "a9d71bd0-09bc-413f-edef-f5c3f6004771"
   },
   "outputs": [],
   "source": [
    "cities.append(\"Albuquerque\")\n",
    "cities.append(\"Anaheim\")\n",
    "print(cities)\n",
    "print(type(cities))"
   ]
  },
  {
   "cell_type": "markdown",
   "metadata": {
    "colab_type": "text",
    "id": "ts8QpFL27Fnn"
   },
   "source": [
    "Each time we call **list.append()**, the values in the **list cities** are updated.\n",
    "\n",
    "<img width=\"500\" src=\"https://drive.google.com/uc?export=view&id=16c7RFrqN9HKdXClIfEAQHn1GBYEcB02-\">\n"
   ]
  },
  {
   "cell_type": "markdown",
   "metadata": {
    "colab_type": "text",
    "id": "Pti7yQkW7Fno"
   },
   "source": [
    "Lastly, **list objects can store values of multiple types**. In the following code example, we append a city name first then its violent crime rate:"
   ]
  },
  {
   "cell_type": "code",
   "execution_count": null,
   "metadata": {
    "colab": {
     "autoexec": {
      "startup": false,
      "wait_interval": 0
     },
     "base_uri": "https://localhost:8080/",
     "height": 34
    },
    "colab_type": "code",
    "executionInfo": {
     "elapsed": 742,
     "status": "ok",
     "timestamp": 1533339607519,
     "user": {
      "displayName": "Ivanovitch Silva",
      "photoUrl": "//lh4.googleusercontent.com/-baHwkIBEacY/AAAAAAAAAAI/AAAAAAAAFo0/aWRaXNQgy7Q/s50-c-k-no/photo.jpg",
      "userId": "116628038672433119071"
     },
     "user_tz": 180
    },
    "id": "c4uWN_F4KWYk",
    "outputId": "54194f43-5fa8-4f46-eb70-ed7921779e01"
   },
   "outputs": [],
   "source": [
    "cities = []\n",
    "cities.append(\"Albuquerque\")\n",
    "cities.append(749)\n",
    "cities.append(\"Anaheim\")\n",
    "cities.append(371)\n",
    "\n",
    "print(cities)"
   ]
  },
  {
   "cell_type": "markdown",
   "metadata": {
    "colab_type": "text",
    "id": "vopeeJj2LA_h"
   },
   "source": [
    "**Exercise**\n",
    "\n",
    "<left><img align=\"left\" width=\"100\" src=\"https://drive.google.com/uc?export=view&id=1E8tR7B9YYUXsU_rddJAyq0FrM0MSelxZ\" /></left>\n",
    "\n",
    "1. Create two empty lists, **cities** and **crime_rates**.\n",
    "2. Add the following strings to the list **cities**, in the following order:\n",
    "   - \"Albuquerque\"\n",
    "   - \"Anaheim\"\n",
    "   - \"Anchorage\"\n",
    "   - \"Arlington\"\n",
    "   - \"Atlanta\"\n",
    "3. Add the following integer values to the list **crime_rates**, in the following order:\n",
    "  - 749\n",
    "  - 371\n",
    "  - 828\n",
    "  - 503\n",
    "  - 1379\n",
    "4. Use the **print()** function to display both lists."
   ]
  },
  {
   "cell_type": "code",
   "execution_count": null,
   "metadata": {
    "colab": {
     "autoexec": {
      "startup": false,
      "wait_interval": 0
     }
    },
    "colab_type": "code",
    "id": "2WYDwkZiL01H"
   },
   "outputs": [],
   "source": [
    "# put your code here"
   ]
  },
  {
   "cell_type": "markdown",
   "metadata": {
    "colab_type": "text",
    "id": "USZCXmka7Fnq"
   },
   "source": [
    "### Creating Lists With Values\n",
    "\n",
    "In the last step, we learned how to populate lists by:\n",
    "\n",
    "- creating an empty list: **months = [ ]**\n",
    "- then adding values to the list using the **list.append()** method: **months.append(1)**\n",
    "\n",
    "\n",
    "This can become tedious when working with multiple lists, because you have to write many lines of code (one for each value in the list). You can instead create a list and populate a values all in one line using the following syntax:\n",
    "\n",
    "```python\n",
    "cities = [\"Albuquerque\", \"Anaheim\", \"Anchorage\", \"Arlington\", \"Atlanta\"]\n",
    "```\n",
    "\n",
    "You may be wondering why we would ever want to create an empty list and add values manually. That technique is useful when you only want to add values that meet specific criteria. In that case, you need an empty placeholder list that you can append items to individually. As you work with lists, you'll start to learn the best technique for a given situation."
   ]
  },
  {
   "cell_type": "markdown",
   "metadata": {
    "colab_type": "text",
    "id": "RIm0Wy1k7Fns"
   },
   "source": [
    "**Exercise**\n",
    "\n",
    "<left><img align=\"left\" width=\"100\" src=\"https://drive.google.com/uc?export=view&id=1E8tR7B9YYUXsU_rddJAyq0FrM0MSelxZ\" /></left>\n",
    "\n",
    "1. Create the list **crime_rates** again, but this time using the technique we just learned.\n",
    "2. This list should contain the following values in the following order:\n",
    "  - 749\n",
    "  - 371\n",
    "  - 828\n",
    "  - 503\n",
    "  - 1379"
   ]
  },
  {
   "cell_type": "code",
   "execution_count": null,
   "metadata": {
    "colab": {
     "autoexec": {
      "startup": false,
      "wait_interval": 0
     }
    },
    "colab_type": "code",
    "id": "yW95U_A6Nbhs"
   },
   "outputs": [],
   "source": [
    "# put your code here"
   ]
  },
  {
   "cell_type": "markdown",
   "metadata": {
    "colab_type": "text",
    "id": "CJ_PUXxrONwb"
   },
   "source": [
    "### Accessing Elements In A List\n",
    "\n",
    "\n",
    "Now that we know how to create a list and add values to it, let's learn how to access and work with the values in a list we've created. Each value in the list has an **index**, or position, associated with it. A list starts at index __0__ and goes all the way to one less than the total number of values, or elements, in the list. If you have a list with **5** values, for example, the indexes will range from **0 to 4**.\n",
    "\n",
    "The main quirk of list indexes is that to access the first element in a list, we actually use the index value 0 - not 1. The second element is accessed with index value 1, the third element with index value 2, and so on. This is known as **zero indexing**. While many programming languages use zero indexing, some, like MATLAB, do not.\n",
    "\n",
    "<img width=\"300\" src=\"https://drive.google.com/uc?export=view&id=16lnTG7VA6CmsqQkrMhBHOUSV5TWEynJO\">\n",
    "\n",
    "To return the value that has a given index, pass the integer for the index into bracket notation. In the following code, we access the first, second, and fifth elements in the list **crime_rates**. We assign each of the accessed values to new variables:\n",
    "\n",
    "```python\n",
    "crime_rates = [749, 371, 828, 503, 1379]\n",
    "first_value = crime_rates[0]\n",
    "second_value = crime_rates[1]\n",
    "fifth_value = crime_rates[4]\n",
    "```\n",
    "\n",
    "The Python interpreter expects that the bracketed integer value will be within the list's range of indexes. Passing in a non-integer value or an integer value outside of the range of indexes (e.g. index 7 for a list only containing 5 elements) will result in an error.\n"
   ]
  },
  {
   "cell_type": "code",
   "execution_count": null,
   "metadata": {
    "colab": {
     "autoexec": {
      "startup": false,
      "wait_interval": 0
     },
     "base_uri": "https://localhost:8080/",
     "height": 181
    },
    "colab_type": "code",
    "executionInfo": {
     "elapsed": 900,
     "status": "error",
     "timestamp": 1533342852547,
     "user": {
      "displayName": "Ivanovitch Silva",
      "photoUrl": "//lh4.googleusercontent.com/-baHwkIBEacY/AAAAAAAAAAI/AAAAAAAAFo0/aWRaXNQgy7Q/s50-c-k-no/photo.jpg",
      "userId": "116628038672433119071"
     },
     "user_tz": 180
    },
    "id": "1Sb-7-HbUJrS",
    "outputId": "03d8c173-06a2-4268-e7cf-eaca7107d12e"
   },
   "outputs": [],
   "source": [
    "crime_rates = [749, 371, 828, 503, 1379]\n",
    "crime_rates[7]"
   ]
  },
  {
   "cell_type": "markdown",
   "metadata": {
    "colab_type": "text",
    "id": "8VozKGe1UJoV"
   },
   "source": [
    "**Exercise**\n",
    "\n",
    "<left><img align=\"left\" width=\"100\" src=\"https://drive.google.com/uc?export=view&id=1E8tR7B9YYUXsU_rddJAyq0FrM0MSelxZ\" /></left>\n",
    "\n",
    "1. Select the third element from the list **cities** and assign to the variable **anchorage_str**.\n",
    "2. Select the third element from the list **crime_rates** and assign to the new variable **anchorage_cr**.\n"
   ]
  },
  {
   "cell_type": "code",
   "execution_count": null,
   "metadata": {
    "colab": {
     "autoexec": {
      "startup": false,
      "wait_interval": 0
     }
    },
    "colab_type": "code",
    "id": "4zLX3Ej9UJSk"
   },
   "outputs": [],
   "source": [
    "cities = [\"Albuquerque\", \"Anaheim\", \"Anchorage\", \"Arlington\", \"Atlanta\"]\n",
    "crime_rates = [749, 371, 828, 503, 1379]\n",
    "\n",
    "anchorage_str = cities[2]\n",
    "anchorage_cr = crime_rates[3]"
   ]
  },
  {
   "cell_type": "markdown",
   "metadata": {
    "colab_type": "text",
    "id": "2t6Jjyie7Fnu"
   },
   "source": [
    "\n",
    "### Retrieving The Length Of A List\n",
    "\n",
    "We mentioned earlier that trying to lookup a value at an index that's not in the list will return an error and cause your code to halt. You may be wondering how we avoid accidentally looking up a value that's outside the index of a list. Python's **len()** function returns the **length** of a list, or the number of elements in that list. The function returns this value as an integer:\n",
    "\n",
    "```python\n",
    "crime_rates = [749, 371, 828, 503, 1379]\n",
    "len_cr = len(crime_rates)  # Points to the integer value 5.\n",
    "```\n",
    "\n",
    "If we're ever unsure about the number of elements in a list, we can pass the list into the **len()** function. Because the **len()** function returns an integer, we can subtract 1 from this number to retrieve the index of the last element.\n"
   ]
  },
  {
   "cell_type": "markdown",
   "metadata": {
    "colab_type": "text",
    "id": "SbNjfZEwWcoI"
   },
   "source": [
    "\n",
    "```python\n",
    "crime_rates = [749, 371, 828, 503, 1379]\n",
    "last_index = len(crime_rates) - 1 # last_value contains the value at index 4 (the last value in the list).\n",
    "last_value = crime_rates[last_index]\n",
    "```\n",
    "\n",
    "**Exercise**\n",
    "\n",
    "<left><img align=\"left\" width=\"100\" src=\"https://drive.google.com/uc?export=view&id=1E8tR7B9YYUXsU_rddJAyq0FrM0MSelxZ\" /></left>\n",
    "\n",
    "1. Add the lengths of the **cities** and **crime_rates** list objects and assign the sum to **two_sum**.\n"
   ]
  },
  {
   "cell_type": "code",
   "execution_count": null,
   "metadata": {
    "colab": {
     "autoexec": {
      "startup": false,
      "wait_interval": 0
     }
    },
    "colab_type": "code",
    "id": "vh8sb1EV7Fnv"
   },
   "outputs": [],
   "source": [
    "cities = [\"Albuquerque\", \"Anaheim\", \"Anchorage\", \"Arlington\", \"Atlanta\"]\n",
    "crime_rates = [749, 371, 828, 503, 1379]\n",
    "\n",
    "two_sum = []\n",
    "two_sum.append(len(cities))\n",
    "two_sum.append(len(crime_rates))"
   ]
  },
  {
   "cell_type": "markdown",
   "metadata": {
    "colab_type": "text",
    "id": "3omozk5GZXdp"
   },
   "source": [
    "### Slicing lists\n",
    "\n",
    "If we have a list containing thousands of values and want to retrieve the ones between index **10** and **500**, this would be a lot of work with what we know so far. Fortunately, lists have a feature called **slicing** that allows you to return all of the values between a starting index and an ending index. When you slice a list, you return a new list containing just the values you're interested in. The value at the starting index and all of the values in between will be returned. The value at the ending index will not.\n",
    "\n",
    "To slice a list, pass the starting and ending index positions into the brackets as integer values, separated by a colon ** : **. In the following code, we use the slice 2:4 to return a new list containing the values at indices 2 and 3:"
   ]
  },
  {
   "cell_type": "code",
   "execution_count": null,
   "metadata": {
    "colab": {
     "autoexec": {
      "startup": false,
      "wait_interval": 0
     },
     "base_uri": "https://localhost:8080/",
     "height": 34
    },
    "colab_type": "code",
    "executionInfo": {
     "elapsed": 730,
     "status": "ok",
     "timestamp": 1533343667001,
     "user": {
      "displayName": "Ivanovitch Silva",
      "photoUrl": "//lh4.googleusercontent.com/-baHwkIBEacY/AAAAAAAAAAI/AAAAAAAAFo0/aWRaXNQgy7Q/s50-c-k-no/photo.jpg",
      "userId": "116628038672433119071"
     },
     "user_tz": 180
    },
    "id": "bSBw6V09Z1iW",
    "outputId": "c45b41bd-c9fc-457c-a1c5-91f3c1dee68b"
   },
   "outputs": [],
   "source": [
    "crime_rates = [749, 371, 828, 503, 1379]\n",
    "# The following slice selects values at index 2 and 3, but not 4.\n",
    "two_four = crime_rates[2:4]\n",
    "two_four"
   ]
  },
  {
   "cell_type": "markdown",
   "metadata": {
    "colab_type": "text",
    "id": "eyM5HeJRaCXz"
   },
   "source": [
    "Here's a diagram of the same slice:\n",
    "\n",
    "<img width=\"300\" src=\"https://drive.google.com/uc?export=view&id=1GB0hKIY15h0mjM5jlJKKRXJhlCIaPct9\">\n",
    "\n",
    "\n",
    "In the following code, we use the **len()** function to retrieve the total number of elements in the list **crime_rates**, and use it as the ending index:"
   ]
  },
  {
   "cell_type": "code",
   "execution_count": null,
   "metadata": {
    "colab": {
     "autoexec": {
      "startup": false,
      "wait_interval": 0
     },
     "base_uri": "https://localhost:8080/",
     "height": 34
    },
    "colab_type": "code",
    "executionInfo": {
     "elapsed": 661,
     "status": "ok",
     "timestamp": 1533343929834,
     "user": {
      "displayName": "Ivanovitch Silva",
      "photoUrl": "//lh4.googleusercontent.com/-baHwkIBEacY/AAAAAAAAAAI/AAAAAAAAFo0/aWRaXNQgy7Q/s50-c-k-no/photo.jpg",
      "userId": "116628038672433119071"
     },
     "user_tz": 180
    },
    "id": "9N1jJxX_aoOc",
    "outputId": "29468823-f68b-4d9b-9ca5-d48b3753a1dc"
   },
   "outputs": [],
   "source": [
    "# Values at index 2, 3, 4.\n",
    "ending_index = len(crime_rates)\n",
    "two_to_end = crime_rates[2:ending_index] #or crime_rates[2:]\n",
    "two_to_end"
   ]
  },
  {
   "cell_type": "markdown",
   "metadata": {
    "colab_type": "text",
    "id": "11fn3yFGbGeC"
   },
   "source": [
    "**Exercise**\n",
    "\n",
    "<left><img align=\"left\" width=\"100\" src=\"https://drive.google.com/uc?export=view&id=1E8tR7B9YYUXsU_rddJAyq0FrM0MSelxZ\" /></left>\n",
    "\n",
    "1. Select the second, third, and fourth elements from **cities**, and assign the resulting list to **cities_slice**.\n",
    "2. Select the last two elements in **crime_rates** and assign to **cr_slice**."
   ]
  },
  {
   "cell_type": "code",
   "execution_count": null,
   "metadata": {
    "colab": {
     "autoexec": {
      "startup": false,
      "wait_interval": 0
     }
    },
    "colab_type": "code",
    "id": "qxBWNzbgbUPx"
   },
   "outputs": [],
   "source": [
    "cities = [\"Albuquerque\", \"Anaheim\", \"Anchorage\", \"Arlington\", \"Atlanta\"]\n",
    "crime_rates = [749, 371, 828, 503, 1379]"
   ]
  },
  {
   "cell_type": "markdown",
   "metadata": {
    "colab_type": "text",
    "id": "N3tMjowc7Fnz",
    "toc-hr-collapsed": false
   },
   "source": [
    "# Files and Loops\n"
   ]
  },
  {
   "cell_type": "markdown",
   "metadata": {
    "colab_type": "text",
    "id": "5pJgxuGSXT1M"
   },
   "source": [
    "\n",
    "In this section, we'll learn how to work with files and use loops to iterate through lists. We'll be working with crime rate data for 73 cities in the United States. \n",
    "\n",
    "**Datasets** are often represented in files that you can download and manipulate. Before we get started, we'll first need to learn how to work with files in Python.\n",
    "\n",
    "To open a file in Python, we use the **open()** function. This function accepts two different arguments (inputs) in the parentheses, always in the following order:\n",
    "\n",
    "- the name of the file (as a string)\n",
    "- the mode of working with the file (as a string)\n",
    "\n",
    "\n",
    "We'll learn about the various modes in a later mission. For now, we'll just use **\"r\"**, the mode for reading in files.\n",
    "\n",
    "When entering multiple inputs, separate them with commas (** , ** ). For example, to open a file named **story.txt** in read mode, we write the following:\n",
    "\n",
    "```python\n",
    "open(\"story.txt\", \"r\")\n",
    "```\n",
    "\n",
    "The **open()** function returns a *File* object. This object stores the information we passed in, and allows us to call methods specific to the File class. We can assign the File object to a variable so we can refer to it later:\n",
    "\n",
    "```python\n",
    "a = open(\"story.txt\", \"r\")\n",
    "```\n",
    "\n",
    "Note that the File object, **a**, won't contain the actual contents of the file. It's instead an object that acts as an interface to the file and contains methods for reading in and modifying the file's contents (which we'll cover in the next screen).\n",
    "\n",
    "\n"
   ]
  },
  {
   "cell_type": "markdown",
   "metadata": {
    "colab_type": "text",
    "id": "dQzNjfhf7Fn0"
   },
   "source": [
    "**Exercise**\n",
    "\n",
    "<left><img align=\"left\" width=\"100\" src=\"https://drive.google.com/uc?export=view&id=1E8tR7B9YYUXsU_rddJAyq0FrM0MSelxZ\" /></left>\n",
    "\n",
    "1. Use the **open()** function to create a File object.\n",
    "  - The name of the file to open is **crime_rates.csv**. \n",
    "  - Access the file in read mode (**r**).\n",
    "2. Assign this File object to the variable **f**."
   ]
  },
  {
   "cell_type": "code",
   "execution_count": null,
   "metadata": {
    "colab": {
     "autoexec": {
      "startup": false,
      "wait_interval": 0
     }
    },
    "colab_type": "code",
    "id": "8Z8WEM4dxO5W"
   },
   "outputs": [],
   "source": [
    "# put your code here"
   ]
  },
  {
   "cell_type": "markdown",
   "metadata": {
    "colab_type": "text",
    "id": "fUGaWZ5As8j-"
   },
   "source": [
    "## Reading in Files\n",
    "\n",
    "File objects have a **read()** method that returns a string representation of the text in a file. Unlike the **append()** method from the previous mission, the **read()** method returns a value instead of modifying the object that calls the method. In the following code, we use the **read()** function to read the contents of **\"test.txt\"** into a File object, and assign that object to **g**:\n",
    "\n",
    "```python\n",
    "f = open(\"test.txt\", \"r\")\n",
    "g = f.read()\n",
    "```\n",
    "\n",
    "Since __g__ is a string, we can use the **print()** function to display the contents of the file:\n",
    "\n",
    "```python\n",
    "f = open(\"test.txt\", \"r\")\n",
    "g = f.read()\n",
    "print(g)\n",
    "```\n",
    "\n",
    "**Exercise**\n",
    "\n",
    "<left><img align=\"left\" width=\"100\" src=\"https://drive.google.com/uc?export=view&id=1E8tR7B9YYUXsU_rddJAyq0FrM0MSelxZ\" /></left>\n",
    "\n",
    "1. Run the __read()__ method on the File object __f__ to return the string representation of **crime_rates.csv**.\n",
    "2. Assign the resulting string to a new variable named **data**.\n"
   ]
  },
  {
   "cell_type": "code",
   "execution_count": null,
   "metadata": {
    "colab": {
     "autoexec": {
      "startup": false,
      "wait_interval": 0
     }
    },
    "colab_type": "code",
    "id": "yVs2jYlfxKVo"
   },
   "outputs": [],
   "source": [
    "# put your code here"
   ]
  },
  {
   "cell_type": "markdown",
   "metadata": {
    "colab_type": "text",
    "id": "29hL1iLrxKUe"
   },
   "source": [
    "## Splitting\n",
    "\n",
    "To make our string object data more useful, let's convert it into a **list**. Here's a preview of how the dataset looks:\n",
    "\n",
    "```python\n",
    "f = open(\"test.txt\", \"r\")\n",
    "g = f.read()\n",
    "```\n",
    "\n",
    "```python\n",
    "Albuquerque,749\\nAnaheim,371\\nAnchorage,828\\n\n",
    "```\n",
    "\n",
    "Each line is separated by the string **\\n**, which is referred to as the **new-line character**. When we open a text file in a text editor, the editor will automatically split the text and create a new line wherever it sees the string **\\n**:\n",
    "\n",
    "<center>\n",
    "<img width=\"200\" src=\"https://drive.google.com/uc?export=view&id=1tOua2vNM4dFMS5VdMs1CpoZtX0fMcugu\">\n",
    "</center>\n",
    "  \n",
    "In Python, we can use the **split()** method to turn a string object into a list of strings, like so:\n",
    "\n",
    "```python\n",
    "f = open(\"test.txt\", \"r\")\n",
    "g = f.read()\n",
    "print(g)\n",
    "```\n",
    "\n",
    "```python\n",
    "[\"Albuquerque,749\", \"Anaheim,371\", \"Anchorage,828\"]\n",
    "```\n",
    "\n",
    "The **split()** method takes a string input corresponding to the delimiter, or separator. This delimiter determines how the string is split into elements in a list. For example, the delimiter for the crime rate data we just looked at is **\\n**. Many other files use commas to separate elements:\n",
    "\n",
    "```python\n",
    "sample = \"john,plastic,joe\"\n",
    "split_list = sample.split(\",\") # split_list is a list of _strings_: [\"john\", \"plastic\", \"joe\"]\n",
    "```\n",
    "**Exercise**\n",
    "\n",
    "<left><img align=\"left\" width=\"100\" src=\"https://drive.google.com/uc?export=view&id=1E8tR7B9YYUXsU_rddJAyq0FrM0MSelxZ\" /></left>\n",
    "\n",
    "1. Split the string object **data** on the new-line character **\"\\n\"**\n",
    "2. Store the result in a variable named **rows**. \n",
    "3. Then, use the **print()** function to display the first five elements in rows."
   ]
  },
  {
   "cell_type": "code",
   "execution_count": null,
   "metadata": {
    "colab": {
     "autoexec": {
      "startup": false,
      "wait_interval": 0
     }
    },
    "colab_type": "code",
    "id": "h7sIY9ysxKQa"
   },
   "outputs": [],
   "source": [
    "# We can split a string into a list.\n",
    "sample = \"john,plastic,joe\"\n",
    "split_list = sample.split(\",\")\n",
    "print(split_list)\n",
    "\n",
    "# Here's another example.\n",
    "string_two = \"How much wood\\ncan a woodchuck chuck\\nif a woodchuck\\ncould chuck wood?\"\n",
    "split_string_two = string_two.split('\\n')\n",
    "print(split_string_two)\n",
    "\n",
    "# Code from previous cells\n",
    "f = open('crime_rates.csv', 'r')\n",
    "data = f.read()\n",
    "\n",
    "# Put your code here"
   ]
  },
  {
   "cell_type": "markdown",
   "metadata": {
    "colab_type": "text",
    "id": "u9t9KlD5xKM8"
   },
   "source": [
    "## Loops\n",
    "\n",
    "We now have a list representation of the dataset (**rows**). Each element in the dataset is a string containing a comma (** , ** ) that separates the city name from the crime rate. Because they're strings, we can use the **split()** method on each of them to separate those values. Accomplishing this based on what we know so far would be a cumbersome task. **We would need to write 73 lines of code, one for each element in the list**.\n",
    "\n",
    "Ideally, we could specify the code we want to execute for each element in the list a single time. Python and most other programming languages allow you to do this with a **loop**. For example, here's a loop that prints each element in a list:\n",
    "\n",
    "```python\n",
    "cities = [\"Austin\", \"Dallas\", \"Houston\"]\n",
    "for city in cities:\n",
    "    print(city)\n",
    "```\n",
    "\n",
    "\n",
    "Here are the steps Python takes when it runs this code:\n",
    "\n",
    "- Assigns the value at index **0** in the **cities** list (**\"Austin\"**) to **city**.\n",
    "- Executes the indented code. Because the current value of **city** is **\"Austin\"**, it runs **print(\"Austin\")**.\n",
    "- Assigns the value at index **1** in the **cities** list (**\"Dallas\"**) to **city**.\n",
    "- Executes the indented code. Because the current value of **city** is **\"Dallas\"**, it runs **print(\"Dallas\")**.\n",
    "- Assigns the value at index **2** from the **cities** list (**\"Houston\"**) to **city**.\n",
    "- Executes the indented code. Because the current value of **city** is **\"Houston\"**, it runs **print(\"Houston\")**.\n",
    "- Sees that there are no more elements in the list **cities**, and stops running.\n",
    "\n",
    "This code uses a type of loop called a **for loop**. We can break the for loop down into two main components: \n",
    "- the for loop itself, \n",
    "- and the loop body that contains the code we want to run during each iteration.\n",
    "\n",
    "Here are the things you need to include in each of these components:\n",
    "\n",
    "- for Loop\n",
    "\n",
    "  - **Syntax** - the words **for** and **in** need to be included in the statement\n",
    "  - **Iterator variable** - the variable name you decide to use to refer to each element in the list (**city**)\n",
    "  - **Sequence** - the variable you want to iterate over (**cities**)\n",
    "  - **Colon** - loop statements must end with a colon (**:**)\n",
    "  \n",
    "- Loop Body\n",
    "\n",
    "  - **Indentation** - every line of code within the loop should be indented four spaces\n",
    "  - **Logic** - the actual code we want to execute for each element. In the above code block, for example, we update the iterator variable (**city**) in each iteration of the loop\n",
    "  \n",
    "  \n",
    "  Here's a diagram displaying the values for **city** and the **print()** statement during each iteration of the loop:\n",
    "\n",
    "\n",
    "\n",
    "<img width=\"300\" src=\"https://drive.google.com/uc?export=view&id=1wafTcaMqGbnkCw80aKKz73CCNyQym22L\">\n",
    "\n",
    "The iterator variable, **city**, is a temporary variable that's only accessible within the for loop.\n",
    "\n",
    "The very basic loop body we wrote above only contains one line of code. To write a loop body with multiple lines of code, we need to indent that code consistently (using four spaces). For example, the following code will run the **print()** statement three times for each element in **cities**:\n",
    "\n",
    "```python\n",
    "for city in cities:\n",
    "    print(city)\n",
    "    print(city)\n",
    "    print(city)\n",
    "```\n",
    "\n",
    "Here's an annotated diagram of the code:\n",
    "\n",
    "<img width=\"400\" src=\"https://drive.google.com/uc?export=view&id=1fbwcQWaQAgmu-7TYKEWBQSYJ6HjDC217\">\n",
    "\n",
    "\n",
    "**Exercise**\n",
    "\n",
    "<left><img align=\"left\" width=\"100\" src=\"https://drive.google.com/uc?export=view&id=1E8tR7B9YYUXsU_rddJAyq0FrM0MSelxZ\" /></left>\n",
    "\n",
    "\n",
    "1. The variable **ten_rows** contains the first 10 elements in rows.\n",
    "2. Write a for loop that:\n",
    "  - iterates over each element in **ten_rows**\n",
    "  - uses the **print()** function to display each element"
   ]
  },
  {
   "cell_type": "code",
   "execution_count": null,
   "metadata": {
    "colab": {
     "autoexec": {
      "startup": false,
      "wait_interval": 0
     }
    },
    "colab_type": "code",
    "id": "Z-pxORPI1Jhs"
   },
   "outputs": [],
   "source": [
    "ten_rows = rows[0:10]\n",
    "\n",
    "for i in ten_rows:\n",
    "    print(i)"
   ]
  },
  {
   "cell_type": "markdown",
   "metadata": {
    "colab_type": "text",
    "id": "krnUV6__1Jgk"
   },
   "source": [
    "## Lists of Lists\n",
    "\n",
    "Now that we know how to execute code for each element in a list, we can use a loop to split those elements on a delimiter and append the results to a new list. So far, we've appended values like integers and strings, but we've never appended a list to a list. This is known as a **list of lists**, since each element is itself a list.\n",
    "\n",
    "The following code:\n",
    "\n",
    "- splits each element in **three_rows** (which contains the first three elements from rows) on the comma delimiter (** , **)\n",
    "- appends the resulting list (**split_list**) to a new list we create (**final_list**)\n",
    "- displays the final list using the **print()** function\n",
    "\n",
    "```python\n",
    "three_rows = [\"Albuquerque,749\", \"Anaheim,371\", \"Anchorage,828\"]\n",
    "final_list = []\n",
    "for row in three_rows:\n",
    "    split_list = row.split(',')\n",
    "    final_list.append(split_list)\n",
    "print(final_list)\n",
    "```\n",
    "Here's the logic above represented as a diagram:\n",
    "\n",
    "<img width=\"600\" src=\"https://drive.google.com/uc?export=view&id=1YoONZjbomKK8DgnAxn22nuDEMhIqL0e7\">\n",
    "\n",
    "\n",
    "In the leftmost part of the diagram, you'll notice that the elements in **three_rows** are strings. In the right-most part of the diagram, you'll notice that the elements in **final_list** are lists.\n",
    "\n",
    "Here's what the output looks like:\n",
    "\n",
    "```python\n",
    "[['Albuquerque', '749'], ['Anaheim', '371'], ['Anchorage', '828']]\n",
    "```\n",
    "\n",
    "Recall that since only the indented code is executed as part of the loop, the unindented **print()** statement on the last line will execute only after the loop finishes. In the following code cell, we execute the code we visualized in the diagram, along with some additional **print()** statements. These **print()** statements retrieve individual elements from **final_list**. Note that they all display as list objects. You'll practice writing your own for loop in the next step. For now, explore and run the code we covered in this step in the code cell below.\n",
    "\n",
    "\n",
    "**Exercise**\n",
    "\n",
    "<left><img align=\"left\" width=\"100\" src=\"https://drive.google.com/uc?export=view&id=1E8tR7B9YYUXsU_rddJAyq0FrM0MSelxZ\" /></left>\n",
    "\n",
    "1. Write a **for loop** that splits each element in rows on the comma delimiter, and appends the resulting list to a new list named **final_data**.\n",
    "2. Then, use the **print()** function and list slicing to display the first five elements in **final_data**."
   ]
  },
  {
   "cell_type": "code",
   "execution_count": null,
   "metadata": {
    "colab": {
     "autoexec": {
      "startup": false,
      "wait_interval": 0
     }
    },
    "colab_type": "code",
    "id": "rjcYcSXA1Ja-"
   },
   "outputs": [],
   "source": [
    "f = open('crime_rates.csv', 'r')\n",
    "data = f.read()\n",
    "rows = data.split('\\n')\n",
    "#print(rows[0:5])\n",
    "\n",
    "final_data = []\n",
    "for l in rows:\n",
    "    final_data.append(l.split(','))\n",
    "\n",
    "print(final_data)"
   ]
  },
  {
   "cell_type": "markdown",
   "metadata": {
    "colab_type": "text",
    "id": "nOcvtydQ1JWc"
   },
   "source": [
    "## Accessing Elements in a List of Lists: The Manual Way\n",
    "\n",
    "A list of lists has some unique interaction mechanisms. Using bracket notation to retrieve an element at a certain index returns a list object. However, using bracket notation on the resulting list will actually return a data point (such as a string or an integer).\n",
    "\n",
    "In the following code, we retrieve the first list from **final_data** and assign it to **first_list**. We then retrieve the first element from **first_list** and assign it to **first_list_first_value**:\n",
    "\n",
    "```python\n",
    "first_list = final_data[0] # Returns the first list: ['Albuquerque', '749'].\n",
    "first_list_first_value = first_list[0] # Returns the first list's first element: 'Albuquerque'.\n",
    "```\n",
    "\n",
    "Since using bracket notation once returns a list, you can use bracket notation again on the resulting list without having to assign it to a variable first. Using double bracket notation is simpler. The following code uses double bracket notation to retrieve the value at index __0__ for the first three elements in **final_data**:\n",
    "\n",
    "```python\n",
    "first_list_first_value = final_data[0][0] # Returns the first list's first element, 'Albuquerque'.\n",
    "second_list_first_value = final_data[1][0] # Returns the second list's first element, 'Anaheim'.\n",
    "third_list_first_value = final_data[2][0] # Returns the third list's first element, 'Anchorage'.\n",
    "```\n",
    "\n",
    "Here's a visual representation of **final_data[0][0]** to help you grasp double bracket notation:\n",
    "\n",
    "<img width=\"600\" src=\"https://drive.google.com/uc?export=view&id=1YxyDUoGE1KrjsKB65S8iJ5CFhUiFCDnS\">\n",
    "\n",
    "\n",
    "\n",
    "**Exercise**\n",
    "\n",
    "<left><img align=\"left\" width=\"100\" src=\"https://drive.google.com/uc?export=view&id=1E8tR7B9YYUXsU_rddJAyq0FrM0MSelxZ\" /></left>\n",
    "\n",
    "1. Create the variable **five_elements** that contains the first five elements from **final_data**.\n",
    "2. Create a list of strings named **cities_list** that contains the city names from each list in **five_elements**."
   ]
  },
  {
   "cell_type": "code",
   "execution_count": null,
   "metadata": {
    "colab": {
     "autoexec": {
      "startup": false,
      "wait_interval": 0
     }
    },
    "colab_type": "code",
    "id": "OUXXdtNa7w1u"
   },
   "outputs": [],
   "source": [
    "five_elements = final_data[:5]\n",
    "\n",
    "cities_list = [i[0] for i in five_elements]\n",
    "print(cities_list)"
   ]
  },
  {
   "cell_type": "markdown",
   "metadata": {
    "colab_type": "text",
    "id": "k-GpElfn7wxy"
   },
   "source": [
    "## Looping Through a List of Lists\n",
    "\n",
    "Instead of appending each element from the nested list to a new list individually, we can use a for loop and specify the append logic within the loop body. Let's explore how we can replace the **append()** statements from the previous step with a for loop.\n",
    "\n",
    "In the following code, we create a new list called **crime_rates**, and write a for loop that iterates through **five_elements**. In each iteration of the loop, we retrieve the string at index __1__ from the current list (within **five_elements**), assign that string to the variable **crime_rate**, and use the **append()** method to add **crime_rate** to the list **crime_rates**.\n",
    "\n",
    "```python\n",
    "crime_rates = []\n",
    "for row in five_elements:\n",
    "    crime_rate = row[1] # row is a list variable, not a string.\n",
    "    crime_rates.append(crime_rate)  # crime_rate is a string, the crime rate of the city\n",
    "```\n",
    "\n",
    "Now it's your turn to apply what you've learned to the full dataset.\n",
    "\n",
    "\n",
    "**Exercise**\n",
    "\n",
    "<left><img align=\"left\" width=\"100\" src=\"https://drive.google.com/uc?export=view&id=1E8tR7B9YYUXsU_rddJAyq0FrM0MSelxZ\" /></left>\n",
    "\n",
    "1. Create a list of strings named **cities_list** that contains just the city names from **final_data**.\n",
    "  - Recall that the city name is located at index __0__ for each list in **final_data**."
   ]
  },
  {
   "cell_type": "markdown",
   "metadata": {
    "colab_type": "text",
    "id": "XQL5LYJz7wv7"
   },
   "source": [
    "## Challenge\n",
    "\n",
    "In this section, we learned how to display the type associated with any value. We can actually convert between types using specific functions in Python:\n",
    "\n",
    "- **int()**: convert to integer value\n",
    "- **float()**: convert to float value\n",
    "- **str()**: convert to string value\n",
    "\n",
    "Let's focus on just the **int()** function for now. We can use this function to convert string values that represent only an integer value:\n",
    "\n",
    ">```python\n",
    "int_five = int(\"5\")\n",
    "```\n",
    "\n",
    "If we try to convert a string value that isn't 100% an integer value just represented as a string, we'll get an error:\n",
    "\n"
   ]
  },
  {
   "cell_type": "code",
   "execution_count": null,
   "metadata": {
    "colab": {
     "autoexec": {
      "startup": false,
      "wait_interval": 0
     },
     "base_uri": "https://localhost:8080/",
     "height": 164
    },
    "colab_type": "code",
    "executionInfo": {
     "elapsed": 2617,
     "status": "error",
     "timestamp": 1533387525864,
     "user": {
      "displayName": "Ivanovitch Silva",
      "photoUrl": "//lh4.googleusercontent.com/-baHwkIBEacY/AAAAAAAAAAI/AAAAAAAAFo0/aWRaXNQgy7Q/s50-c-k-no/photo.jpg",
      "userId": "116628038672433119071"
     },
     "user_tz": 180
    },
    "id": "jXmPuj22BJyO",
    "outputId": "c082d592-0077-4ed4-b517-20877a24ea4c"
   },
   "outputs": [],
   "source": [
    "int(\"5.0\")"
   ]
  },
  {
   "cell_type": "markdown",
   "metadata": {
    "colab_type": "text",
    "id": "FBJ3eufYBJCG"
   },
   "source": [
    "\n",
    "\n",
    "We'll end this section by providing an opportunity to synthesize the concepts you've learned so far. Note that this exercise may be more challenging than the previous ones, and may take more time to complete.\n",
    "\n",
    "\n",
    "**Exercise**\n",
    "\n",
    "<left><img align=\"left\" width=\"100\" src=\"https://drive.google.com/uc?export=view&id=1E8tR7B9YYUXsU_rddJAyq0FrM0MSelxZ\" /></left>\n",
    "\n",
    "1. Create a list of integers named **int_crime_rates** that contains just the crime rates - as integers - from the list **rows**.\n",
    "\n",
    "  - First create an empty list and assign it to a new variable **int_crime_rates**.\n",
    "  - Then, write a for loop that iterates over rows and does the following:\n",
    "    - uses the **split()** method to convert each string in **rows** into a list, based on the comma delimiter\n",
    "    - converts the value at index __1__ from that list to an integer using the **int()** function\n",
    "    - uses the **append()** method to add each integer to **int_crime_rates**\n",
    "    "
   ]
  },
  {
   "cell_type": "code",
   "execution_count": null,
   "metadata": {
    "colab": {
     "autoexec": {
      "startup": false,
      "wait_interval": 0
     }
    },
    "colab_type": "code",
    "id": "4tNE_nsk7wlQ"
   },
   "outputs": [],
   "source": [
    "f = open('crime_rates.csv', 'r')\n",
    "data = f.read()\n",
    "rows = data.split('\\n')\n",
    "\n",
    "int_crime_rates = [int(i.split(\",\")[1]) for i in rows[0:5]]\n",
    "print(int_crime_rates)"
   ]
  },
  {
   "cell_type": "markdown",
   "metadata": {
    "colab_type": "text",
    "id": "d7eOXJ9GFmKZ"
   },
   "source": [
    "# Booleans and if Statements\n",
    "\n"
   ]
  },
  {
   "cell_type": "markdown",
   "metadata": {
    "colab_type": "text",
    "id": "zWMo42XN7Fn-"
   },
   "source": [
    "## Booleans\n",
    "\n",
    "We'll learn how to express conditional logic. We can use **conditional logic** to add criteria to the code we write. Some examples of operations that use criteria include:\n",
    "\n",
    "- Finding all the integers in a list that are greater than **\"5\"**.\n",
    "- Identifying which elements in a list are strings, and printing only those values.\n",
    "\n",
    "We can break down both of these examples into logic we can code:\n",
    "\n",
    "- For each integer in a list, if the integer is greater than **\"5\"**, add to the list **greater_than_five**.\n",
    "- For each element in a list, if the value has a string data type, use the **print()** function to display it; if it's not a string, ignore it.\n",
    "\n",
    "Python has a class called **Boolean** that helps express conditional logic. There are only two Boolean values: **True** and **False**. Because they're words, Boolean values may look like strings, but they're an entirely separate class. For example, string operations like concatenation won't work with Booleans.\n",
    "\n",
    "The following code example assigns **True** to __t__ and **False** to **f**:\n",
    "\n",
    "```python\n",
    "t = True\n",
    "f = False\n",
    "```\n",
    "\n",
    "If we display the data type for either t or f, we'll see class **'bool'**, shorthand for Boolean.\n",
    "\n",
    "**Exercise**\n",
    "\n",
    "<left><img align=\"left\" width=\"100\" src=\"https://drive.google.com/uc?export=view&id=1E8tR7B9YYUXsU_rddJAyq0FrM0MSelxZ\" /></left>\n",
    "\n",
    "1. Assign the value **True** to the variable **cat**, and the value **False** to the variable **dog**.\n",
    "2. Then, use the **print()** function and the **type()** function to display the type for **cat**.\n"
   ]
  },
  {
   "cell_type": "code",
   "execution_count": null,
   "metadata": {
    "colab": {
     "autoexec": {
      "startup": false,
      "wait_interval": 0
     }
    },
    "colab_type": "code",
    "id": "gsONdfEpKsUM"
   },
   "outputs": [],
   "source": []
  },
  {
   "cell_type": "markdown",
   "metadata": {
    "colab_type": "text",
    "id": "TQudWWlWKYXZ"
   },
   "source": [
    "\n",
    "## Boolean Operators\n",
    "\n",
    "Python has comparison operators that allow us to compare variables:\n",
    "\n",
    "- **==** returns **True** if both variables are equivalent, and **False** if they're different\n",
    "- **!=** returns **True** if both variables are different, and **False** if they're equivalent\n",
    "- __>__ returns **True** if the first variable is greater than the second variable, and **False** otherwise\n",
    "- __<__ returns **True** if the first variable is less than the second variable, and **False** otherwise\n",
    "- **>=** returns **True** if the first variable is greater than or equal to the second variable, and **False** otherwise\n",
    "- **<=** returns **True** if the first variable is less than or equal to the second variable, and **False** otherwise\n",
    "\n",
    "For now let's focus on the equality operators (**==** and **!=**). To compare two variables, place the operator between them. We recommend adding a space before and after the operator for better readability:\n",
    "\n",
    "```python\n",
    "print(8 == 8) # True\n",
    "print(8 != 8) # False\n",
    "print(8 == 10) # False\n",
    "print(8 != 10) # True\n",
    "```\n",
    "\n",
    "We can assign the result of a comparison to a Boolean variable:\n",
    "\n",
    "```python\n",
    "# True \n",
    "t = (8 == 8) \n",
    "# False\n",
    "u = (8 != 8) \n",
    "```\n",
    "\n",
    "We can also compare strings, floats, Booleans, and even lists:\n",
    "\n",
    "```python\n",
    "\"8\" == \"8\"\n",
    "[\"January\", \"February\"] == [\"January\", \"February\"]\n",
    "5.0 == 5.0\n",
    "```\n",
    "\n",
    "\n",
    "The variable **cities** is a list of strings containing the city names from the crime rate dataset we used in the previous section. We've created the list for you already."
   ]
  },
  {
   "cell_type": "code",
   "execution_count": null,
   "metadata": {
    "colab": {
     "autoexec": {
      "startup": false,
      "wait_interval": 0
     }
    },
    "colab_type": "code",
    "id": "nGf4EDew7Fn_"
   },
   "outputs": [],
   "source": [
    "cities = ['Albuquerque','Anaheim','Anchorage','Arlington','Atlanta','Aurora',\n",
    "'Austin','Bakersfield','Baltimore','Boston','Buffalo','Charlotte-Mecklenburg',\n",
    "'Cincinnati','Cleveland','Colorado Springs','Corpus Christi','Dallas','Denver',\n",
    "'Detroit','El Paso','Fort Wayne','Fort Worth','Fresno','Greensboro','Henderson',\n",
    "'Houston','Indianapolis','Jacksonville','Jersey City','Kansas City','Las Vegas',\n",
    "'Lexington','Lincoln','Long Beach','Los Angeles','Louisville Metro','Memphis',\n",
    "'Mesa','Miami','Milwaukee','Minneapolis','Mobile','Nashville','New Orleans',\n",
    "'New York','Newark','Oakland','Oklahoma City','Omaha','Philadelphia','Phoenix',\n",
    "'Pittsburgh','Plano','Portland','Raleigh','Riverside','Sacramento','San Antonio',\n",
    "'San Diego','San Francisco''San Jose','Santa Ana','Seattle','St. Louis','St. Paul',\n",
    "'Stockton','Tampa','Toledo','Tucson','Tulsa','Virginia Beach','Washington','Wichita']"
   ]
  },
  {
   "cell_type": "markdown",
   "metadata": {
    "colab_type": "text",
    "id": "ChPXsQeJ7FoD"
   },
   "source": [
    "**Exercise**\n",
    "\n",
    "<left><img align=\"left\" width=\"100\" src=\"https://drive.google.com/uc?export=view&id=1E8tR7B9YYUXsU_rddJAyq0FrM0MSelxZ\" /></left>\n",
    "\n",
    "1. Use the Boolean operators to determine if the following pairs of values are equivalent:\n",
    "  - The first element in **cities** and the string **\"Albuquerque\"**. Assign the resulting Boolean value to **first_alb**.\n",
    "  - The second element in **cities** and the string **\"Albuquerque\"**. Assign the resulting Boolean value to **second_alb**.\n",
    "  - The first element in **cities** and the last element in **cities**. Assign the resulting Boolean value to **first_last**."
   ]
  },
  {
   "cell_type": "code",
   "execution_count": null,
   "metadata": {
    "colab": {
     "autoexec": {
      "startup": false,
      "wait_interval": 0
     }
    },
    "colab_type": "code",
    "id": "7C3Eyn1lO1gx"
   },
   "outputs": [],
   "source": []
  },
  {
   "cell_type": "markdown",
   "metadata": {
    "colab_type": "text",
    "id": "mP4q3p-_N8jS"
   },
   "source": [
    "\n",
    "## Booleans with \"Greater Than\"\n",
    "\n",
    "We can use the greater than operator (>) to test whether one value is larger than another. Similarly, the greater than or equal to operator (>=) determines if one value is larger than or equal to a second value:\n",
    "\n",
    "```python\n",
    "rates = [10, 15, 20]\n",
    "rates[0] > rates[1] # False\n",
    "rates[0] >= rates[0] # True\n",
    "```\n",
    "\n",
    "**Exercise**\n",
    "\n",
    "<left><img align=\"left\" width=\"100\" src=\"https://drive.google.com/uc?export=view&id=1E8tR7B9YYUXsU_rddJAyq0FrM0MSelxZ\" /></left>\n",
    "\n",
    "\n",
    "1. The variable **crime_rates** is a list of integers containing the crime rates from the dataset. Perform the following comparisons:\n",
    "  - Evaluate whether the first element in **crime_rates** is larger than the integer 500, and assign the Boolean result to **first_500**.\n",
    "  - Evaluate whether the first element in **crime_rates** is larger than or equal to 749, and assign the Boolean result to **first_749**.\n",
    "  - Evaluate whether the first element in **crime_rates** is greater than or equal to the last element in **crime_rates**, and assign the Boolean result to **first_last**."
   ]
  },
  {
   "cell_type": "code",
   "execution_count": null,
   "metadata": {
    "colab": {
     "autoexec": {
      "startup": false,
      "wait_interval": 0
     }
    },
    "colab_type": "code",
    "id": "O8GFJZ_NO3-n"
   },
   "outputs": [],
   "source": [
    "crime_rates = [749,371,828,503,1379,425,408,542,1405,835,1288,647,974,1383,455,658,\n",
    "675,615,2122,423,362,587,543,563,168,992,1185,617,734,1263,784,352,397,575,481,598,\n",
    "1750,399,1172,1294,992,522,1216,815,639,1154,1993,919,594,1160,636,752,130,517,423,\n",
    "443,738,503,413,704,363,401,597,1776,722,1548,616,1171,724,990,169,1177,742]\n",
    "\n"
   ]
  },
  {
   "cell_type": "markdown",
   "metadata": {
    "colab_type": "text",
    "id": "MMdyZai7PpNl"
   },
   "source": [
    "## Booleans with \"Less Than\"\n",
    "\n",
    "We can use the less than operator (** < **) to test whether one value is smaller than another value. Similarly, the less than or equal to operator (** <= **) determines if one value is smaller than or equal to another value:\n",
    "\n",
    "```python\n",
    "rates = [10, 15, 20]\n",
    "rates[0] < rates[1] # True\n",
    "rates[0] <= rates[0] # True\n",
    "```\n",
    "\n",
    "**Exercise**\n",
    "\n",
    "<left><img align=\"left\" width=\"100\" src=\"https://drive.google.com/uc?export=view&id=1E8tR7B9YYUXsU_rddJAyq0FrM0MSelxZ\" /></left>\n",
    "\n",
    "1. The variable **crime_rates** is a list containing the crime rates from the dataset as integers. Perform the following comparisons:\n",
    "  - Determine whether the second element in **crime_rates** is smaller than the integer 500, and assign the Boolean result to **second_500**.\n",
    "  - Determine whether the second element in **crime_rates** is smaller than or equal to 371, and assign the Boolean result to **second_371**.\n",
    "  - Determine whether the second element in **crime_rates** is smaller than or equal to the last element in **crime_rates**, and assign the Boolean result to **second_last**."
   ]
  },
  {
   "cell_type": "code",
   "execution_count": null,
   "metadata": {
    "colab": {
     "autoexec": {
      "startup": false,
      "wait_interval": 0
     }
    },
    "colab_type": "code",
    "id": "7gr8Hno5Uaob"
   },
   "outputs": [],
   "source": [
    "# put your code here"
   ]
  },
  {
   "cell_type": "markdown",
   "metadata": {
    "colab_type": "text",
    "id": "pCQ-Qlx2Q3ON"
   },
   "source": [
    "## If Statements\n",
    "\n",
    "\n",
    "Now that we know how to work with **Boolean** values, let's dive more into how we use Booleans to express conditional logic. To complement Booleans, Python contains the **if operator**. We can use this operator to write a statement that tests whether certain conditions exist. Our if statement will evaluate to either **True** or **False**, and only run the specified code when **True**.\n",
    "\n",
    "For example, the following code checks whether the integer value assigned to **sample_rate** is larger than 5. This is referred to as a **\"conditional statement.\"** It assigns the Boolean result to greater, and uses the **print()** function to display **sample_rate** if greater is **True**:\n",
    "\n",
    "```python\n",
    "sample_rate = 749\n",
    "greater = (sample_rate > 5)\n",
    "if greater:                    #This is the conditional statement.\n",
    "    print(sample_rate)\n",
    "```\n",
    "\n",
    "\n",
    "We can also specify the conditional statement inside the **if statement**:\n",
    "\n",
    "```python\n",
    "if sample_rate > 5:            #This is the conditional statement.\n",
    "    print(sample_rate)\n",
    "```\n",
    "\n",
    "\n",
    "The conditional statement after the if has to evaluate to either **True** or **False**.\n",
    "\n",
    "Similar to for loops, we need to format if statements in the following way:\n",
    "\n",
    "- End the conditional statement with a colon (** : **)\n",
    "- Indent the code (that we want run when **True**) below the conditional statement\n",
    "\n",
    "Also similar to **for loops**, if statements can contain multiple lines in the body, as long as their indentation aligns.\n",
    "\n",
    "```python\n",
    "t = True\n",
    "f = False\n",
    "if t:\n",
    "    print(\"Now you see me\")\n",
    "if f:\n",
    "    print(\"Now you don't\")\n",
    "```\n",
    "\n",
    "We'll end with a generalized representation of an if statement:\n",
    "\n",
    "<img width=\"400\" src=\"https://drive.google.com/uc?export=view&id=1U5rhJWdAfhC5Kzoy_MR5SFw333DUWebw\">\n",
    "\n",
    "\n",
    "**Exercise**\n",
    "\n",
    "<left><img align=\"left\" width=\"100\" src=\"https://drive.google.com/uc?export=view&id=1E8tR7B9YYUXsU_rddJAyq0FrM0MSelxZ\" /></left>\n",
    "\n",
    "1. Determine whether the third element in **cities** is equivalent to the string **\"Anchorage\"**.\n",
    "  - Create the variable **result** with value 0.\n",
    "  - If it is, change the variable **result** to **1**."
   ]
  },
  {
   "cell_type": "code",
   "execution_count": null,
   "metadata": {
    "colab": {
     "autoexec": {
      "startup": false,
      "wait_interval": 0
     }
    },
    "colab_type": "code",
    "id": "RmH5s61SUYIp"
   },
   "outputs": [],
   "source": [
    "print (1 if cities[2] == \"Anchorage\" else 0)"
   ]
  },
  {
   "cell_type": "markdown",
   "metadata": {
    "colab_type": "text",
    "id": "jo737o7lTSR5"
   },
   "source": [
    "## Nesting If Statements\n",
    "\n",
    "We can **nest if statements** to specify multiple criteria. In the following code example, we first test whether an integer is greater than **500**, and then check whether it's greater than **1000.** Python only evaluates the inner if statement if the outer if statement evaluates to **True**.\n",
    "\n",
    "```python\n",
    "value = 1500\n",
    "if value > 500:\n",
    "    if value > 1000:\n",
    "        print(\"This number is HUGE!\")\n",
    "```\n",
    "\n",
    "Here's an annotated diagram of the nested if statement:\n",
    "\n",
    "<img width=\"400\" src=\"https://drive.google.com/uc?export=view&id=1JPabfwhjCRwwlsDh3IXv7iw0D3nwC1RF\">\n",
    "\n",
    "Be sure to indent your code properly with four spaces for each code block!\n",
    "\n",
    "**Exercise**\n",
    "\n",
    "<left><img align=\"left\" width=\"100\" src=\"https://drive.google.com/uc?export=view&id=1E8tR7B9YYUXsU_rddJAyq0FrM0MSelxZ\" /></left>\n",
    "\n",
    "1. Write a piece of code that nests the following concepts in the order in which they appear:\n",
    "  - An **if statement** that tests whether the first element in **crime_rates** is larger than 500\n",
    "  - A second if statement that tests whether the second element in **crime_rates** is larger than 300\n",
    "  - If both statements evaluate to **True**, assign the value **True** to the variable **both_conditions**"
   ]
  },
  {
   "cell_type": "code",
   "execution_count": null,
   "metadata": {
    "colab": {
     "autoexec": {
      "startup": false,
      "wait_interval": 0
     }
    },
    "colab_type": "code",
    "id": "T9s7CApiUeo1"
   },
   "outputs": [],
   "source": []
  },
  {
   "cell_type": "markdown",
   "metadata": {
    "colab_type": "text",
    "id": "K-sKV_aRUlpc"
   },
   "source": [
    "## If Statements and For Loops\n",
    "\n",
    "We can also **nest if statements** within **for loops**, and vice versa. For example, we can search a list for the existence of a specific value by combining a for loop with an if statement. The if statement determines whether the current element is equivalent to the value we're interested in:\n",
    "\n",
    "```python\n",
    "found = False\n",
    "for city in cities:\n",
    "    if city == 'Washington':\n",
    "        found = True\n",
    "```\n",
    "\n",
    "We've set the value found set to **False** by default. If one of the elements in cities is equivalent to the string **\"Washington\"**, then Python assigns the Boolean value **True** to found.\n",
    "\n",
    "We can also use a for loop and an if statement to determine the index for a specific value in a list. To accomplish this, we can create an integer variable named counter outside the for loop and increment it by 1 with each iteration. If the value at the current iteration of the loop matches our desired value, we can set another integer variable, index, to the current value of counter:\n",
    "\n",
    "\n",
    "```python\n",
    "counter = 0\n",
    "index = 0\n",
    "for city in cities:\n",
    "    if city == \"Washington\":\n",
    "        index = counter\n",
    "    counter += 1\n",
    "```\n",
    "\n",
    "Keep in mind that in the above implementation, if there are multiple instances of the desired value (**\"Washington\"**) in the list, the variable index will update each time. This means that once the for loop finishes, index will contain the last index location the loop finds (not the first one).\n",
    "\n",
    "\n",
    "**Exercise**\n",
    "\n",
    "<left><img align=\"left\" width=\"100\" src=\"https://drive.google.com/uc?export=view&id=1E8tR7B9YYUXsU_rddJAyq0FrM0MSelxZ\" /></left>\n",
    "\n",
    "1. Create a new list, **five_hundred_list**, that contains only the elements from **crime_rates** that are greater than **500**. To accomplish this, you'll need a for loop and an if statement:\n",
    "  - The for loop specifies which list we want to iterate over and the name of the iterator variable\n",
    "  - The if statement determines whether the current element is larger than 500.\n",
    "  - If the current element is larger than 500, use the **append()** method to add it to **five_hundred_list**."
   ]
  },
  {
   "cell_type": "code",
   "execution_count": null,
   "metadata": {
    "colab": {
     "autoexec": {
      "startup": false,
      "wait_interval": 0
     }
    },
    "colab_type": "code",
    "id": "Xp8Zlz2zV98z"
   },
   "outputs": [],
   "source": [
    "five_hundred_list = [i for i in crime_rates if i>500]\n",
    "print(five_hundred_list)"
   ]
  },
  {
   "cell_type": "markdown",
   "metadata": {
    "colab_type": "text",
    "id": "DqwHGhT8WGXR"
   },
   "source": [
    "Now that we know how to combine if statements and for loops, we can find the highest crime rate in the **crime_rates** list.\n",
    "\n",
    "Here's one way we can approach this task:\n",
    "\n",
    "- Assign the value at index __0__ in **crime_rates** to a new integer variable called **highest**\n",
    "- Use a for loop that compares each value in **crime_rates** to **highest**, and assigns that value to **highest** if it's larger\n",
    "- If the first value (at index __0__) is the largest value in the list, then the value assigned to **highest** will never change. Otherwise, each time the loop finds a value that's larger than **highest**, it will assign that value to **highest**. The value assigned to **highest** only changes when a new value in the list is larger than it. When the loop completes, we're guaranteed to have the largest value.\n",
    "\n",
    "**Exercise**\n",
    "\n",
    "<left><img align=\"left\" width=\"100\" src=\"https://drive.google.com/uc?export=view&id=1E8tR7B9YYUXsU_rddJAyq0FrM0MSelxZ\" /></left>\n",
    "\n",
    "1. Find the largest integer in **crime_rates** using the strategy we just outlined, and assign that value to the variable **highest**."
   ]
  },
  {
   "cell_type": "code",
   "execution_count": null,
   "metadata": {
    "colab": {
     "autoexec": {
      "startup": false,
      "wait_interval": 0
     }
    },
    "colab_type": "code",
    "id": "4qHOEHftW6Gi"
   },
   "outputs": [],
   "source": [
    "highest = crime_rates[0]\n",
    "for i in crime_rates:\n",
    "    if (i > highest):\n",
    "        highest = i\n",
    "print(highest)"
   ]
  },
  {
   "cell_type": "markdown",
   "metadata": {
    "colab_type": "text",
    "id": "vpecatTUXZfq"
   },
   "source": [
    "# Challenge: Files, Loops, and Conditional Logic"
   ]
  },
  {
   "cell_type": "markdown",
   "metadata": {
    "colab_type": "text",
    "id": "0zLJGyrMYdav"
   },
   "source": [
    "Our notebooks are structured around learning by doing, so you're ready to tackle problems in the real world. We've also designed challenges that will give you an opportunity to practice programming and data science by completing structured problems. Completing challenges will help you solidify concepts and apply what you've learned in the **real world**. \n",
    "\n",
    "**We encourage you to think, make your own attempts, and experiment for a significant amount of time before doing so!**"
   ]
  },
  {
   "cell_type": "markdown",
   "metadata": {
    "colab_type": "text",
    "id": "ZKP1yNSOeh82"
   },
   "source": [
    "## Unisex name\n",
    "\n",
    "For this challenge, you'll be working with the data set behind this [FiveThirtyEight](http://fivethirtyeight.com/features/there-are-922-unisex-names-in-america-is-yours-one-of-them/) article on common unisex (gender-neutral) names in the United States. You'll start by reading in the file and iteratively converting the data to more useful representations. At the end of this challenge, you'll filter the data so that it only includes the names that at least 1,000 people share.\n",
    "\n",
    "\n",
    "The staff at [FiveThirtyEight](http://fivethirtyeight.com/) compiled this data set from information at the [Social Security Adminstration's website](https://www.ssa.gov/oact/babynames/limits.html). You'll work with a shortened version of the [full data](https://github.com/fivethirtyeight/data/blob/master/unisex-names/unisex_names_table.csv) set to complete this challenge.\n",
    "\n",
    "Here's a preview of the shortened data set, which is in a CSV file named **dq_unisex_names.csv**:\n",
    "\n",
    "```python\n",
    "Casey,176544.328149\n",
    "Riley,154860.66517300002\n",
    "Jessie,136381.830656\n",
    "Jackie,132928.78874000002\n",
    "Avery,121797.41951600001\n",
    "Jaime,109870.18729000002\n",
    "Peyton,94896.39521599999\n",
    "```\n",
    "\n",
    "Each line contains two values separated by commas. The first value is the **unisex name**, and the second value is the **estimated number of Americans** with that name."
   ]
  },
  {
   "cell_type": "markdown",
   "metadata": {
    "colab_type": "text",
    "id": "fCgcUVu-elFF"
   },
   "source": [
    "## Read the File Into a String\n",
    "\n",
    "To work with the data, you'll first need to read it into Python. This involves creating a File object, then using one of its methods to read the file into a string.\n",
    "\n",
    "\n",
    "**Exercise**\n",
    "\n",
    "<left><img align=\"left\" width=\"100\" src=\"https://drive.google.com/uc?export=view&id=1E8tR7B9YYUXsU_rddJAyq0FrM0MSelxZ\" /></left>\n",
    "\n",
    "1. Use the **open()** function with the following parameters to return a File object:\n",
    "\n",
    "  - **dq_unisex_names.csv** for the file name\n",
    "  - **r** for read mode\n",
    "\n",
    "2. Then, use the **read()** method of the File object to read the file into a string.\n",
    "\n",
    "3. Assign that string to a variable named **names**."
   ]
  },
  {
   "cell_type": "code",
   "execution_count": null,
   "metadata": {
    "colab": {
     "autoexec": {
      "startup": false,
      "wait_interval": 0
     }
    },
    "colab_type": "code",
    "id": "0RcuS00S0YwE"
   },
   "outputs": [],
   "source": [
    "data = open(\"dq_unisex_names.csv\", \"r\")\n",
    "names = data.read()\n",
    "print(names)"
   ]
  },
  {
   "cell_type": "markdown",
   "metadata": {
    "colab_type": "text",
    "id": "ey5nNY1pyF9a"
   },
   "source": [
    "## Convert the String to a List\n",
    "\n",
    "Now that you have a string representation of the file, convert it to a list of strings.\n",
    "\n",
    "<img width=\"500\" src=\"https://drive.google.com/uc?export=view&id=1huJu8SgydBBR_yGzt1QjMAmh8hBF-b-6\">\n",
    "\n",
    "**Exercise**\n",
    "\n",
    "<left><img align=\"left\" width=\"100\" src=\"https://drive.google.com/uc?export=view&id=1E8tR7B9YYUXsU_rddJAyq0FrM0MSelxZ\" /></left>\n",
    "\n",
    "1. Use the **split()** method that strings have to split on the new-line delimiter (**\"\\n\"**), and assign the resulting list to **names_list**.\n",
    "2. Select the first five elements in **names_list**, and assign them to **first_five**.\n",
    "3. Display **first_five** using the **print()** function."
   ]
  },
  {
   "cell_type": "code",
   "execution_count": null,
   "metadata": {
    "colab": {
     "autoexec": {
      "startup": false,
      "wait_interval": 0
     }
    },
    "colab_type": "code",
    "id": "c0PkTQYz0WcY"
   },
   "outputs": [],
   "source": [
    "# put your code here"
   ]
  },
  {
   "cell_type": "markdown",
   "metadata": {
    "colab_type": "text",
    "id": "58tQuvTzy6Fx"
   },
   "source": [
    "## Convert the List of Strings to a List of Lists\n",
    "\n",
    "When you displayed the first five elements, you may have noticed that they contained commas. Let's split each string element in **names_list** on the comma, and add the resulting lists to a new list named **nested_list**.\n",
    "\n",
    "\n",
    "<img width=\"500\" src=\"https://drive.google.com/uc?export=view&id=1R1t4-zU6Kjr9NCrZ7dV6cZZA0hwvHEl3\">\n",
    "\n",
    "\n",
    "**Exercise**\n",
    "\n",
    "<left><img align=\"left\" width=\"100\" src=\"https://drive.google.com/uc?export=view&id=1E8tR7B9YYUXsU_rddJAyq0FrM0MSelxZ\" /></left>\n",
    "\n",
    "\n",
    "1. Split each element in **names_list** on the comma delimiter (,) and append the resulting list to **nested_list**. To accomplish this:\n",
    "\n",
    "  - Create an empty list and assign it to **nested_list**.\n",
    "  - Write a for loop that iterates over **names_list**.\n",
    "  - Within the loop body, run the **split()** method on each element to return a list (assign that list to **comma_list**).\n",
    "  - Within the loop body, run the **append()** method to add each list (**comma_list**) to **nested_list**.\n",
    "2. Use the **print()** function to display the first five elements in **nested_list**."
   ]
  },
  {
   "cell_type": "code",
   "execution_count": null,
   "metadata": {
    "colab": {
     "autoexec": {
      "startup": false,
      "wait_interval": 0
     }
    },
    "colab_type": "code",
    "id": "gDcEFMIVzDAs"
   },
   "outputs": [],
   "source": [
    "f = open('dq_unisex_names.csv', 'r')\n",
    "names = f.read()\n",
    "names_list = names.split('\\n')\n",
    "\n",
    "# put your code here"
   ]
  },
  {
   "cell_type": "markdown",
   "metadata": {
    "colab_type": "text",
    "id": "1Emt6yOBzFNJ"
   },
   "source": [
    "## Convert Numerical Values\n",
    "\n",
    "You now have a list of lists assigned to **nested_list**, where each inner list contains string elements. The second element (the estimated number of people with that name) in each list is a decimal value that you should convert to a float. By converting these values to floats, you'll be able to perform computations on them and analyze the data.\n",
    "\n",
    "\n",
    "<img width=\"600\" src=\"https://drive.google.com/uc?export=view&id=1yOaFpW1mtSI4_UmTq_XN0rPVCQLNtJMS\">\n",
    "\n",
    "\n",
    "**Exercise**\n",
    "\n",
    "<left><img align=\"left\" width=\"100\" src=\"https://drive.google.com/uc?export=view&id=1E8tR7B9YYUXsU_rddJAyq0FrM0MSelxZ\" /></left>\n",
    "\n",
    "\n",
    "1. Create a new list of lists called **numerical_list** where:\n",
    "\n",
    "  - The element at index **0** for each list is the unisex name (as a string)\n",
    "  - The element at index **1** for each list is the number of people who share that name (as a float)\n",
    "\n",
    "  To accomplish this:\n",
    "\n",
    "  - Create an empty list and assign it to **numerical_list**.\n",
    "  - Write a for loop that iterates over **nested_list**. In the loop body:\n",
    "    - Retrieve the element at index **0** and assign it to a variable.\n",
    "    - Retrieve the element at index **1**, convert it to a float, and assign it to a variable.\n",
    "    - Create a new list containing these two elements (in the same order).\n",
    "    - Use the **append()** method to add this new list to **numerical_list**.\n",
    "    \n",
    "2. Finally, display the first five elements in **numerical_list**.\n",
    "\n",
    "\n"
   ]
  },
  {
   "cell_type": "code",
   "execution_count": null,
   "metadata": {
    "colab": {
     "autoexec": {
      "startup": false,
      "wait_interval": 0
     }
    },
    "colab_type": "code",
    "id": "y0SxQ-MY3ews"
   },
   "outputs": [],
   "source": [
    "# put your code here"
   ]
  },
  {
   "cell_type": "markdown",
   "metadata": {
    "colab_type": "text",
    "id": "c9O2Brea3hIS"
   },
   "source": [
    "## Filter the List\n",
    "\n",
    "The data set contains first names shared by at least 100 people. Let's limit it those shared by at least 1,000 people.\n",
    "\n",
    "**Exercise**\n",
    "\n",
    "<left><img align=\"left\" width=\"100\" src=\"https://drive.google.com/uc?export=view&id=1E8tR7B9YYUXsU_rddJAyq0FrM0MSelxZ\" /></left>\n",
    "\n",
    "\n",
    "1. Create a new list of strings called **thousand_or_greater** that only contains the names shared by 1,000 people or more.\n",
    "\n",
    "  To accomplish this:\n",
    "    - Create an empty list and assign it to **thousand_or_greater**.\n",
    "    - Write a for loop that iterates over **numerical_list**.\n",
    "    - In the loop body, use an if statement to determine if the value at index 1 for that element (which is a list) is greater than or equal to 1000.\n",
    "    - If the value is greater than or equal to 1000, use the **append()** method to add its name to **thousand_or_greater**.\n",
    "2. Finally, display the first 10 elements in **thousand_or_greater**."
   ]
  },
  {
   "cell_type": "code",
   "execution_count": null,
   "metadata": {
    "colab": {
     "autoexec": {
      "startup": false,
      "wait_interval": 0
     }
    },
    "colab_type": "code",
    "id": "N2K3_j5b3gU6"
   },
   "outputs": [],
   "source": [
    "# put your code here"
   ]
  },
  {
   "cell_type": "markdown",
   "metadata": {
    "colab_type": "text",
    "id": "dFHJqm_65L7C"
   },
   "source": [
    "# List Operations\n"
   ]
  },
  {
   "cell_type": "markdown",
   "metadata": {
    "colab_type": "text",
    "id": "gCJHES7s5TRI"
   },
   "source": [
    "## Introduction to the dataset\n",
    "\n",
    "In this section, we'll look at daily weather data for Los Angeles (L.A.) during 2014. Here's a look at the beginning of **la_weather.csv**, the data set we'll be working:\n",
    "\n",
    "```python\n",
    "Day,Type of Weather\n",
    "1,Sunny\n",
    "2,Sunny\n",
    "3,Sunny\n",
    "4,Sunny\n",
    "5,Sunny\n",
    "6,Rain\n",
    "7,Sunny\n",
    "8,Sunny\n",
    "9,Fog\n",
    "10,Rain\n",
    "```\n",
    "\n",
    "In the previous sections, we split a CSV file into rows. We'll be doing the same thing here, so it's useful to think of each line in the data file as a separate row. Each row contains multiple values separated by a comma (,).\n",
    "\n",
    "The first row in our data is the header row, which contains labels for the values beneath them. As the header row indicates, each row has two values:\n",
    "\n",
    "- **Day** - A number from 1 to 365 indicating the day of the year. - - January 1st is 1, and December 31st is 365.\n",
    "- **Type of Weather** - The type of weather experienced on that day. The values that may appear here include **Rain, Sunny, Fog, Fog-Rain, or Thunderstorm**.\n",
    "\n",
    "Our ultimate goal is to count how many times each type of weather occurred over the course of the year. During this mission, we'll learn how to manipulate the data with lists, and make good progress towards that goal. In the next sections, we'll fit all the pieces together and tally up the data."
   ]
  },
  {
   "cell_type": "markdown",
   "metadata": {
    "colab_type": "text",
    "id": "mBh_akzD6Nks"
   },
   "source": [
    "## Parsing the file\n",
    "\n",
    "Because our data is in a CSV file, we'll need to read the file in before we can work with it. In the earlier sections, we read a CSV file into a list, and we'll do the same here.\n",
    "\n",
    "To read the file in, we'll need to:\n",
    "\n",
    "- Open it with the **open()** function. This will return a File object.\n",
    "- Read the open file into a variable using the **read()** method. This will return in a string.\n",
    "- Split the data into rows on the newline character (\\n). This will result in a list.\n",
    "- Loop through each row, and split each row into a list on the comma character (,). This will result in a list of lists.\n",
    "\n",
    "Here's the code we used to parse the **crime_rates.csv** file in an earlier mission:\n",
    "\n",
    "```python\n",
    "f = open(\"crime_rates.csv\", 'r')\n",
    "data = f.read()\n",
    "rows = data.split('\\n')\n",
    "full_data = []\n",
    "for row in rows:\n",
    "    split_row = row.split(\",\")\n",
    "    full_data.append(split_row)\n",
    "```\n",
    "\n",
    "**Exercise**\n",
    "\n",
    "<left><img align=\"left\" width=\"100\" src=\"https://drive.google.com/uc?export=view&id=1E8tR7B9YYUXsU_rddJAyq0FrM0MSelxZ\" /></left>\n",
    "\n",
    "\n",
    "1. Create an empty list and assign to **weather_data**.\n",
    "2. Open and read in **la_weather.csv**.\n",
    "3. Split the data on the newline character to convert it to a list of rows.\n",
    "4. Split each row on the comma and append each list to **weather_data**.\n",
    "\n",
    "\n",
    "\n"
   ]
  },
  {
   "cell_type": "code",
   "execution_count": null,
   "metadata": {
    "colab": {
     "autoexec": {
      "startup": false,
      "wait_interval": 0
     }
    },
    "colab_type": "code",
    "id": "8wGFvJoc97LC"
   },
   "outputs": [],
   "source": [
    "# put your code here"
   ]
  },
  {
   "cell_type": "markdown",
   "metadata": {
    "colab_type": "text",
    "id": "04jJF6CM6-vI"
   },
   "source": [
    "## Getting a Single Column From the Data\n",
    "\n",
    "We've been thinking of our data in terms of rows, where rows are horizontal, from left to right:\n",
    "\n",
    "<img width=\"200\" src=\"https://drive.google.com/uc?export=view&id=15yFHKRos6slDWcjU8VpUTawT2YV3vz66\">\n",
    "\n",
    "The diagram above shows the first four rows in the data, along with their corresponding row numbers. Each item in a row records different information, but refers to the same day.\n",
    "\n",
    "Another way to think of the data is in terms of values that are alike, or columns. Columns are vertical, from top to bottom:\n",
    "\n",
    "<img width=\"250\" src=\"https://drive.google.com/uc?export=view&id=1L-i0qbtRk7rEdgPHtL1TLQNTwqmJ4hsl\">\n",
    "\n",
    "\n",
    "In the above diagram, we grouped the data by column. Each value in a column records similar information. Column 1 shows the **Day of the year**, and column 2 shows the **Type of Weather** that occurred on that day.\n",
    "\n",
    "The first value in each column is from the header row; it labels the data that appears in the column. While not all data sets include headers, they're helpful to have.\n",
    "\n",
    "Since we'll be counting the total number of times each type of weather occurred during the year, we don't need the **Day** column.\n",
    "\n",
    "You may recall that in a previous mission, we did the following to extract a column:\n",
    "\n",
    "- Looped over each row.\n",
    "- Retrieved the second element of the row.\n",
    "- Appended the second element to a list of items.\n",
    "\n",
    "Here's an example of what this process looks like:\n",
    "\n",
    "```python\n",
    "numbers = [[1,2],[3,4],[5,6],[7,8]]\n",
    "second_column = []\n",
    "for item in numbers:\n",
    "    value = item[1]\n",
    "    second_column.append(value)\n",
    "```\n",
    "\n",
    "**Exercise**\n",
    "\n",
    "<left><img align=\"left\" width=\"100\" src=\"https://drive.google.com/uc?export=view&id=1E8tR7B9YYUXsU_rddJAyq0FrM0MSelxZ\" /></left>\n",
    "\n",
    "1. Loop over each row in **weather_data**.\n",
    "2. Append the second item in each row to the **weather** list.\n",
    "3. When complete, **weather** should contain each value from the **Type of Weather** column."
   ]
  },
  {
   "cell_type": "code",
   "execution_count": null,
   "metadata": {
    "colab": {
     "autoexec": {
      "startup": false,
      "wait_interval": 0
     }
    },
    "colab_type": "code",
    "id": "zWXamC7z91Sb"
   },
   "outputs": [],
   "source": [
    "for i in weather_data:\n",
    "    "
   ]
  },
  {
   "cell_type": "markdown",
   "metadata": {
    "colab_type": "text",
    "id": "cmdK2dzR-T8p"
   },
   "source": [
    "## Counting the Items in a List\n",
    "\n",
    "To verify that we selected the **Type of Weather** column properly, let's tally the number of items in **weather**.\n",
    "\n",
    "**Exercise**\n",
    "\n",
    "<left><img align=\"left\" width=\"100\" src=\"https://drive.google.com/uc?export=view&id=1E8tR7B9YYUXsU_rddJAyq0FrM0MSelxZ\" /></left>\n",
    "\n",
    "1. Count the number of items in **weather**. You can accomplish this by:\n",
    "\n",
    "  - Looping over each element in **weather.**\n",
    "  - Adding 1 to **count** for each element.\n",
    "2. When finished, **count** should equal the number of items in **weather.**"
   ]
  },
  {
   "cell_type": "code",
   "execution_count": null,
   "metadata": {
    "colab": {
     "autoexec": {
      "startup": false,
      "wait_interval": 0
     }
    },
    "colab_type": "code",
    "id": "P1m2Nfwj-by_"
   },
   "outputs": [],
   "source": [
    "# put your code here"
   ]
  },
  {
   "cell_type": "markdown",
   "metadata": {
    "colab_type": "text",
    "id": "DJAQ4KZw-4SC"
   },
   "source": [
    "## Removing the Header\n",
    "\n",
    "When we created the **weather** list, we included the header. The first few items in **weather** look like this:\n",
    "\n",
    "<img width=\"600\" src=\"https://drive.google.com/uc?export=view&id=1hGsmarMYgcF8Bws4ckuhc2jriai5ehsD\">\n",
    "\n",
    "\n",
    "We want to tally how many times each type of weather occurred in L.A. To do this, we'll need to remove the string **Type of Weather** from the beginning of our list. If we don't do this, our count will include the header, which isn't part of the data set. The header is just a string that tells us what kind of values are in a column.\n",
    "\n",
    "To remove the header we can use a list slicing. **weather** contains 366 elements, and the last list index value is 365. **We'll want to create a slice that goes from the second element (index 1) to the end of the list.**\n",
    "\n",
    "**Exercise**\n",
    "\n",
    "<left><img align=\"left\" width=\"100\" src=\"https://drive.google.com/uc?export=view&id=1E8tR7B9YYUXsU_rddJAyq0FrM0MSelxZ\" /></left>\n",
    "\n",
    "1. Slice the **weather** list to remove the header.\n",
    "2. The slice should only remove the first element in the list.\n",
    "3. Assign the slice to **new_weather.**"
   ]
  },
  {
   "cell_type": "markdown",
   "metadata": {
    "colab_type": "text",
    "id": "vRjVbjo6_kvr"
   },
   "source": [
    "## The In Statement\n",
    "\n",
    "In Python, it's often very useful to check whether a certain element is present in a list. One way to perform this check is to use a for loop:\n",
    "\n",
    "```python\n",
    "animals = [\"cat\", \"dog\", \"rabbit\"]\n",
    "for animal in animals:\n",
    "    if animal == \"cat\":\n",
    "        print(\"Cat found\")\n",
    "```\n",
    "\n",
    "This is a lot of code for a common operation, though. Luckily, Python has the in statement, which allows us to check whether a list contains a specific element much more quickly:\n",
    "\n",
    "```python\n",
    "animals = [\"cat\", \"dog\", \"rabbit\"]\n",
    "if \"cat\" in animals:\n",
    "    print(\"Cat found\")\n",
    "```\n",
    "\n",
    "The **in statement** checks whether certain value occurs within a list, and returns **True** if it does. If not, the statement returns **False**.\n",
    "\n",
    "We can directly assign the result to a variable as well:\n",
    "\n",
    "```python\n",
    "animals = [\"cat\", \"dog\", \"rabbit\"]\n",
    "cat_found = \"cat\" in animals\n",
    "```\n",
    "\n",
    "**Exercise**\n",
    "\n",
    "<left><img align=\"left\" width=\"100\" src=\"https://drive.google.com/uc?export=view&id=1E8tR7B9YYUXsU_rddJAyq0FrM0MSelxZ\" /></left>\n",
    "\n",
    "\n",
    "1. Use the **in statement** to check whether the value **cat** is in the list **animals**, and assign the result to **cat_found**.\n",
    "2. Use the **in statement** to check whether the value **\"space_monster\"** is in the list **animals**, and assign the result to **space_monster_found**."
   ]
  },
  {
   "cell_type": "code",
   "execution_count": null,
   "metadata": {
    "colab": {
     "autoexec": {
      "startup": false,
      "wait_interval": 0
     }
    },
    "colab_type": "code",
    "id": "NfMSezHkBFPN"
   },
   "outputs": [],
   "source": [
    "animals = [\"cat\", \"dog\", \"rabbit\", \"horse\", \"giant_horrible_monster\"]\n",
    "\n"
   ]
  },
  {
   "cell_type": "markdown",
   "metadata": {
    "colab_type": "text",
    "id": "opXnAjg_BJmP"
   },
   "source": [
    "## Weather Types\n",
    "\n",
    "We can use the **in statement** to discover which types of weather the **new_weather** list contains. At the start of this section, we specified that the data set includes **Rain, Sunny, Fog, Fog-Rain, and Thunderstorm**. Let's verify that each of these types occurs in **new_weather**.\n",
    "\n",
    "**Exercise**\n",
    "\n",
    "<left><img align=\"left\" width=\"100\" src=\"https://drive.google.com/uc?export=view&id=1E8tR7B9YYUXsU_rddJAyq0FrM0MSelxZ\" /></left>\n",
    "\n",
    "1. Loop through each item in the **weather_types** list.\n",
    "2. Check whether the item occurs in the **new_weather** list.\n",
    "3. Append the result of the check to **weather_type_found**.\n",
    "4. At the end, **weather_type_found** should be a list of Boolean values."
   ]
  },
  {
   "cell_type": "code",
   "execution_count": null,
   "metadata": {
    "colab": {
     "autoexec": {
      "startup": false,
      "wait_interval": 0
     }
    },
    "colab_type": "code",
    "id": "J2ilVLtfBgXQ"
   },
   "outputs": [],
   "source": [
    "weather_types = [\"Rain\", \"Sunny\", \"Fog\", \"Fog-Rain\", \"Thunderstorm\", \"Type of Weather\"]\n",
    "weather_type_found = []\n",
    "\n",
    "# put your code here"
   ]
  }
 ],
 "metadata": {
  "colab": {
   "collapsed_sections": [],
   "default_view": {},
   "name": "Aula 02 - Python Beginner.ipynb",
   "provenance": [],
   "version": "0.3.2",
   "views": {}
  },
  "kernelspec": {
   "display_name": "Python 3",
   "language": "python",
   "name": "python3"
  },
  "language_info": {
   "codemirror_mode": {
    "name": "ipython",
    "version": 3
   },
   "file_extension": ".py",
   "mimetype": "text/x-python",
   "name": "python",
   "nbconvert_exporter": "python",
   "pygments_lexer": "ipython3",
   "version": "3.6.4"
  },
  "toc-autonumbering": true,
  "toc-showcode": false,
  "toc-showtags": false
 },
 "nbformat": 4,
 "nbformat_minor": 2
}
