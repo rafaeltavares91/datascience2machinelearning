{
 "cells": [
  {
   "cell_type": "markdown",
   "metadata": {
    "colab_type": "text",
    "id": "jzqHBi4fI3qk"
   },
   "source": [
    "# Dictionaries\n"
   ]
  },
  {
   "cell_type": "markdown",
   "metadata": {
    "colab_type": "text",
    "id": "Jo6XiubONWQr"
   },
   "source": [
    "The dataset\n",
    "\n",
    "In this section, we'll work with Los Angeles weather data from 2014. The dataset is a list of string elements that represent weather patterns:\n",
    "\n",
    "```python\n",
    "[\"Sunny\"\n",
    " \"Sunny\"\n",
    " \"Sunny\",\n",
    " ...,\n",
    " \"Fog\"]\n",
    " ```\n",
    " \n",
    "The list contains **365** elements. The first element is for the type of weather that occurred on January 1st, and the last element represents the type of weather that occurred on December 31st.\n",
    "\n",
    "We've loaded the list into the **weather** variable."
   ]
  },
  {
   "cell_type": "code",
   "execution_count": 1,
   "metadata": {
    "colab": {},
    "colab_type": "code",
    "id": "L1liaxi3KO6E"
   },
   "outputs": [],
   "source": [
    "# open the dataset\n",
    "f = open(\"la_weather.csv\", 'r')\n",
    "\n",
    "# convert to string\n",
    "rows = f.read().split('\\n')\n",
    "full_data = []\n",
    "\n",
    "# split and get only the second column\n",
    "for row in rows:\n",
    "    full_data.append(row.split(\",\")[1])\n",
    "\n",
    "# skip the header\n",
    "weather = full_data[1:]"
   ]
  },
  {
   "cell_type": "markdown",
   "metadata": {
    "colab_type": "text",
    "id": "DUbnH-YFMKJP"
   },
   "source": [
    "**Exercise**\n",
    "\n",
    "<left><img align=\"left\" width=\"100\" src=\"https://drive.google.com/uc?export=view&id=1E8tR7B9YYUXsU_rddJAyq0FrM0MSelxZ\" /></left>\n",
    "\n",
    "\n",
    "1. Assign the first element of **weather** to **first_element** and display it using the **print()** function.\n",
    "2. Assign the last element of **weather** to **last_element** and display it using the **print()** function."
   ]
  },
  {
   "cell_type": "code",
   "execution_count": 7,
   "metadata": {},
   "outputs": [
    {
     "name": "stdout",
     "output_type": "stream",
     "text": [
      "Sunny\n",
      "Fog\n"
     ]
    }
   ],
   "source": [
    "first_element = weather[0]\n",
    "last_element = weather[-1]\n",
    "print(first_element)\n",
    "print(last_element)"
   ]
  },
  {
   "cell_type": "markdown",
   "metadata": {
    "colab_type": "text",
    "id": "waJJZeWwNJib"
   },
   "source": [
    "## Dictionaries' structure\n",
    "\n",
    "Let's say we have a set of students, along with their scores from a recent math test:\n",
    "\n",
    "<img width=\"200\" src=\"https://drive.google.com/uc?export=view&id=1HN8kr5NVSfBqKDKVbY3tnd5Dajq-UzkI\">\n",
    "\n",
    "To store the students' names and their scores, we could use two lists:\n",
    "\n",
    "```python\n",
    "students = [\"Tom\", \"Jim\", \"Sue\", \"Ann\"]\n",
    "scores = [70, 80, 85, 75]\n",
    "```\n",
    "\n",
    "To figure out what **score Sue** got on the test, we'd first have to write a loop to find the index corresponding to the element **Sue** in the **students** list. We'd then have to find the value for that index in **scores**. Here's how we could do this:\n",
    "\n",
    "```python\n",
    "indexes = [0,1,2,3]\n",
    "name = \"Sue\"\n",
    "score = 0\n",
    "for i in indexes:\n",
    "    if students[i] == name:\n",
    "        score = scores[i]\n",
    "print(score)\n",
    "```\n",
    "\n",
    "This is a complex piece of code for a simple task; we just want to find the value associated with a name.\n",
    "\n",
    "To accomplish this in an easier way, we can use a **dictionary**. **A dictionary is like a list in that it has indexes, but the indexes aren't necessarily sequential numbers**. We can create our own indexes with values of any data type, including strings.\n",
    "\n",
    "While we initiate a new list with square brackets (**\\[** ), we create a new dictionary with curly braces (**{**). We can make an empty dictionary like this:\n",
    "\n",
    "```python\n",
    "scores = {}\n",
    "```\n",
    "\n",
    "To add values to an existing dictionary, we specify the index to the left of the equals sign, and the value it should have on the right side. We use square brackets (**\\[**) to specify the index.\n",
    "\n",
    "```python\n",
    "scores[\"Tom\"] = 70\n",
    "```\n",
    "\n",
    "Taken together, we call the index and value **key/value pairs**. In this mission, however, we'll refer to the dictionary values on the right side of the equals sign as elements, just like the elements in a list.\n",
    "\n",
    "The code above will create the index **Tom** in the scores dictionary, and associate the element **70** with it. To look up the test score for **Tom**, we would simply write:\n",
    "\n",
    "```python\n",
    "scores[\"Tom\"]\n",
    "```\n",
    "\n",
    "This would return the element **70** because we associated it with the index **Tom** in the dictionary **scores**. We use square brackets (**\\[**) to add values to dictionaries or look up values.\n",
    "\n",
    "We can add the rest of the students' **scores** in the same way:\n",
    "\n",
    "```python\n",
    "scores[\"Jim\"] = 80\n",
    "scores[\"Sue\"] = 85\n",
    "scores[\"Ann\"] = 75\n",
    "```\n"
   ]
  },
  {
   "cell_type": "markdown",
   "metadata": {
    "colab_type": "text",
    "id": "hKuvIsgfNl4v"
   },
   "source": [
    "## Practice Populating a Dictionary\n",
    "\n",
    "Recall that to create a **dictionary**, we first define it with curly braces (**\\{**), then add values for specific indexes. We call the values elements, and refer to the indexes as **dictionary keys**:\n",
    "\n",
    "```python\n",
    "students = {}\n",
    "students[\"Jerry\"] = 60\n",
    "```\n",
    "\n",
    "In the example above, we create an empty dictionary called **students**, then specify that the dictionary **key Jerry** should have the value **60**. To find the value (that's now an element) associated with the dictionary key **Jerry**, we'd look up **Jerry** in the dictionary students:\n",
    "\n",
    "```python\n",
    "print(students[\"Jerry\"])\n",
    "```\n",
    "\n",
    "The code above would display 60.\n",
    "\n",
    "A dictionary key can be a string, integer, or float:\n",
    "\n",
    "```python\n",
    "students[10] = 100\n",
    "```\n",
    "\n",
    "**Exercise**\n",
    "\n",
    "<left><img align=\"left\" width=\"100\" src=\"https://drive.google.com/uc?export=view&id=1E8tR7B9YYUXsU_rddJAyq0FrM0MSelxZ\" /></left>\n",
    "\n",
    "1. Assign the value **1** to the key **Aquaman** in a new dictionary named **superhero_ranks**.\n",
    "2. Assign the value **2** to the key **Superman** in **superhero_ranks**."
   ]
  },
  {
   "cell_type": "code",
   "execution_count": 3,
   "metadata": {
    "colab": {},
    "colab_type": "code",
    "id": "wXt9e6P6R5JC"
   },
   "outputs": [
    {
     "data": {
      "text/plain": [
       "{'Aquaman': 1, 'Superman': 2}"
      ]
     },
     "execution_count": 3,
     "metadata": {},
     "output_type": "execute_result"
    }
   ],
   "source": [
    "# put your code here\n",
    "superhero_ranks = {}\n",
    "superhero_ranks['Aquaman'] = 1\n",
    "superhero_ranks['Superman'] = 2\n",
    "\n",
    "superhero_ranks"
   ]
  },
  {
   "cell_type": "markdown",
   "metadata": {
    "colab_type": "text",
    "id": "ZOpFSU8cQuc2"
   },
   "source": [
    "## Practice Indexing a Dictionary\n",
    "\n",
    "We can look up values in dictionaries by using square brackets. When we pass in a dictionary key, we retrieve the value associated with that key:\n",
    "\n",
    "```python\n",
    "students[\"Tom\"]\n",
    "```\n",
    "\n",
    "**Exercise**\n",
    "\n",
    "<left><img align=\"left\" width=\"100\" src=\"https://drive.google.com/uc?export=view&id=1E8tR7B9YYUXsU_rddJAyq0FrM0MSelxZ\" /></left>\n",
    "\n",
    "1. Look up **FDR** in **president_ranks** and assign the result to a new variable **fdr_rank**.\n",
    "2. Look up **Lincoln** in **president_ranks** and assign the result to a new variable **lincoln_rank**.\n",
    "3. Look up **Aquaman** in **president_ranks** and assign the result to a new variable **aquaman_rank**."
   ]
  },
  {
   "cell_type": "code",
   "execution_count": 5,
   "metadata": {
    "colab": {},
    "colab_type": "code",
    "id": "EXSTUeCbSQxK"
   },
   "outputs": [],
   "source": [
    "president_ranks = {}\n",
    "president_ranks[\"FDR\"] = 1\n",
    "president_ranks[\"Lincoln\"] = 2\n",
    "president_ranks[\"Aquaman\"] = 3\n",
    "\n",
    "# put your code here\n",
    "fdr_rank = president_ranks[\"FDR\"]\n",
    "lincoln_rank = president_ranks[\"Lincoln\"]\n",
    "aquaman_rank = president_ranks[\"Aquaman\"]"
   ]
  },
  {
   "cell_type": "markdown",
   "metadata": {
    "colab_type": "text",
    "id": "5GirVs0nSeLg"
   },
   "source": [
    "## Defining a Dictionary with Values\n",
    "\n",
    "So far, we've created a dictionary and added elements to it in multiple steps:\n",
    "\n",
    "```python\n",
    "students = {}\n",
    "students[\"Tom\"] = 60\n",
    "students[\"Jim\"] = 70\n",
    "```\n",
    "\n",
    "This approach is cumbersome when we want to add multiple dictionary keys. Fortunately, we can create a dictionary and add elements to it in a single step:\n",
    "\n",
    "```python\n",
    "students = {\n",
    "    \"Tom\": 60,\n",
    "    \"Jim\": 70\n",
    "}\n",
    "```\n",
    "\n",
    "In the example above, we create a dictionary, then specify that the key **Tom** should have the value **60**, and the key **Jim** should have the value **70**.\n",
    "\n",
    "We do this by entering the dictionary key, then a colon (** : **), then the value. We separate each key/value pair with a comma. If we wanted to, we could add more students like this:\n",
    "\n",
    "```python\n",
    "students = {\n",
    "    \"Tom\": 60,\n",
    "    \"Jim\": 70,\n",
    "    \"Sue\": 85,\n",
    "    \"Ann\": 80\n",
    "}\n",
    "```\n",
    "\n",
    "We can use this technique to specify as many key/value pairs as we'd like.\n",
    "\n",
    "\n",
    "**Exercise**\n",
    "\n",
    "<left><img align=\"left\" width=\"100\" src=\"https://drive.google.com/uc?export=view&id=1E8tR7B9YYUXsU_rddJAyq0FrM0MSelxZ\" /></left>\n",
    "\n",
    "\n",
    "1. Create a dictionary named **animals** with the following keys and values:\n",
    "  - The key 7 corresponding to the value raven.\n",
    "  - The key 8 corresponding to the value goose.\n",
    "  - The key 9 corresponding to the value duck.\n",
    "  \n",
    "2. Create a dictionary named **times** with the following keys and values:\n",
    "\n",
    "  - The key morning corresponding to the value 9.\n",
    "  - The key afternoon corresponding to the value 14.\n",
    "  - The key evening corresponding to the value 19.\n",
    "  - The key night corresponding to the value 23."
   ]
  },
  {
   "cell_type": "code",
   "execution_count": null,
   "metadata": {
    "colab": {
     "base_uri": "https://localhost:8080/",
     "height": 34
    },
    "colab_type": "code",
    "id": "mR6Hg6aCS2Mm",
    "outputId": "8789bf6d-5478-415d-a7fb-79ad6f84d304"
   },
   "outputs": [
    {
     "name": "stdout",
     "output_type": "stream",
     "text": [
      "{'key1': 10, 'key2': 'indubitably', 'key3': 'dataquest', 3: 5.6}\n"
     ]
    }
   ],
   "source": [
    "random_values = {\"key1\": 10, \"key2\": \"indubitably\", \"key3\": \"dataquest\", 3: 5.6}\n",
    "print(random_values)\n",
    "\n",
    "# put your code here"
   ]
  },
  {
   "cell_type": "markdown",
   "metadata": {
    "colab_type": "text",
    "id": "AxC0dAcUTR2I"
   },
   "source": [
    "## Modifying Dictionary Values\n",
    "\n",
    "We can modify the elements in a dictionary, just like we can with a list:\n",
    "\n",
    "```python\n",
    "students = {\n",
    "    \"Tom\": 60,\n",
    "    \"Jim\": 70\n",
    "}\n",
    "```\n",
    "\n",
    "For example, we can replace the element we've associated with a key:\n",
    "\n",
    "```python\n",
    "students[\"Tom\"] = 65\n",
    "```\n",
    "\n",
    "The code above would change the element for the key **Tom** to **65.**\n",
    "\n",
    "We can also modify an existing element:\n",
    "\n",
    "```python\n",
    "students[\"Tom\"] = students[\"Tom\"] + 5\n",
    "```\n",
    "\n",
    "The code above would add 5 to the value for the key **Tom**.\n",
    "\n",
    "**Exercise**\n",
    "\n",
    "<left><img align=\"left\" width=\"100\" src=\"https://drive.google.com/uc?export=view&id=1E8tR7B9YYUXsU_rddJAyq0FrM0MSelxZ\" /></left>\n",
    "\n",
    "1. Add the key **Ann** and value 85 to the dictionary **students**.\n",
    "2. Replace the value for the key **Tom** with 80.\n",
    "3. Add 5 to the value for the key **Jim**."
   ]
  },
  {
   "cell_type": "code",
   "execution_count": 6,
   "metadata": {
    "colab": {},
    "colab_type": "code",
    "id": "5KNXdy-XT13Y"
   },
   "outputs": [
    {
     "data": {
      "text/plain": [
       "{'Ann': 85, 'Jim': 75, 'Tom': 80}"
      ]
     },
     "execution_count": 6,
     "metadata": {},
     "output_type": "execute_result"
    }
   ],
   "source": [
    "students = {\n",
    "    \"Tom\": 60,\n",
    "    \"Jim\": 70\n",
    "}\n",
    "\n",
    "students[\"Ann\"] = 85\n",
    "students[\"Tom\"] = 80\n",
    "students[\"Jim\"] = students[\"Jim\"] + 5\n",
    "students"
   ]
  },
  {
   "cell_type": "markdown",
   "metadata": {
    "colab_type": "text",
    "id": "BKhkVI-mUZ2D"
   },
   "source": [
    "## The In Statement and Dictionaries\n",
    "\n",
    "In the last lesson, we used the **in statement** to check whether an element occurred in a list:\n",
    "\n",
    ">```python\n",
    "animals = [\"Cat\", \"Dog\"]\n",
    "found = \"Cat\" in animals\n",
    "```\n",
    "\n",
    "We can also use the **in statement** to check whether a **key** occurs in a dictionary:\n",
    "\n",
    ">```python\n",
    "students = {\n",
    "    \"Tom\": 60,\n",
    "    \"Jim\": 70\n",
    "}\n",
    "```\n",
    "\n",
    "**\"Tom\" in students** would return **True**, and **\"Sue\" in students** would return **False**.\n",
    "\n",
    "**Exercise**\n",
    "\n",
    "<left><img align=\"left\" width=\"100\" src=\"https://drive.google.com/uc?export=view&id=1E8tR7B9YYUXsU_rddJAyq0FrM0MSelxZ\" /></left>\n",
    "\n",
    "1. Check whether **jupiter** is a key in **planet_numbers**, and assign the resulting Boolean value to **jupiter_found**.\n",
    "2. Check whether **earth** is a key in **planet_numbers**, and assign the resulting Boolean value to **earth_found**."
   ]
  },
  {
   "cell_type": "code",
   "execution_count": 9,
   "metadata": {
    "colab": {},
    "colab_type": "code",
    "id": "Ajo5tuUNVIRz"
   },
   "outputs": [
    {
     "name": "stdout",
     "output_type": "stream",
     "text": [
      "False\n",
      "True\n"
     ]
    }
   ],
   "source": [
    "planet_numbers = {\"mercury\": 1, \"venus\": 2, \"earth\": 3, \"mars\": 4}\n",
    "\n",
    "jupiter_found = \"jupiter\" in planet_numbers\n",
    "print(jupiter_found)\n",
    "earth_found = \"earth\" in planet_numbers\n",
    "print(earth_found)"
   ]
  },
  {
   "cell_type": "markdown",
   "metadata": {
    "colab_type": "text",
    "id": "PphEELfSVewc"
   },
   "source": [
    "## The Else Statement\n",
    "\n",
    "We learned about the **if statement** in a previous lesson. The **if statement** runs a segment of code if a condition is True:\n",
    "\n",
    "```python\n",
    "if temperature > 50:\n",
    "    print(\"It's hot!\")\n",
    "```\n",
    "\n",
    "In the code above, the **if statement** checks whether the variable **temperature** is greater than 50, and prints out **It's hot!** if it is.\n",
    "\n",
    "We can also print a different message if the **temperature** is less than or equal to 50:\n",
    "\n",
    "```python\n",
    "if temperature > 50:\n",
    "    print(\"It's hot!\")\n",
    "if temperature <= 50:\n",
    "    print(\"It's cold!\")\n",
    "```\n",
    "\n",
    "If **temperature** is greater than 50, we'll see **It's hot!**, and if it's less than or equal to 50, we'll see **It's cold!**. In other words, we print one statement when temperature > 50 equals **True**, and another statement when temperature > 50 equals **False**.\n",
    "\n",
    "Performing different actions depending on whether a condition is true or false is a common scenario in programming. The else statement offers a simpler way to do this:\n",
    "\n",
    "```python\n",
    "if temperature > 50:\n",
    "    print(\"It's hot!\")\n",
    "else:\n",
    "    print(\"It's cold!\")\n",
    "```\n",
    "\n",
    "The code above is much simpler than the previous example, but results in the same outcome. **If temperature > 50** is **True**, then it executes the code in the if statement block. **If temperature > 50** is **False**, then it executes the code in the else statement block.\n",
    "\n",
    "When using if/else statements, only one of the blocks will execute. That means the code above will only print **It's hot!** or **It's cold!** - never both.\n",
    "\n",
    "\n",
    "**Else statements** allow us to simplify our code. Here's an example:\n",
    "\n",
    "```python\n",
    "scores = [80, 100, 60, 30]\n",
    "high_scores = []\n",
    "low_scores = []\n",
    "for score in scores:\n",
    "    if score > 70:\n",
    "        high_scores.append(score)\n",
    "    else:\n",
    "        low_scores.append(score)\n",
    "```\n",
    "\n",
    "The code above will add a score to **high_scores** if score is greater than 70, and to **low_scores** otherwise.\n",
    "\n",
    "\n",
    "**Exercise**\n",
    "\n",
    "<left><img align=\"left\" width=\"100\" src=\"https://drive.google.com/uc?export=view&id=1E8tR7B9YYUXsU_rddJAyq0FrM0MSelxZ\" /></left>\n",
    "\n",
    "1. Append any names in **planet_names** that are longer than 5 characters to **long_names**. Otherwise, append the names to **short_names**. To accomplish this:\n",
    "\n",
    "  - Loop through each item in **planet_names**.\n",
    "  - Use the **len()** function to find the length of the item.\n",
    "  - If the length is greater than 5, append the item to **long_names**.\n",
    "  - Otherwise, append it to **short_names**.\n",
    "2. When complete, **short_names** should contain any planet names less than 6 characters long, and **long_names** should contain any planet names 6 characters or longer."
   ]
  },
  {
   "cell_type": "code",
   "execution_count": 12,
   "metadata": {
    "colab": {},
    "colab_type": "code",
    "id": "myeF8pOGWvdQ"
   },
   "outputs": [
    {
     "data": {
      "text/plain": [
       "['Mercury', 'Jupiter', 'Saturn', 'Neptune', 'Uranus']"
      ]
     },
     "execution_count": 12,
     "metadata": {},
     "output_type": "execute_result"
    }
   ],
   "source": [
    "planet_names = [\"Mercury\", \"Venus\", \"Earth\", \"Mars\", \"Jupiter\", \"Saturn\", \"Neptune\", \"Uranus\"]\n",
    "short_names = []\n",
    "long_names = []\n",
    "\n",
    "for i in planet_names:\n",
    "    if len(i) > 5:\n",
    "        long_names.append(i)\n",
    "    else:\n",
    "        short_names.append(i)\n",
    "long_names"
   ]
  },
  {
   "cell_type": "markdown",
   "metadata": {
    "colab_type": "text",
    "id": "DtOL85vrXxsH"
   },
   "source": [
    "## Couting on Dictionaries\n",
    "\n",
    "We now have all the pieces we need to count how many times each element occurs in a dictionary. Let's practice our skills in the following exercise.\n",
    "\n",
    "**Exercise**\n",
    "\n",
    "<left><img align=\"left\" width=\"100\" src=\"https://drive.google.com/uc?export=view&id=1E8tR7B9YYUXsU_rddJAyq0FrM0MSelxZ\" /></left>\n",
    "\n",
    "1. Count the number of times that each element occurs in the list named **pantry** that appears in the code block below. You'll need to:\n",
    "\n",
    "  - Create an empty dictionary named **pantry_counts.**\n",
    "  - Loop through each item in **pantry**.\n",
    "  - If the item appears in **pantry_counts**, add 1 to the value in **pantry_counts** for the item's key.\n",
    "    - Otherwise, add the item to **pantry_counts** as a key, with the value **1**.\n",
    "2. When finished, each item in **pantry** will have its own key in **pantry_counts**, and its value will be the number of times the item appears in **pantry**."
   ]
  },
  {
   "cell_type": "code",
   "execution_count": 13,
   "metadata": {
    "colab": {},
    "colab_type": "code",
    "id": "DAwXObjwYmqE"
   },
   "outputs": [
    {
     "data": {
      "text/plain": [
       "{'apple': 3, 'grape': 2, 'orange': 2, 'potato': 1, 'tomato': 1}"
      ]
     },
     "execution_count": 13,
     "metadata": {},
     "output_type": "execute_result"
    }
   ],
   "source": [
    "pantry = [\"apple\", \"orange\", \"grape\", \"apple\", \"orange\", \"apple\", \"tomato\", \"potato\", \"grape\"]\n",
    "\n",
    "pantry_counts = {}\n",
    "for i in pantry:\n",
    "    if i in pantry_counts:\n",
    "        pantry_counts[i] += 1\n",
    "    else:\n",
    "        pantry_counts[i] = 1\n",
    "pantry_counts"
   ]
  },
  {
   "cell_type": "markdown",
   "metadata": {
    "colab_type": "text",
    "id": "dkU1fyqtYrXu"
   },
   "source": [
    "## Counting the Weather\n",
    "\n",
    "Now that we have some practice counting with dictionaries, it's time to count how often each type of weather occurs in the weather list.\n",
    "\n",
    "**Exercise**\n",
    "\n",
    "<left><img align=\"left\" width=\"100\" src=\"https://drive.google.com/uc?export=view&id=1E8tR7B9YYUXsU_rddJAyq0FrM0MSelxZ\" /></left>\n",
    "\n",
    "1. Count how many times each **type of weather** occurs in the **weather** list, and store the results in a new dictionary called **weather_counts**.\n",
    "2. When finished, **weather_counts** should contain a key for each different **type of weather** in the **weather** list, along with its associated frequency. Here's a preview of how the result should format the **weather_counts** dictionary (note that you'll be using real values, rather than the dummy ones below):\n",
    "\n",
    "```python\n",
    "{\n",
    "    'Fog': 0,\n",
    "    'Fog-Rain': 0,\n",
    "    ....\n",
    "}\n",
    "```\n",
    "\n",
    "\n",
    "\n"
   ]
  },
  {
   "cell_type": "code",
   "execution_count": 15,
   "metadata": {
    "colab": {},
    "colab_type": "code",
    "id": "lIUtG8W_ZQEb"
   },
   "outputs": [
    {
     "data": {
      "text/plain": [
       "{'Fog': 125, 'Fog-Rain': 4, 'Rain': 25, 'Sunny': 210, 'Thunderstorm': 1}"
      ]
     },
     "execution_count": 15,
     "metadata": {},
     "output_type": "execute_result"
    }
   ],
   "source": [
    "weather_counts = {}\n",
    "\n",
    "for i in weather:\n",
    "    if i in weather_counts:\n",
    "        weather_counts[i] += 1\n",
    "    else:\n",
    "        weather_counts[i] = 1\n",
    "weather_counts"
   ]
  },
  {
   "cell_type": "markdown",
   "metadata": {
    "colab_type": "text",
    "id": "KpFA8IJSZlNU"
   },
   "source": [
    "# Introduction to Functions"
   ]
  },
  {
   "cell_type": "markdown",
   "metadata": {
    "colab_type": "text",
    "id": "u4tOzSRnZn02"
   },
   "source": [
    "## Overview \n",
    "\n",
    "In this section, we will work with a data set consisting of high-grossing movies, according to the [Internet Movie Database(IMDb)](http://www.imdb.com/). IMDb is an online extensive database for films, television programs and video games. Our end goal is to create a dictionary that stores useful statistics from this data set, named **movie_metadata**. In order to do this, we will:\n",
    "\n",
    "- Clean data to make the information useful to us more easily accessible\n",
    "- Practice using dictionaries in more complex functions\n",
    "- Learn how to write our own functions!\n",
    "\n",
    "\n",
    "We'll be working with **movie_metadata.csv**, which is a CSV file. You may recall that CSV stands for \"Comma-Separated Values\", meaning that the values in the data set are separated by commas. Similar to previous missions where we worked with CSV files, we need to represent the CSV file in a structure that Python is familiar with, which would allow us to manipulate it. This time, we ask you to do all the necessary parsing.\n",
    "\n",
    "Below is a table showing the first 5 movies in the list, but you may realize that there are 6 rows in the diagram. The first element of **movie_metadata** is not a movie, but instead is a list of the attributes that the other elements have. This is called a header row, and we will deal with it later in the section.\n",
    "\n",
    "| movie_title | director_name | color | duration | actor_1_name | language | country | title_year |\n",
    "|----------------------------------------------|-------------------|-------|----------|-----------------|----------|---------|------------|\n",
    "| Avatar | James Cameron | Color | 178 | CCH Pounder | English | USA | 2009 |\n",
    "| Pirates of the Caribbean: At the World's End | Gore Verbinski | Color | 169 | Johnny Depp | English | USA | 2007 |\n",
    "| Spectre | Sam Mendes | Color | 148 | Christoph Waltz | English | UK | 2015 |\n",
    "| The Dark Knight Rises | Christopher Nolan | Color | 164 | Tom Hardy | English | USA | 2012 |\n",
    "| Star Wars VII: The Force Awakens | JJ Abrams | Color | 136 | Harrison Ford | English | USA | 2015 |\n",
    "\n",
    "**Exercise**\n",
    "\n",
    "<left><img align=\"left\" width=\"100\" src=\"https://drive.google.com/uc?export=view&id=1E8tR7B9YYUXsU_rddJAyq0FrM0MSelxZ\" /></left>\n",
    "\n",
    "1. Read **movie_metadata.csv** into a list of lists and assign to **movie_data**.\n",
    "2. Open and read the file **movie_metadata.csv** into a **string variable**.\n",
    "3. Split the data into rows on the newline character (\"\\n\").\n",
    "4. Create an empty list, **movie_data**.\n",
    "5. Loop through each row, and split each row into a list on the comma character (\",\"), and append it to **movie_data**.\n",
    "6. Display the first 5 lists in **movie_data** using the **print()** function."
   ]
  },
  {
   "cell_type": "code",
   "execution_count": 18,
   "metadata": {
    "colab": {},
    "colab_type": "code",
    "id": "eLPo8a7sbGzv"
   },
   "outputs": [
    {
     "data": {
      "text/plain": [
       "['movie_title', 'director_name', 'color', 'duration', 'actor_1_name']"
      ]
     },
     "execution_count": 18,
     "metadata": {},
     "output_type": "execute_result"
    }
   ],
   "source": [
    "movie_data = open(\"movie_metadata.csv\", 'r')\n",
    "rows = movie_data.read().split('\\n')\n",
    "\n",
    "movie_list = []\n",
    "for i in rows:\n",
    "    movie_list.extend(i.split(\",\"))\n",
    "movie_list[:5]"
   ]
  },
  {
   "cell_type": "markdown",
   "metadata": {
    "colab_type": "text",
    "id": "NQRHm2ckcgxW"
   },
   "source": [
    "## Motivating Functions\n",
    "\n",
    "You may realize that parsing this file was not different than parsing any other file from the previous missions. You may also realize that we rarely rewrite the same code twice; instead, we use a method that allows us to reuse code, **functions** such as **print()**, **type()**, **open()**, etc. Now, we formally define functions.\n",
    "\n",
    "As we have seen before, a function is a packaged body of code that we can reuse by **calling** with the relevant parameters. The parameters that a function takes are called the **inputs** of the function, and the result that it returns is called the **output**. For example, we called the **open()** function with two inputs (the strings **\"movie_metadata.csv\"** and **\"r\"**), and received the output which is a **wrapper** for the file **movie_metadata.csv.** All functions follow the same road map as **open()**: They take in **input(s)**, execute the code that they surround, and return an **output**.\n",
    "\n",
    "Because functions are **reusable**, we can package all the parsing we just did into one function. Then, we can call the function whenever we need to parse a file instead of having to rewrite the necessary code every time. We have been making extensive use of functions, so this should not be unfamiliar. If we had a **parser()** function, the code for the last instructions would be as concise as this:\n",
    "\n",
    "```python\n",
    ">>> movie_data = parser(movie_metadata)\n",
    ">>> print(movie_data[0:5])\n",
    "[['movie_title', 'director_name', 'color', 'duration', 'actor_1_name', 'language', 'country', 'title_year'], ['Avatar', 'James Cameron', 'Color', '178', 'CCH Pounder', 'English', 'USA', '2009'], [\"Pirates of the Caribbean: At World's End\", 'Gore Verbinski', 'Color', '169', 'Johnny Depp', 'English', 'USA', '2007'], ['Spectre', 'Sam Mendes', 'Color', '148', 'Christoph Waltz', 'English', 'UK', '2015'], ['The Dark Knight Rises', 'Christopher Nolan', 'Color', '164', 'Tom Hardy', 'English', 'USA', '2012']]\n",
    "```\n",
    "\n",
    "Other than reusability, there are **3 main advantages of using functions**:\n",
    "\n",
    "- They allow us to use other people's code without the necessity to have a deep understanding of how it was written (e.g., we use the **print()** function without reading the code inside it). We call this information hiding.\n",
    "\n",
    "- They **break down complex logic** into smaller components or modules. Instead of writing very lengthy and complicated code, we can progress function by function. For example, if we were writing a larger piece of code, **parser()** as a function would be easier to manage rather than the code that executes the same behavior. This would make testing easier as well. We refer to this as **modularity**, which is especially important when working on teams. **Modularity makes it easier for someone else to read, understand, use, and build upon our code.**\n",
    "- They streamline our code and make it easier **to maintain**. Programmers reuse the same functions in multiple situations across a project. This means that they generalize the function as much as possible to maximize its usefulness. we call this **process abstraction**, which is an important part of reducing our code's complexity, especially for larger projects.\n",
    "\n",
    "\n",
    "Knowing the usefulness of functions, let's see how we can write our own functions.\n",
    "\n",
    "\n",
    "Up until now, we used **built-in** functions: **functions that Python has defined for us**. However, our toolbox is not limited to this; we can write our own functions. The syntax for defining a function consists of 5 parts:\n",
    "\n",
    "- **def keyword** - For Python to interpret the following code as a function\n",
    "- **Name** - To refer to when we need to call the function later\n",
    "- **Arguments** - Input value(s) that the function takes in\n",
    "- **Body** - The code that the function executes\n",
    "- **Return value** - The value that the function returns to the user when the function terminates\n",
    "\n",
    "Let us examine the syntax further, using an example function that returns the first element of a list:\n",
    "\n",
    "```python\n",
    "def first_elt(input_lst):\n",
    "    first = input_lst[0]\n",
    "    return first\n",
    "```\n",
    "\n",
    "We start the function definition with the keyword **def**. We give the function a name that explains its use, in this case: **first_elt()**. Then, we name the single argument that the function takes. Here, we name the argument **input_lst**, suggesting to the user that the function must take in a list as input. In the next line, we define the body of the function, which consists of only one line in our case. This is the actual code that will be executed when the function is called. Finally, we use the keyword **\"return\"** to signify the end of the function, and type the variable that we want returned to the user, in this case, **first**.\n",
    "\n",
    "Here, we should take note of the **indentation** of the function. Realize that after the colon, we indent the remainder of the function by one **tab**, which is the equivalent of **4 space bar strokes**. This is to clarify to Python what part of the code belongs to the function. Therefore, indentation makes functional differences in Python's interpretation of the code. You may notice that if you format the first line of the function correctly, so that Python recognizes that the next line will be the beginning of the function body, it indents the next line by 1 tab automatically. To make this behavior clear, you can see the diagram below and try for yourself. Notice that we do not need to press tab or space bar; Python automatically puts the indentation when we press enter.\n",
    "\n",
    "<img width=\"400\" src=\"https://drive.google.com/uc?export=view&id=1AV7PYW5SrQUPClQwskn_81dqemm9r8aN\">\n",
    "\n",
    "One other thing to note is that **first** and **input_lst** are temporary variables, which means that they are only accessible inside the function. If you attempt to use first somewhere else in the code outside the function, you will get an error saying that first is undefined. For example, observe the example below:\n",
    "\n",
    "\n",
    "<img width=\"300\" src=\"https://drive.google.com/uc?export=view&id=19QaXF1ldAkF1rGIF2zzMZnAz40V89aql\">\n",
    "\n",
    "\n",
    "This error occurs because first does not have a defined value outside of the **first_elt()** function. Then, in order to access the return value of this function, we set it equal to a variable, so the variable gets the function's return value. Here is the fix:\n",
    "\n",
    "<img width=\"300\" src=\"https://drive.google.com/uc?export=view&id=15No0sywSnKO9lHlel7NHMcMsk3ESKYVz\">\n",
    "\n",
    "\n",
    "**Exercise**\n",
    "\n",
    "<left><img align=\"left\" width=\"100\" src=\"https://drive.google.com/uc?export=view&id=1E8tR7B9YYUXsU_rddJAyq0FrM0MSelxZ\" /></left>\n",
    "\n",
    "\n",
    "1. Write a function, with a definition, name, argument(s), body and return value, that returns a list containing the names of the movies in **movie_data**. This function is expected to behave similar to **first_elt()**, but for multiple lists.\n",
    "\n",
    "  - Give the function a name that describes what it does; **first_elts()** is a good example, but feel free to be creative.\n",
    "  - Declare an empty list.\n",
    "  - Use a for loop to extract the first element of each list, and append these elements to the empty list.\n",
    "  - Return the list.\n",
    "2. Assign the returned list to **movie_names.**\n",
    "3. Display the first 5 elements of **movie_names** using the **print()** function."
   ]
  },
  {
   "cell_type": "code",
   "execution_count": null,
   "metadata": {
    "colab": {},
    "colab_type": "code",
    "id": "Jrz0gD-QiNEt"
   },
   "outputs": [],
   "source": [
    "def name"
   ]
  },
  {
   "cell_type": "markdown",
   "metadata": {
    "colab_type": "text",
    "id": "8Yn3sKN4cjDZ"
   },
   "source": [
    "## Functions with Multiple Return Paths\n",
    "\n",
    "Even though we suggested **return** signifies the end of a function, a function can have multiple return statements. We can take advantage of this to add an **if statement** that returns a value if a certain criteria is met, and another value otherwise. For example, let's take a look at a function that checks whether or not the first element of a list is \"blah\":\n",
    "\n",
    "```python\n",
    "def is_blah(input_lst):\n",
    "    if input_lst[0] == \"blah\":\n",
    "        return True\n",
    "    else:\n",
    "        return False\n",
    "```\n",
    "\n",
    "Here, the indentation gives us the necessary intuition to decipher how the function works. If the list's first element is the string \"blah\", then the first return will execute, and the function will end there. However, if the first element is not \"blah\", then the function will continue without executing **return True**, because it doesn't enter that path. Instead, it will continue to the **else** path, and end by executing **return False.**\n",
    "\n",
    "Notice that there is a further layer of indentation after the **if** and **else** statements. Python can do this indentation automatically as well. Here is an example of auto indentation with a for loop:\n",
    "\n",
    "\n",
    "<img width=\"400\" src=\"https://drive.google.com/uc?export=view&id=12nK4Uhl6n4yYmyQgzIFdPUaAuFN_fG8f\">\n",
    "\n",
    "**Exercise**\n",
    "\n",
    "<left><img align=\"left\" width=\"100\" src=\"https://drive.google.com/uc?export=view&id=1E8tR7B9YYUXsU_rddJAyq0FrM0MSelxZ\" /></left>\n",
    "\n",
    "\n",
    "1. Write a function named **is_usa()** that checks whether or not a movie was made in the United States.\n",
    "  - Check the **movie_metadata.csv** file to see which column corresponds to the nationality of the movie. Don't forget to subtract one to find the true index of the column in the list.\n",
    "  - Use an if statement to check the right column of the list with the word \"USA\". The equality operation is case sensitive, so make sure to get the capitilization right.\n",
    "  - Return True if the condition is met, and False otherwise.\n",
    "2. Try it with a few movies in **movie_data**.\n",
    "3. Call it on **wonder_woman** and store the result in **wonder_woman_usa**.\n"
   ]
  },
  {
   "cell_type": "code",
   "execution_count": null,
   "metadata": {
    "colab": {},
    "colab_type": "code",
    "id": "7lGgExxViJRN"
   },
   "outputs": [],
   "source": [
    "wonder_woman = ['Wonder Woman','Patty Jenkins','Color',141,'Gal Gadot','English','USA',2017]\n",
    "\n",
    "def is_usa()"
   ]
  },
  {
   "cell_type": "markdown",
   "metadata": {
    "colab_type": "text",
    "id": "Yc6eyNwHjGoS"
   },
   "source": [
    "## Functions with Multiple Arguments\n",
    "\n",
    "This function works, but its use is quite narrow. If we wanted to check if the first value of the 7th column is \"UK\" instead, we would have to write a completely separate function:\n",
    "\n",
    "```python\n",
    "def is_uk(input_lst):\n",
    "    if input_lst[6] == \"UK\":\n",
    "        return True\n",
    "    else:\n",
    "        return False\n",
    "```\n",
    "\n",
    "However, you can see that this function is almost the same with **is_usa()**, except for the string they check for. This can give us the intuition that there is another layer of abstraction we can perform. If we could write a function that takes in two inputs, namely, the list and the string to check for, we could eliminate the inefficiency of writing the same code twice. Fortunately, we can exactly do that:\n",
    "\n",
    "```python\n",
    "def equals_str(input_lst,input_str):\n",
    "    if input_lst[0] == input_str:\n",
    "        return True\n",
    "    else:\n",
    "        return False\n",
    "```\n",
    "\n",
    "Now, **is_usa(input_lst)** behaves the same way as **equals_str(input_lst,\"USA\")**, and **is_uk(input_lst)** behaves the same way as **equals_str(input_lst,\"UK\")**.\n",
    "\n",
    "Because there is more than one argument in this function, the order with which we call the arguments becomes important. For example, **equals_str(movie_data[4], \"UK\")** would be correct; however, **equals_str(\"UK\",movie_data[4])** would not, because the function expects to get the list first and the string second. \n",
    "\n",
    "If we want to override this, we have to use **named arguments** instead of the **default, positional arguments**. If we explicitly write the names of the arguments as we provide them, their positions become unimportant. This means that **equals_str(input_str=\"UK\",input_lst=movie_data[4])** does not result in an error. **Naming arguments** does not add any functionality, **but it may embellish the readability of the code**, which is important if you are working on a team.\n",
    "\n",
    "Finally, we can abstract out another layer by adding a third argument that will determine which column of the list the checked attribute is.\n",
    "\n",
    "**Exercise**\n",
    "\n",
    "<left><img align=\"left\" width=\"100\" src=\"https://drive.google.com/uc?export=view&id=1E8tR7B9YYUXsU_rddJAyq0FrM0MSelxZ\" /></left>\n",
    "\n",
    "1. Write a function **index_equals_str()** that takes in three arguments: **a list**, **an index** and **a string**, and checks whether that index of the list is equal to that string.\n",
    "\n",
    "2. Call the function with a different order of the inputs, using named arguments.\n",
    "\n",
    "3. Call the function on **wonder_woman** to check whether or not it is a movie in color, store it in **wonder_woman_in_color**, and **print()** the value."
   ]
  },
  {
   "cell_type": "code",
   "execution_count": null,
   "metadata": {
    "colab": {},
    "colab_type": "code",
    "id": "BGYJAoF4xnSz"
   },
   "outputs": [],
   "source": [
    "wonder_woman = ['Wonder Woman','Patty Jenkins','Color',141,'Gal Gadot','English','USA',2017]\n",
    "\n",
    "def is_usa(input_lst):\n",
    "    if input_lst[6] == \"USA\":\n",
    "        return True\n",
    "    else:\n",
    "        return False\n",
    "\n",
    "# put your code here"
   ]
  },
  {
   "cell_type": "markdown",
   "metadata": {
    "colab_type": "text",
    "id": "59BOl5ZxzBiD"
   },
   "source": [
    "## Optional Arguments\n",
    "\n",
    "In the beginning of the section, we observed that the first row of **movie_metadata** is not an element of the data itself, but is a list of the attributes that defines that data. Although this is useful, there is no need for this row to be a part of our **movie_data**, and can actually cause misinformation. Let's say we want to count the number of movies in the list. Our intuition might be to do the following:\n",
    "\n",
    "```python\n",
    "def naive_counter(input_lst):\n",
    "    num_elt = 0\n",
    "    for each in input_lst:\n",
    "        num_elt = num_elt + 1\n",
    "    return num_elt\n",
    "```\n",
    "\n",
    "However, if we attempt to call this function with **movie_data** as its argument, we get a wrong answer:\n",
    "\n",
    "```python\n",
    ">>> print(naive_counter(movie_data))\n",
    "4933\n",
    "```\n",
    "\n",
    "This is because the first item in the list is also counted by the counter. Of course, we can get around this by subtracting one from the result, but manipulating the function that way would cause it to be unusable in cases where there is no header row. This is not generalizable, so it is not a neat solution. Instead, we can use an argument that has a default value that can be manipulated, we call this an **optional argument**. Optional arguments have default values that they take on unless a different value is provided by the user.\n",
    "\n",
    "In this case, the default value for an argument that determines whether or not there is a header row would be **False**, because most datasets do not have header rows. However, when we encounter a dataset like this one, we can call the counter by explicitly telling it that there is a header row. Let's modify the function to have this behavior by adding an optional parameter:\n",
    "\n",
    "```python\n",
    "def counter(input_lst,header_row = False):\n",
    "    num_elt = 0\n",
    "    if header_row == True:\n",
    "        input_lst = input_lst[1:len(input_lst)]\n",
    "    for each in input_lst:\n",
    "        num_elt = num_elt + 1\n",
    "    return num_elt\n",
    "```\n",
    "\n",
    "Now, the function will behave as we expected:\n",
    "\n",
    "```python\n",
    ">>> print(counter(movie_data))\n",
    "4933\n",
    ">>> print(counter(movie_data, True))\n",
    "4932\n",
    "```\n",
    "\n",
    "If we are concerned about the readability of our code by co-workers, we can name the optional argument as well:\n",
    "\n",
    "```python\n",
    ">>> print(counter(movie_data, header_row = True))\n",
    "4932\n",
    "```\n",
    "\n",
    "This way, if there are multiple optional arguments, and you want to provide a latter optional argument, then you can name the arguments and guarantee that Python understands which input corresponds to which argument.\n",
    "\n",
    "\n",
    "**Exercise**\n",
    "\n",
    "<left><img align=\"left\" width=\"100\" src=\"https://drive.google.com/uc?export=view&id=1E8tR7B9YYUXsU_rddJAyq0FrM0MSelxZ\" /></left>\n",
    "mg width=\"60\" src=\"https://drive.google.com/uc?export=view&id=1QoTRiOtUzjnbRL7Ue5uPxKse03tE1tPe\">\n",
    "\n",
    "\n",
    "1. Write a function named **feature_counter()** that combines the logic of the **index_equals_str()** and **counter()** functions.\n",
    "2. Use this to find out how many of the movies were made in USA, and store the value in **num_of_us_movies**.\n",
    "\n",
    "\n",
    "\n"
   ]
  },
  {
   "cell_type": "code",
   "execution_count": null,
   "metadata": {
    "colab": {},
    "colab_type": "code",
    "id": "kcXBFfmYqwNa"
   },
   "outputs": [],
   "source": [
    "# put your code here"
   ]
  },
  {
   "cell_type": "markdown",
   "metadata": {
    "colab_type": "text",
    "id": "UhuuvFTfnV1m"
   },
   "source": [
    "## Calling a Function inside another Function\n",
    "\n",
    "Now, we have all the tools we need to create the statistics summary function we explained in the beginning of this section. However, we would like **summary_statistics()** to be a function itself, and re-writing all of the code inside **feature_counter()** in **summary_statistics()** defies the purpose of using a function. You may remember that one of the big advantages of using a function is **abstraction**: the fact that it saves us from having to write the same code twice. In this vein, the last feature of functions that we will use is the ability to call a function inside another function.\n",
    "\n",
    "The body of one function can include a call to another function. We have already seen this, because comparison operators such as the equality operator (** == ** ) and arithmetic operations such as sum  (**+** ) and minus (**-**) are functions as well. Similarly, we can call built-in or user-created functions by making their return values equal to a variable in the outer function, so that we can use that variable in the function.\n",
    "\n",
    "Let's say we want to build a function **list_counter()** that will count the elements in multiple lists, and make a separate list holding these values. This is how we want the function to operate:\n",
    "\n",
    "```python\n",
    ">>> lists = [[\"dog\",\"cat\",\"rabbit\"],[1,2,3,4],[True]]\n",
    ">>> list_count = (list_counter(lists))\n",
    ">>> print(list_count)\n",
    "[3,4,1]\n",
    "```\n",
    "\n",
    "Even though this seems like a complicated problem, because we have a counter function, it will not take more than 6 lines:\n",
    "\n",
    "```python\n",
    "def list_counter(input_lst):\n",
    "    final_list = []\n",
    "    for each in input_lst:\n",
    "        num_elt = counter(each)\n",
    "        final_list.append(num_elt)\n",
    "    return final_list\n",
    "```\n",
    "\n",
    "As you can see, we called the user-defined function **counter()** and assigned its return value to **num_elt**. Each time the for loop starts, the counter will be called with a different argument (the current value assigned to **each**), and return a different value. Whenever we define a new function, we can call it inside another function using this syntax.\n",
    "\n",
    "Similarly, we can make use of **feature_counter()** when we are building our final function. Now, you are ready to build **summary_statistics()!**\n",
    "\n",
    "\n",
    "**Exercise**\n",
    "\n",
    "<left><img align=\"left\" width=\"100\" src=\"https://drive.google.com/uc?export=view&id=1E8tR7B9YYUXsU_rddJAyq0FrM0MSelxZ\" /></left>\n",
    "\n",
    "\n",
    "1. Write a **summary_statistics()** function that will take **movie_data** as input, and output a dictionary that will give useful numbers from the data.\n",
    "  - Define **summary_statistics()** with one argument, an input list.\n",
    "  - Use the **feature_counter()** with the relevant arguments to count the following properties and make them equal to the corresponding variables.\n",
    "     - Assign the number of movies made in **Japan** to **num_japan_films.**\n",
    "    - Assign the number of movies in **color** to **num_color_films.**\n",
    "    - Assign the number of movies in **English** to **num_films_in_english.**\n",
    "  - Create a dictionary that associates the keys (**japan_films,color_films,films_in_english**) with the corresponding variables.\n",
    "  - Return the dictionary.\n",
    "2. Call the function with **movie_data** as its input, and store its value in **summary**.\n",
    "\n",
    "\n"
   ]
  },
  {
   "cell_type": "code",
   "execution_count": null,
   "metadata": {
    "colab": {},
    "colab_type": "code",
    "id": "faugI4vHp7MB"
   },
   "outputs": [],
   "source": [
    "def feature_counter(input_lst,index, input_str, header_row = False):\n",
    "    num_elt = 0\n",
    "    if header_row == True:\n",
    "        input_lst = input_lst[1:len(input_lst)]\n",
    "    for each in input_lst:\n",
    "        if each[index] == input_str:\n",
    "            num_elt = num_elt + 1\n",
    "    return num_elt\n",
    "  \n",
    "# put your code here"
   ]
  },
  {
   "cell_type": "markdown",
   "metadata": {
    "colab_type": "text",
    "id": "aSMCcD3Eq1Yv"
   },
   "source": [
    "# Debugging Errors\n"
   ]
  },
  {
   "cell_type": "markdown",
   "metadata": {
    "colab_type": "text",
    "id": "Wun-Lcn4rqb_"
   },
   "source": [
    "## Types of Errors\n",
    "\n",
    "As we begin to take greater advantage of functions to organize our code, it can become more complex. We need to better understand the kinds of mistakes we can make when writing it. We've talked briefly about errors, or mistakes that prevent our code from working as we expect, in previous missions. Now it's time to learn more about them.\n",
    "\n",
    "The two main types of errors are:\n",
    "\n",
    "- Syntax errors\n",
    "- Runtime errors\n",
    "\n",
    "Before code can be run, it must be parsed by the Python interpreter and organized into a data structure that represents the flow and complexity of the code we wrote. If the interpreter encounters any code that doesn't adhere to Python's language rules, it halts the parsing and returns an error. Rich coding environments like [Atom](https://atom.io/) and [Jupyter Notebook ](https://jupyter.org/) help us prevent these types of errors through syntax highlighting - a feature that displays different parts of our code (such as brackets) in different colors. Syntax highlighting makes it easier to read our code and spot errors. Some examples of syntax errors include:\n",
    "\n",
    "- Missing ending quotes or starting quotes\n",
    "- Using improper indentation\n",
    "- Using improper keywords\n",
    "\n",
    "Runtime errors only occur when the code is actually running, which makes them harder to catch and prevent beforehand. Some examples of runtime errors include:\n",
    "\n",
    "- Calling a function before it's defined\n",
    "- Calling a method or attribute that the object doesn't contain\n",
    "- Attempting to convert a value to an incompatible data type\n",
    "\n",
    "Let's explore some more specific examples of these types of errors.\n",
    "\n"
   ]
  },
  {
   "cell_type": "markdown",
   "metadata": {
    "colab_type": "text",
    "id": "EliJXj6BsJvX"
   },
   "source": [
    "## Sintax Errors\n",
    "\n",
    "Here's a simple example of a syntax error:\n",
    "\n",
    "```python\n",
    "# Missing ending quotes.\n",
    "the_answer = \"42\n",
    "```\n",
    "\n",
    "When we run the above line of code, we'll get back an error message describing the mistake we made, as well as the Python interpreter's best guess as to where it occurred:\n",
    "\n"
   ]
  },
  {
   "cell_type": "code",
   "execution_count": null,
   "metadata": {
    "colab": {
     "base_uri": "https://localhost:8080/",
     "height": 130
    },
    "colab_type": "code",
    "id": "vNc5RnPnsi-x",
    "outputId": "4026e625-5611-4281-963a-8805f814e56d"
   },
   "outputs": [
    {
     "ename": "SyntaxError",
     "evalue": "ignored",
     "output_type": "error",
     "traceback": [
      "\u001b[0;36m  File \u001b[0;32m\"<ipython-input-2-85ffad3b5465>\"\u001b[0;36m, line \u001b[0;32m1\u001b[0m\n\u001b[0;31m    the_answer = \"42\u001b[0m\n\u001b[0m                    ^\u001b[0m\n\u001b[0;31mSyntaxError\u001b[0m\u001b[0;31m:\u001b[0m EOL while scanning string literal\n"
     ]
    }
   ],
   "source": [
    "the_answer = \"42"
   ]
  },
  {
   "cell_type": "markdown",
   "metadata": {
    "colab_type": "text",
    "id": "tedamHOmsiN1"
   },
   "source": [
    "\n",
    "\n",
    "Python uses the **SyntaxError** class to represent syntax errors, and displays the error message after the colon. The interpreter may sometimes struggle to pinpoint the problematic code that caused the error. In the following code block, for example, we attempt to define the **find()** function, but misspell the **def keyword** as **de**:\n",
    "\n"
   ]
  },
  {
   "cell_type": "code",
   "execution_count": null,
   "metadata": {
    "colab": {
     "base_uri": "https://localhost:8080/",
     "height": 130
    },
    "colab_type": "code",
    "id": "1ORuDaTutDYu",
    "outputId": "dd82fa7d-654d-4f5d-dd98-31739acf9c60"
   },
   "outputs": [
    {
     "ename": "SyntaxError",
     "evalue": "ignored",
     "output_type": "error",
     "traceback": [
      "\u001b[0;36m  File \u001b[0;32m\"<ipython-input-3-3ae0fdd21c4a>\"\u001b[0;36m, line \u001b[0;32m1\u001b[0m\n\u001b[0;31m    de find():\u001b[0m\n\u001b[0m          ^\u001b[0m\n\u001b[0;31mSyntaxError\u001b[0m\u001b[0;31m:\u001b[0m invalid syntax\n"
     ]
    }
   ],
   "source": [
    "# `def` keyword misspelled as `de`.\n",
    "de find():\n",
    "    print(\"42\")"
   ]
  },
  {
   "cell_type": "markdown",
   "metadata": {
    "colab_type": "text",
    "id": "w1aBTDaftBiq"
   },
   "source": [
    "\n",
    "The **error message** suggests that the mistake was in the function name, rather than the **def keyword**.\n",
    "\n",
    "\n",
    "Sometimes the Python interpreter will return an **IndentationError** instead of a **SyntaxError.** This object represents a more specific syntax error that makes it easier to debug our code. We'll see an **IndentationError** when the indentation in our code is inconsistent. Here's an example:\n",
    "\n",
    "```python\n",
    "def find():\n",
    "    print(\"42\")\n",
    "     print(\"what, really?\")\n",
    "```\n",
    "\n",
    "Notice that the second print statement is indented differently than the first one (with one extra space). It also doesn't follow the indentation rules for code blocks such as if statements and for loops. It will return the following error:\n",
    "\n"
   ]
  },
  {
   "cell_type": "code",
   "execution_count": null,
   "metadata": {
    "colab": {
     "base_uri": "https://localhost:8080/",
     "height": 130
    },
    "colab_type": "code",
    "id": "ikixaq42tdXv",
    "outputId": "f69fbb3e-85a9-4a8a-f802-f8623ee6a5c9"
   },
   "outputs": [
    {
     "ename": "IndentationError",
     "evalue": "ignored",
     "output_type": "error",
     "traceback": [
      "\u001b[0;36m  File \u001b[0;32m\"<ipython-input-4-dd6a6ca22a8f>\"\u001b[0;36m, line \u001b[0;32m3\u001b[0m\n\u001b[0;31m    print(\"what, really?\")\u001b[0m\n\u001b[0m    ^\u001b[0m\n\u001b[0;31mIndentationError\u001b[0m\u001b[0;31m:\u001b[0m unexpected indent\n"
     ]
    }
   ],
   "source": [
    "def find():\n",
    "    print(\"42\")\n",
    "     print(\"what, really?\")"
   ]
  },
  {
   "cell_type": "markdown",
   "metadata": {
    "colab_type": "text",
    "id": "vU9OYdnQtcPD"
   },
   "source": [
    "\n",
    "\n",
    "Let's practice debugging and fixing syntax errors in the **first_elts()** function from the previous section.\n",
    "\n",
    "**Exercise**\n",
    "\n",
    "<left><img align=\"left\" width=\"100\" src=\"https://drive.google.com/uc?export=view&id=1E8tR7B9YYUXsU_rddJAyq0FrM0MSelxZ\" /></left>\n",
    "\n",
    "1. The function **first_elts()** contains multiple syntax errors. Scan and edit the code to resolve these errors."
   ]
  },
  {
   "cell_type": "code",
   "execution_count": null,
   "metadata": {
    "colab": {
     "base_uri": "https://localhost:8080/",
     "height": 130
    },
    "colab_type": "code",
    "id": "_ymxfPzbsscK",
    "outputId": "663ac699-ed07-40b9-faf5-8df31099d3e5"
   },
   "outputs": [
    {
     "ename": "IndentationError",
     "evalue": "ignored",
     "output_type": "error",
     "traceback": [
      "\u001b[0;36m  File \u001b[0;32m\"<ipython-input-5-7b838ec1b5a8>\"\u001b[0;36m, line \u001b[0;32m2\u001b[0m\n\u001b[0;31m    elts = []\u001b[0m\n\u001b[0m       ^\u001b[0m\n\u001b[0;31mIndentationError\u001b[0m\u001b[0;31m:\u001b[0m expected an indented block\n"
     ]
    }
   ],
   "source": [
    "def first_elts (input_lst):\n",
    "elts = []\n",
    "    for each in input_lst:\n",
    "        elts.append(each0)\n",
    "    retern elts\n",
    "\n",
    "animals = [[\"dog\",\"cat\",\"rabbit\"],[\"turtle\",\"snake\"],[\"sloth\",\"penguin\",\"bird\"]]\n",
    "first_animal = first_elts(animals)\n",
    "print(first_animal)\n"
   ]
  },
  {
   "cell_type": "markdown",
   "metadata": {
    "colab_type": "text",
    "id": "966qqqJFt8n_"
   },
   "source": [
    "## Runtime Errors\n",
    "\n",
    "**Runtime errors** are very common. While code often works in predictable situations, runtime errors occur when it fails at handling a case the programmer didn't account for.\n",
    "\n",
    "Because runtime errors occur when our code is running and can't be detected during parsing, they're more difficult to prevent than syntax errors. As you become more proficient in programming, however, you'll learn to identify potential runtime errors beforehand and prevent them from occurring. Python and most other programming languages include tools like error handling and automated tests that help you manage and reduce runtime errors. As your code becomes more complex, you'll learn how to incorporate errors into the functions you write to so that they fail gracefully, and prevent certain negative behavior from occurring.\n",
    "\n",
    "[The documentation for Python](https://docs.python.org/3/library/exceptions.html#IndentationError) includes a full list of possible errors. If you glance at the hierarchy of errors [here](https://docs.python.org/3/library/exceptions.html#exception-hierarchy), the **SyntaxError** class is a small fraction of the entire tree of possibilities; the rest are runtime errors. Let's look at some examples of runtime errors."
   ]
  },
  {
   "cell_type": "markdown",
   "metadata": {
    "colab_type": "text",
    "id": "v17gkjfqvZKf"
   },
   "source": [
    "## TypeError and ValueError\n",
    "\n",
    "In the following code, we try to concatenate a string and an integer. This returns a **TypeError** because the Python interpreter expects values being added to be the same type."
   ]
  },
  {
   "cell_type": "code",
   "execution_count": null,
   "metadata": {
    "colab": {
     "base_uri": "https://localhost:8080/",
     "height": 181
    },
    "colab_type": "code",
    "id": "oDjoO2y6vsN5",
    "outputId": "35f3a499-337d-4ed9-fa33-d62d5b941e0d"
   },
   "outputs": [
    {
     "ename": "TypeError",
     "evalue": "ignored",
     "output_type": "error",
     "traceback": [
      "\u001b[0;31m---------------------------------------------------------------------------\u001b[0m",
      "\u001b[0;31mTypeError\u001b[0m                                 Traceback (most recent call last)",
      "\u001b[0;32m<ipython-input-6-c0ddbf429e08>\u001b[0m in \u001b[0;36m<module>\u001b[0;34m()\u001b[0m\n\u001b[1;32m      1\u001b[0m \u001b[0mforty_two\u001b[0m \u001b[0;34m=\u001b[0m \u001b[0;36m42\u001b[0m\u001b[0;34m\u001b[0m\u001b[0m\n\u001b[0;32m----> 2\u001b[0;31m \u001b[0mforty_two\u001b[0m \u001b[0;34m+\u001b[0m \u001b[0;34m\"42\"\u001b[0m\u001b[0;34m\u001b[0m\u001b[0m\n\u001b[0m",
      "\u001b[0;31mTypeError\u001b[0m: unsupported operand type(s) for +: 'int' and 'str'"
     ]
    }
   ],
   "source": [
    "forty_two = 42\n",
    "forty_two + \"42\""
   ]
  },
  {
   "cell_type": "markdown",
   "metadata": {
    "colab_type": "text",
    "id": "7iqMYJXPvsx0"
   },
   "source": [
    "You may have noticed that runtime errors look a little different. For example, the error appears twice (**TypeError** is in the top left and bottom left corners). In addition, the text **Traceback** (most recent call last) appears at the top right corner. The traceback displays all the code that was executed, **ending with the most recent call that actually caused the error**. While the code in this example is very simple, we'll explore some errors where the traceback is more useful later in this mission.\n",
    "\n",
    "Another common runtime error is the **ValueError**, which is generated when the type is correct but the value is still improper. A **ValueError** is returned when we try to convert a string representing a non-numeric value into a numeric type, such as a float. Recall that we use the **float()** function to cast, or convert, a value to a float:\n",
    "\n"
   ]
  },
  {
   "cell_type": "code",
   "execution_count": null,
   "metadata": {
    "colab": {
     "base_uri": "https://localhost:8080/",
     "height": 164
    },
    "colab_type": "code",
    "id": "7a3KwXwx1bec",
    "outputId": "093e5e12-850b-4785-a056-b8215d77d484"
   },
   "outputs": [
    {
     "ename": "ValueError",
     "evalue": "ignored",
     "output_type": "error",
     "traceback": [
      "\u001b[0;31m---------------------------------------------------------------------------\u001b[0m",
      "\u001b[0;31mValueError\u001b[0m                                Traceback (most recent call last)",
      "\u001b[0;32m<ipython-input-7-325ad4dda32a>\u001b[0m in \u001b[0;36m<module>\u001b[0;34m()\u001b[0m\n\u001b[0;32m----> 1\u001b[0;31m \u001b[0mfloat\u001b[0m\u001b[0;34m(\u001b[0m\u001b[0;34m\"guardians\"\u001b[0m\u001b[0;34m)\u001b[0m\u001b[0;34m\u001b[0m\u001b[0m\n\u001b[0m",
      "\u001b[0;31mValueError\u001b[0m: could not convert string to float: 'guardians'"
     ]
    }
   ],
   "source": [
    "float(\"guardians\")"
   ]
  },
  {
   "cell_type": "markdown",
   "metadata": {
    "colab_type": "text",
    "id": "ey4Ao_as1dhW"
   },
   "source": [
    "While trying to cast a string to a float isn't automatically an issue (which is why there was no TypeError), the specific value that we tried to cast was problematic. The **float()** function didn't know how to cast **\"guardians\"** into a float, and returned an instance of **ValueError** instead.\n",
    "\n"
   ]
  },
  {
   "cell_type": "markdown",
   "metadata": {
    "colab_type": "text",
    "id": "WfhUt-8Q1pxc"
   },
   "source": [
    "## IndexError and AttributeError\n",
    "\n",
    "The **IndexError** is a common error that's returned when we try to access an element that's not in a list's index. Trying to access the fifth element in a list containing only two elements would return this error, for example. Here's what this looks like:\n",
    "\n"
   ]
  },
  {
   "cell_type": "code",
   "execution_count": null,
   "metadata": {
    "colab": {
     "base_uri": "https://localhost:8080/",
     "height": 181
    },
    "colab_type": "code",
    "id": "-aESwsvS3CPV",
    "outputId": "15f2be48-4a6e-4e48-9675-6ce1abee4e9b"
   },
   "outputs": [
    {
     "ename": "IndexError",
     "evalue": "ignored",
     "output_type": "error",
     "traceback": [
      "\u001b[0;31m---------------------------------------------------------------------------\u001b[0m",
      "\u001b[0;31mIndexError\u001b[0m                                Traceback (most recent call last)",
      "\u001b[0;32m<ipython-input-8-e6921ecc6ecc>\u001b[0m in \u001b[0;36m<module>\u001b[0;34m()\u001b[0m\n\u001b[1;32m      1\u001b[0m \u001b[0mlives\u001b[0m \u001b[0;34m=\u001b[0m \u001b[0;34m[\u001b[0m\u001b[0;36m1\u001b[0m\u001b[0;34m,\u001b[0m\u001b[0;36m2\u001b[0m\u001b[0;34m,\u001b[0m\u001b[0;36m3\u001b[0m\u001b[0;34m]\u001b[0m\u001b[0;34m\u001b[0m\u001b[0m\n\u001b[0;32m----> 2\u001b[0;31m \u001b[0mlives\u001b[0m\u001b[0;34m[\u001b[0m\u001b[0;36m4\u001b[0m\u001b[0;34m]\u001b[0m\u001b[0;34m\u001b[0m\u001b[0m\n\u001b[0m",
      "\u001b[0;31mIndexError\u001b[0m: list index out of range"
     ]
    }
   ],
   "source": [
    "lives = [1,2,3]\n",
    "lives[4]"
   ]
  },
  {
   "cell_type": "markdown",
   "metadata": {
    "colab_type": "text",
    "id": "wdcqzc9u3D_Z"
   },
   "source": [
    "Since there's no value at index four, an **IndexError** is returned, along with an arrow pointing to the problematic line of code. If we're working with a list and don't know its length, use the **len()**  function to look up the number of elements before attempting to access them.\n",
    "\n",
    "The final runtime error we'll explore is the **AttributeError.** This occurs when we try to call a method or attribute on an object that doesn't contain it. In the following code, we try to call the **split()** method on the **File handler** instance, instead of using the **read()** method to read it into a string first:\n",
    "\n"
   ]
  },
  {
   "cell_type": "code",
   "execution_count": null,
   "metadata": {
    "colab": {
     "base_uri": "https://localhost:8080/",
     "height": 181
    },
    "colab_type": "code",
    "id": "vagg5S3u3ZqH",
    "outputId": "bfdf901e-a108-48d2-e806-f26f2a17ff0d"
   },
   "outputs": [
    {
     "ename": "AttributeError",
     "evalue": "ignored",
     "output_type": "error",
     "traceback": [
      "\u001b[0;31m---------------------------------------------------------------------------\u001b[0m",
      "\u001b[0;31mAttributeError\u001b[0m                            Traceback (most recent call last)",
      "\u001b[0;32m<ipython-input-15-4cad13e731cc>\u001b[0m in \u001b[0;36m<module>\u001b[0;34m()\u001b[0m\n\u001b[1;32m      1\u001b[0m \u001b[0mf\u001b[0m \u001b[0;34m=\u001b[0m \u001b[0mopen\u001b[0m\u001b[0;34m(\u001b[0m\u001b[0;34m\"story.txt\"\u001b[0m\u001b[0;34m)\u001b[0m\u001b[0;34m\u001b[0m\u001b[0m\n\u001b[0;32m----> 2\u001b[0;31m \u001b[0mf\u001b[0m\u001b[0;34m.\u001b[0m\u001b[0msplit\u001b[0m\u001b[0;34m(\u001b[0m\u001b[0;34m\" \"\u001b[0m\u001b[0;34m)\u001b[0m\u001b[0;34m\u001b[0m\u001b[0m\n\u001b[0m",
      "\u001b[0;31mAttributeError\u001b[0m: '_io.TextIOWrapper' object has no attribute 'split'"
     ]
    }
   ],
   "source": [
    "f = open(\"story.txt\")\n",
    "f.split(\" \")"
   ]
  },
  {
   "cell_type": "markdown",
   "metadata": {
    "colab_type": "text",
    "id": "3aZH18Dn3wHN"
   },
   "source": [
    "**TextIOWrapper** is a built-in Python object that represents the File handler. It does not contain the **split()** method. Since the Python interpreter couldn't find the **split()** method within the **TextIOWrapper** class, it returned an instance of **AttributeError.**\n",
    "\n",
    "\n",
    "**Exercise**\n",
    "\n",
    "<left><img align=\"left\" width=\"100\" src=\"https://drive.google.com/uc?export=view&id=1E8tR7B9YYUXsU_rddJAyq0FrM0MSelxZ\" /></left>\n",
    "\n",
    "1. Edit the default code and fix the errors:\n",
    "\n",
    "- Access the first element in **lives** (instead of the fifth) and assign it to a new variable **first_life.**\n",
    "- Use the **read()** method to read the file **story.txt** into a string named story.\n",
    "- Use the **split()** method to split the story variable into strings seperated by spaces and assign the result to **split_story**.\n",
    "- Display **first_life** and **story**."
   ]
  },
  {
   "cell_type": "code",
   "execution_count": null,
   "metadata": {
    "colab": {
     "base_uri": "https://localhost:8080/",
     "height": 232
    },
    "colab_type": "code",
    "id": "N5JGPsCs4X48",
    "outputId": "8393726d-64e2-48f0-8c6d-ae085d2e6a8b"
   },
   "outputs": [
    {
     "ename": "IndexError",
     "evalue": "ignored",
     "output_type": "error",
     "traceback": [
      "\u001b[0;31m---------------------------------------------------------------------------\u001b[0m",
      "\u001b[0;31mIndexError\u001b[0m                                Traceback (most recent call last)",
      "\u001b[0;32m<ipython-input-17-f302f35fc49a>\u001b[0m in \u001b[0;36m<module>\u001b[0;34m()\u001b[0m\n\u001b[1;32m      1\u001b[0m \u001b[0mlives\u001b[0m \u001b[0;34m=\u001b[0m \u001b[0;34m[\u001b[0m\u001b[0;36m1\u001b[0m\u001b[0;34m,\u001b[0m\u001b[0;36m2\u001b[0m\u001b[0;34m,\u001b[0m\u001b[0;36m3\u001b[0m\u001b[0;34m]\u001b[0m\u001b[0;34m\u001b[0m\u001b[0m\n\u001b[0;32m----> 2\u001b[0;31m \u001b[0mlives\u001b[0m\u001b[0;34m[\u001b[0m\u001b[0;36m4\u001b[0m\u001b[0;34m]\u001b[0m\u001b[0;34m\u001b[0m\u001b[0m\n\u001b[0m\u001b[1;32m      3\u001b[0m \u001b[0;34m\u001b[0m\u001b[0m\n\u001b[1;32m      4\u001b[0m \u001b[0mf\u001b[0m \u001b[0;34m=\u001b[0m \u001b[0mopen\u001b[0m\u001b[0;34m(\u001b[0m\u001b[0;34m\"story.txt\"\u001b[0m\u001b[0;34m)\u001b[0m\u001b[0;34m\u001b[0m\u001b[0m\n\u001b[1;32m      5\u001b[0m \u001b[0mf\u001b[0m\u001b[0;34m.\u001b[0m\u001b[0msplit\u001b[0m\u001b[0;34m(\u001b[0m\u001b[0;34m\" \"\u001b[0m\u001b[0;34m)\u001b[0m\u001b[0;34m\u001b[0m\u001b[0m\n",
      "\u001b[0;31mIndexError\u001b[0m: list index out of range"
     ]
    }
   ],
   "source": [
    "# Default code containing errors\n",
    "lives = [1,2,3]\n",
    "lives[4]\n",
    "\n",
    "f = open(\"story.txt\")\n",
    "f.split(\" \")"
   ]
  },
  {
   "cell_type": "markdown",
   "metadata": {
    "colab_type": "text",
    "id": "d05I630_4zci"
   },
   "source": [
    "## Traceback\n",
    "\n",
    "When calling a function that uses other functions, our function calls become nested. This can make it harder to debug, since the code that triggered the error is usually inside the function, and different than the code we called. In the following example, we try to call **summary_statistics()**, but it seems that one of the functions that it is referring to is problematic.\n",
    "\n",
    "\n",
    "<img width=\"900\" src=\"https://drive.google.com/uc?export=view&id=1e545kmxFlT0iTLUAvAB4VXTTGmOCSUxW\">\n",
    "\n",
    "\n",
    "The traceback shows the series of function calls that occurred. The topmost function call is the highest level of code we wrote, and oftentimes the section we need to fix. The last function call is where the error actually occurred.\n",
    "\n",
    "\n",
    "**Exercise**\n",
    "\n",
    "<left><img align=\"left\" width=\"100\" src=\"https://drive.google.com/uc?export=view&id=1E8tR7B9YYUXsU_rddJAyq0FrM0MSelxZ\" /></left>\n",
    "\n",
    "1. Edit the default code and remove the error."
   ]
  },
  {
   "cell_type": "code",
   "execution_count": null,
   "metadata": {
    "colab": {},
    "colab_type": "code",
    "id": "P-LeMEMH5VeA"
   },
   "outputs": [],
   "source": [
    "def summary_statistics(input_lst):\n",
    "    num_japan_films = feature_counter(input_lst,6,\"Japan\",True)\n",
    "    num_color_films = feature_counter(input_lst,2,\"Color\",True)\n",
    "    num_films_in_english = feature_counter(input_lst,5,\"English\",True)\n",
    "    summary_dict = {\"japan_films\" : num_japan_films, \"color_films\" : num_color_films, \"films_in_english\" : num_films_in_english}\n",
    "    return summary_dict\n",
    "\n",
    "def feature_counter(input_lst,index, input_str, header_row = False):\n",
    "    num_elt = 0\n",
    "    if header_row == Treu:\n",
    "        input_lst = input_lst[1:len(input_lst)]\n",
    "    for each in input_lst:\n",
    "        if each[index] == input_str:\n",
    "            num_elt = num_elt + 1\n",
    "    return num_elt\n",
    "\n",
    "summary = summary_statistics(movie_data)\n",
    "print(summary)"
   ]
  },
  {
   "cell_type": "markdown",
   "metadata": {
    "colab_type": "text",
    "id": "76-GV_Ef6Vz5"
   },
   "source": [
    "# Challenge - Birth Dates In The United States\n",
    "\n"
   ]
  },
  {
   "cell_type": "markdown",
   "metadata": {
    "colab_type": "text",
    "id": "C-4ZZjuOAwEo"
   },
   "source": [
    "## Introduction to the dataset\n",
    "\n",
    "The raw data behind the story Some People Are Too Superstitious To Have A Baby On Friday The 13th, which you can read [here](https://fivethirtyeight.com/features/some-people-are-too-superstitious-to-have-a-baby-on-friday-the-13th/).\n",
    "\n",
    "We'll be working with the data set from the Centers for Disease Control and Prevention's National National Center for Health Statistics (**\"births.csv\"**). The data set has the following structure:\n",
    "\n",
    "- **year** - Year (1994 to 2003)\n",
    "- **month** - Month (1 to 12)\n",
    "- **date_of_month** - Day number of the month (1 to 31)\n",
    "- **day_of_week** - Day of week, where 1 is Monday and 7 is Sunday\n",
    "- **births** - Number of births\n",
    "\n",
    "\n",
    "**Exercise**\n",
    "\n",
    "<left><img align=\"left\" width=\"100\" src=\"https://drive.google.com/uc?export=view&id=1E8tR7B9YYUXsU_rddJAyq0FrM0MSelxZ\" /></left>\n",
    "\n",
    "1. Read the CSV file **\"births.csv\"** into a string.\n",
    "2. Split the string on the newline character (** \"\\n\" **).\n",
    "3. Display the first 10 values in the resulting list."
   ]
  },
  {
   "cell_type": "markdown",
   "metadata": {
    "colab_type": "text",
    "id": "iiUDrN5DBG8n"
   },
   "source": [
    "## Converting Data Into A List Of Lists\n",
    "\n",
    "While a list of strings helps us get a general picture of the dataset, we need to convert it to a more structured format to be able to analyze it. Specifically, we need to convert the dataset into a list of lists where each nested list contains integer values (not strings). We also need to remove the header row.\n",
    "\n",
    "Here's what we want the data to look like:\n",
    "\n",
    "```python\n",
    "[ \n",
    "  [1994, 1, 1, 6, 8096],\n",
    "  [1994, 1, 2, 7, 7772],\n",
    "  [1994, 1, 3, 1, 10142],\n",
    "  [1994, 1, 4, 2, 11248],\n",
    "  [1994, 1, 5, 3, 11053],\n",
    "...\n",
    "]\n",
    "```\n",
    "\n",
    "**Exercise**\n",
    "\n",
    "<left><img align=\"left\" width=\"100\" src=\"https://drive.google.com/uc?export=view&id=1E8tR7B9YYUXsU_rddJAyq0FrM0MSelxZ\" /></left>\n",
    "\n",
    "1. Create a function named **read_csv()** that:\n",
    "  - Takes a single, required argument, a string representing the file name of the CSV file.\n",
    "  - Reads the file into a string, splits the string on the newline character (** \"\\n\"** ), and removes the header row. Assign this list to **string_list** and create an empty list named **final_list**.\n",
    "  - Uses a **for loop** to:\n",
    "    - Iterate over **string_list**,\n",
    "    - Create an empty list named **int_fields**,\n",
    "    - Splits each row on the comma delimiter (** , ** ) and assigns the resulting list to **string_fields**,\n",
    "    - Converts each value in **string_fields** to an integer and appends to **int_fields**,\n",
    "    - Appends **int_fields** to **final_list**.\n",
    "  - Returns **final_list**.\n",
    "2. Use the **read_csv()** function to read in the file **\"births.csv\"** and assign the result to **cdc_list**.\n",
    "3. Display the first 10 rows of **cdc_list** to confirm it's a list of lists, containing only integer values, and no header row."
   ]
  },
  {
   "cell_type": "markdown",
   "metadata": {
    "colab_type": "text",
    "id": "84pRcUn2-w9z"
   },
   "source": [
    "## Calculating Number Of Births Each Month\n",
    "\n",
    "Now that the data is in a more usable format, we can start to analyze it. Let's calculate the total number of births that occured in each month, across all of the years in the dataset. We'll create a dictionary where each key is a unique month and each value is the number of births that happened in that month, across all years:\n",
    "\n",
    "```python\n",
    "{  \n",
    "   1: 3232517,\n",
    "   2: 3018140,\n",
    "   3: 3322069,\n",
    "   4: 3185314,\n",
    "   5: 3350907,\n",
    "   6: 3296530,\n",
    "   7: 3498783,\n",
    "   8: 3525858,\n",
    "   9: 3439698,\n",
    "   10: 3378814,\n",
    "   11: 3171647,\n",
    "   12: 3301860\n",
    "}\n",
    "```\n",
    "\n",
    "**Exercise**\n",
    "\n",
    "<left><img align=\"left\" width=\"100\" src=\"https://drive.google.com/uc?export=view&id=1E8tR7B9YYUXsU_rddJAyq0FrM0MSelxZ\" /></left>\n",
    "\n",
    "\n",
    "1. Create a function named **month_births()** that:\n",
    "  - Takes a single, required argument, a list of lists.\n",
    "  - Creates an empty dictionary, **births_per_month**, to store the monthly totals.\n",
    "  - Uses a for loop to:\n",
    "    - Iterate over the list of lists,\n",
    "    - Extract the value in the month and births columns,\n",
    "    - If the month value already exists as a key in **births_per_month**, the births value is added to the existing value,\n",
    "    - If the month value doesn't exist as a key in **births_per_month**, it's created and the associated value is the births value.\n",
    "  - After the loop, return the **births_per_month dictionary**.\n",
    "2. Use the **month_births()** function to calculate the monthly totals for the dataset and assign the result to **cdc_month_births**. Display the dictionary."
   ]
  },
  {
   "cell_type": "markdown",
   "metadata": {
    "colab_type": "text",
    "id": "Sf5fCFStA_my"
   },
   "source": [
    "## Calculating Number Of Births Each Day Of Week\n",
    "\n",
    "Let's now create a function that calculates the total number of births for each unique day of the week. Here's what we want the dictionary to look like:\n",
    "\n",
    "```python\n",
    "{\n",
    "  1: 5789166,\n",
    "  2: 6446196,\n",
    "  3: 6322855,\n",
    "  4: 6288429,\n",
    "  5: 6233657,\n",
    "  6: 4562111,\n",
    "  7: 4079723\n",
    "}\n",
    "```\n",
    "\n",
    "**Exercise**\n",
    "\n",
    "<left><img align=\"left\" width=\"100\" src=\"https://drive.google.com/uc?export=view&id=1E8tR7B9YYUXsU_rddJAyq0FrM0MSelxZ\" /></left>\n",
    "\n",
    "\n",
    "1. Create a function named **dow_births()** that takes a single, required argument (a list of lists) and returns a dictionary containing the total number of births for each unique value of the **day_of_week** column.\n",
    "2. Use the **dow_births()** function to return the **day-of-week** totals for the dataset and assign the result to **cdc_day_births**. Display the dictionary."
   ]
  },
  {
   "cell_type": "markdown",
   "metadata": {
    "colab_type": "text",
    "id": "1880dxvHEKNz"
   },
   "source": [
    "## Creating A More General Function\n",
    "\n",
    "You may have noticed that there was a lot of similarity between the two functions you just wrote. While we can also create separate functions to calculate the totals for the **year** and **date_of_month** columns, it's better to create a single function that works for any column and specify the column we want as a parameter each time we call the function.\n",
    "\n",
    "**Exercise**\n",
    "\n",
    "<left><img align=\"left\" width=\"100\" src=\"https://drive.google.com/uc?export=view&id=1E8tR7B9YYUXsU_rddJAyq0FrM0MSelxZ\" /></left>\n",
    "\n",
    "\n",
    "1. Create a function named **calc_counts()** that:\n",
    "  - Takes two, required parameters:\n",
    "    - **data**: a list of lists\n",
    "    - **column**: the column number we want to calculate the totals for\n",
    "  - Populates and returns a dictionary containing the total number of births for each unique value in the column at position column.\n",
    "2. Use the **calc_counts()** function to:\n",
    "  - Return the yearly totals for the dataset and assign the result to **cdc_year_births**.\n",
    "  - Return the monthly totals for the dataset and assign the result to **cdc_month_births**.\n",
    "  - Return the day-of-month totals for the dataset and assign the result to **cdc_dom_births**.\n",
    "  - Return the day-of-week totals for the dataset and assign the result to **cdc_dow_births**."
   ]
  },
  {
   "cell_type": "markdown",
   "metadata": {
    "colab_type": "text",
    "id": "e27bxqprFgTr"
   },
   "source": [
    "## Next Steps\n",
    "\n",
    "That's it for the challenge. Here are some suggestions for next steps:\n",
    "\n",
    "1. Write a function that can calculate the **min** and **max** values for any dictionary that's passed in.\n",
    "2. Write a function that extracts the same values across years and calculates the differences between consecutive values to show if number of births is increasing or decreasing.\n",
    "  - For example, how did the number of births on Saturday change each year between 1994 and 2003?\n",
    "3. Find a way to combine the CDC data with the SSA data, which you can find [here](https://github.com/fivethirtyeight/data/tree/master/births). Specifically, brainstorm ways to deal with the overlapping time periods in the datasets."
   ]
  }
 ],
 "metadata": {
  "colab": {
   "collapsed_sections": [
    "5GirVs0nSeLg",
    "AxC0dAcUTR2I",
    "BKhkVI-mUZ2D",
    "PphEELfSVewc",
    "DtOL85vrXxsH",
    "dkU1fyqtYrXu",
    "u4tOzSRnZn02",
    "NQRHm2ckcgxW",
    "8Yn3sKN4cjDZ",
    "Yc6eyNwHjGoS",
    "59BOl5ZxzBiD",
    "UhuuvFTfnV1m",
    "Wun-Lcn4rqb_",
    "EliJXj6BsJvX",
    "966qqqJFt8n_",
    "v17gkjfqvZKf",
    "WfhUt-8Q1pxc",
    "d05I630_4zci",
    "C-4ZZjuOAwEo",
    "iiUDrN5DBG8n",
    "84pRcUn2-w9z",
    "Sf5fCFStA_my",
    "1880dxvHEKNz",
    "e27bxqprFgTr"
   ],
   "name": "Lesson #3.ipynb",
   "provenance": [],
   "version": "0.3.2"
  },
  "kernelspec": {
   "display_name": "Python 3",
   "language": "python",
   "name": "python3"
  },
  "language_info": {
   "codemirror_mode": {
    "name": "ipython",
    "version": 3
   },
   "file_extension": ".py",
   "mimetype": "text/x-python",
   "name": "python",
   "nbconvert_exporter": "python",
   "pygments_lexer": "ipython3",
   "version": "3.6.4"
  }
 },
 "nbformat": 4,
 "nbformat_minor": 2
}
