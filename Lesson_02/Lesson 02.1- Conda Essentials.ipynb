{
 "cells": [
  {
   "cell_type": "markdown",
   "metadata": {},
   "source": [
    "# Introduction\n",
    "\n",
    "Software is constantly evolving, so data scientists need a way to **update** the software they are using without breaking things that already work. **Conda** is an open source, **cross-platform tool for managing packages and working environments** for many different programming languages. This lesson explains how to use its core features to manage your software so that you and your colleagues can reproduce your working environments reliably with minimum effort."
   ]
  },
  {
   "cell_type": "markdown",
   "metadata": {},
   "source": [
    "# Installing packages\n",
    "\n",
    "**Conda** packages are files containing a bundle of resources: usually libraries and executables, but not always. In principle, **Conda** packages can include data, images, notebooks, or other assets. The command-line tool **conda** is used to install, remove and examine packages; other tools such as the GUI Anaconda Navigator also expose the same capabilities. This course focuses on the **conda** tool itself (you'll see use cases other than package management in later chapters).\n",
    "\n",
    "**Conda** packages are most widely used with Python, but that's not all. Nothing about the Conda package format or the **conda** tool itself assumes any specific programming language. **Conda** packages can also be used for bundling libraries in other languages (like R, Scala, Julia, etc.) or simply for distributing pure binary executables generated from any programming language.\n",
    "\n",
    "One of the powerful aspects of conda—both the tool and the package format—is that dependencies are taken care of. That is, when you install any **Conda** package, any other packages needed get installed automatically. Tracking and determining software dependencies is a hard problem that package managers like **Conda** are designed to solve.\n",
    "\n",
    "A **Conda** package, then, is a file containing all files needed to make a given program execute correctly on a given system. Moreover, a **Conda** package can contain binary artifacts specific to a particular platform or operating system. Most packages (and their dependendencies) are available for Windows (win-32 or win-64), for OSX (osx-64), and for Linux (linux-32 or linux-64). A small number of **Conda** packages are available for more specialized platforms (e.g., Raspberry Pi 2 or POWER8 LE). As a user, you do not need to specify the platform since **Conda** will simply choose the **Conda** package appropriate for the platform you are using.\n",
    "\n"
   ]
  },
  {
   "cell_type": "code",
   "execution_count": 2,
   "metadata": {},
   "outputs": [
    {
     "name": "stdout",
     "output_type": "stream",
     "text": [
      "conda 4.5.11\n"
     ]
    }
   ],
   "source": [
    "# What version of conda do I have?\n",
    "!conda -V"
   ]
  },
  {
   "cell_type": "markdown",
   "metadata": {},
   "source": [
    "## Install a conda package\n",
    "\n",
    "Installing a package is largely a matter of listing the name(s) of packages to install after the command **conda install**. But there is more to it behind the scenes. The versions of packages to install (along with all their dependencies) must be compatible with all versions of other software currently installed. Often this \"satisfiability\" constraint depends on choosing a package version compatible with a particular version of Python that is installed. Conda is special among \"package managers\" in that it always guarantees this consistency; you will see the phrase **\"Solving environment...\"** during installation to indicate this computation."
   ]
  },
  {
   "cell_type": "code",
   "execution_count": null,
   "metadata": {},
   "outputs": [],
   "source": [
    "# install package cytoolz\n",
    "!conda install cytoolz\n",
    "\n",
    "# tip: see the option -y"
   ]
  },
  {
   "cell_type": "markdown",
   "metadata": {},
   "source": [
    "## Which package version is installed?\n",
    "\n",
    "Because **conda** installs packages automatically, it's hard to know which package versions are actually on your system. That is, packages you didn't install explicitly get installed for you to resolve another package's dependencies.\n",
    "\n",
    "Fortunately, the command **conda list** comes to your aid to query the current state. By itself, this lists all packages currently installed."
   ]
  },
  {
   "cell_type": "code",
   "execution_count": 1,
   "metadata": {},
   "outputs": [],
   "source": [
    "!conda list > out.txt"
   ]
  },
  {
   "cell_type": "code",
   "execution_count": 9,
   "metadata": {},
   "outputs": [
    {
     "name": "stdout",
     "output_type": "stream",
     "text": [
      "# packages in environment at /anaconda3:\n",
      "#\n",
      "# Name                    Version                   Build  Channel\n",
      "scikit-learn              0.19.1           py36hffbff8c_0  \n"
     ]
    }
   ],
   "source": [
    "# Select the exact version of the package\n",
    "!conda list scikit-learn "
   ]
  },
  {
   "cell_type": "markdown",
   "metadata": {},
   "source": [
    "## Install a specific version of a package\n",
    "\n",
    "Sometimes there are reasons why you need to use a specific version of a package, not necessarily simply the latest version compatible with your other installed software. You may have scripts written that depend on particular older APIs, or you may have received code written by colleagues who used specific versions and you want to guarantee replication of the same behavior. Likewise, you may be writing code that you intend to pass to other users who you know to be using specific package versions on their systems (perhaps as a company standard, for example).\n",
    "\n",
    "**conda** allows you to install software versions in several flexible ways. Your most common pattern will probably be prefix notation, using semantic versioning. For example, you might want a MAJOR and MINOR version, but want **conda** to select the most up-to-date PATCH version within that series. You could spell that as:"
   ]
  },
  {
   "cell_type": "code",
   "execution_count": null,
   "metadata": {},
   "outputs": [],
   "source": [
    "# July 2018 - http://scikit-learn.org/stable/\n",
    "!conda install -c conda-forge scikit-learn=0.19.2 -y"
   ]
  },
  {
   "cell_type": "markdown",
   "metadata": {},
   "source": [
    "## Update a conda package\n",
    "\n",
    "Closely related to installing a particular version of a **conda** package is updating the installed version to the latest version possible that remains compatible with other installed software. **conda** will determine if it is possible to update dependencies of the package(s) you are directly updating, and do so if resolvable. At times, the single specified package will be updated exclusively since the current dependencies are correct for the new version. Obviously, at other times updating will do nothing because you are already at the latest version possible.\n",
    "\n",
    "The command **conda update PKGNAME** is used to perform updates. Update is somewhat less \"aggressive\" than install in the sense that installing a specific (later) version will revise the versions in the dependency tree to a greater extent than an update. Often update will simply choose a later PATCH version even though potentially a later MAJOR or MINOR version could be made compatible with other installed packages.\n",
    "\n",
    "Note that this **conda** command, as well as most others allow specification of multiple packages on the same line. For example, you might use:\n",
    "\n",
    "```bash\n",
    "conda update foo bar blob\n",
    "```"
   ]
  },
  {
   "cell_type": "code",
   "execution_count": 7,
   "metadata": {},
   "outputs": [
    {
     "name": "stdout",
     "output_type": "stream",
     "text": [
      "# packages in environment at /anaconda3:\n",
      "#\n",
      "# Name                    Version                   Build  Channel\n",
      "plotly                    3.1.1            py36h28b3542_0  \n"
     ]
    }
   ],
   "source": [
    "# current version of package plotly\n",
    "!conda list plotly"
   ]
  },
  {
   "cell_type": "code",
   "execution_count": null,
   "metadata": {},
   "outputs": [],
   "source": [
    "# update or downgrade\n",
    "!conda update plotly -y"
   ]
  },
  {
   "cell_type": "markdown",
   "metadata": {},
   "source": [
    "## Remove a conda package\n",
    "\n",
    "Finally, in direct package management, sometimes you want to remove a package. This is straightforward using the command **conda remove PKGNAME**. As with other commands, you may also optionally specify multiple packages separated by spaces.\n",
    "\n",
    "Note that conda always tries to use the most recent versions of installed software that are compatible. Therefore, sometimes removing one package allows another package to be upgraded implicitly because only the removed package was requiring the older version of the dependency."
   ]
  },
  {
   "cell_type": "markdown",
   "metadata": {},
   "source": [
    "## Search for available package versions\n",
    "\n",
    "Sometimes you want to see what versions of a package are available as conda packages. By default **conda search** looks for those matching your platform (although switches allow tweaking this behavior)."
   ]
  },
  {
   "cell_type": "code",
   "execution_count": 11,
   "metadata": {},
   "outputs": [
    {
     "name": "stdout",
     "output_type": "stream",
     "text": [
      "Loading channels: done\n",
      "# Name                  Version           Build  Channel             \n",
      "plotly                   1.12.9          py27_0  pkgs/free           \n",
      "plotly                   1.12.9          py34_0  pkgs/free           \n",
      "plotly                   1.12.9          py35_0  pkgs/free           \n",
      "plotly                   1.12.9          py36_0  pkgs/free           \n",
      "plotly                    2.0.9          py27_0  pkgs/free           \n",
      "plotly                    2.0.9          py35_0  pkgs/free           \n",
      "plotly                    2.0.9          py36_0  pkgs/free           \n",
      "plotly                   2.0.11          py27_0  pkgs/free           \n",
      "plotly                   2.0.11          py35_0  pkgs/free           \n",
      "plotly                   2.0.11          py36_0  pkgs/free           \n",
      "plotly                   2.0.15  py27h2ba4078_0  pkgs/main           \n",
      "plotly                   2.0.15  py35hd4e73ac_0  pkgs/main           \n",
      "plotly                   2.0.15  py36hd4b43fc_0  pkgs/main           \n",
      "plotly                    2.1.0  py27hbd39481_0  pkgs/main           \n",
      "plotly                    2.1.0  py35hff1031a_0  pkgs/main           \n",
      "plotly                    2.1.0  py36h9570409_0  pkgs/main           \n",
      "plotly                    2.2.2  py27h596dad6_0  pkgs/main           \n",
      "plotly                    2.2.2  py35h575bba0_0  pkgs/main           \n",
      "plotly                    2.2.2  py36h097dc49_0  pkgs/main           \n",
      "plotly                    2.4.0          py27_0  pkgs/main           \n",
      "plotly                    2.4.0          py35_0  pkgs/main           \n",
      "plotly                    2.4.0          py36_0  pkgs/main           \n",
      "plotly                    2.4.1          py27_0  pkgs/main           \n",
      "plotly                    2.4.1          py35_0  pkgs/main           \n",
      "plotly                    2.4.1          py36_0  pkgs/main           \n",
      "plotly                    2.5.1          py27_0  pkgs/main           \n",
      "plotly                    2.5.1          py35_0  pkgs/main           \n",
      "plotly                    2.5.1          py36_0  pkgs/main           \n",
      "plotly                    2.6.0          py27_0  pkgs/main           \n",
      "plotly                    2.6.0          py35_0  pkgs/main           \n",
      "plotly                    2.6.0          py36_0  pkgs/main           \n",
      "plotly                    2.7.0          py27_1  pkgs/main           \n",
      "plotly                    2.7.0          py35_1  pkgs/main           \n",
      "plotly                    2.7.0          py36_1  pkgs/main           \n",
      "plotly                    2.7.0          py37_1  pkgs/main           \n",
      "plotly                    3.1.0          py27_0  pkgs/main           \n",
      "plotly                    3.1.0  py27h28b3542_0  pkgs/main           \n",
      "plotly                    3.1.0          py35_0  pkgs/main           \n",
      "plotly                    3.1.0  py35h28b3542_0  pkgs/main           \n",
      "plotly                    3.1.0          py36_0  pkgs/main           \n",
      "plotly                    3.1.0  py36h28b3542_0  pkgs/main           \n",
      "plotly                    3.1.0          py37_0  pkgs/main           \n",
      "plotly                    3.1.0  py37h28b3542_0  pkgs/main           \n",
      "plotly                    3.1.1  py27h28b3542_0  pkgs/main           \n",
      "plotly                    3.1.1  py35h28b3542_0  pkgs/main           \n",
      "plotly                    3.1.1  py36h28b3542_0  pkgs/main           \n",
      "plotly                    3.1.1  py37h28b3542_0  pkgs/main           \n"
     ]
    }
   ],
   "source": [
    "!conda search plotly\n",
    "#tip: use a specific channel ->   -c conda-forge"
   ]
  },
  {
   "cell_type": "markdown",
   "metadata": {},
   "source": [
    "# Channels and why are they needed?\n",
    "\n",
    "All **Conda** packages we've seen so far were published on the **main** or **default** channel of **Anaconda Cloud**. A **Conda channel** is an identifier of a path (e.g., as in a web address) from which Conda packages can be obtained. Using the public cloud, installing without specifying a channel points to the **main** channel at https://repo.continuum.io/pkgs/main; where hundreds of packages are available. Although covering a wide swath, the **main** channel contains only packages that are (moderately) curated by Anaconda Inc. Given finite resources and a particular area focus, not all genuinely worthwhile packages are vetted by Anaconda Inc.\n",
    "\n",
    "If you happen to be working in a firewalled or airgapped environment with a private installation of Anaconda Repository, your default channel may point to a different (internal) URL, but the same concepts will apply.\n",
    "\n",
    "Anyone may register for an account with Anaconda Cloud, thereby creating their own personal Conda channel."
   ]
  },
  {
   "cell_type": "markdown",
   "metadata": {},
   "source": [
    "## Searching across channels\n",
    "\n",
    "Although the **conda** command and its subcommands are used for nearly everything in this course, the package **anaconda-client** provides the command **anaconda** that searches in a different manner that is often more useful. For instance, you may know the name of the **textadapter** package, but you may not know in which channel (or channels) it may be published (or by which users). You can search across all channels and all platforms using:"
   ]
  },
  {
   "cell_type": "code",
   "execution_count": 12,
   "metadata": {},
   "outputs": [
    {
     "name": "stdout",
     "output_type": "stream",
     "text": [
      "Using Anaconda API: https://api.anaconda.org\n",
      "Packages:\n",
      "     Name                      |  Version | Package Types   | Platforms       | Builds    \n",
      "     ------------------------- |   ------ | --------------- | --------------- | ----------\n",
      "     DavidMertz/textadapter    |    2.0.0 | conda           | linux-64, osx-64 | py36_0, py35_0, py27_0\n",
      "     conda-forge/textadapter   |    2.0.0 | conda           | linux-64, win-32, osx-64, win-64 | py35_0, py27_0\n",
      "     gbrener/textadapter       |    2.0.0 | conda           | linux-64, osx-64 | py35_0, py27_0\n",
      "                                          : python interface Amazon S3, and large data files\n",
      "     sseefeld/textadapter      |    2.0.0 | conda           | win-64          | py36_0, py34_0, py35_0, py27_0\n",
      "                                          : python interface Amazon S3, and large data files\n",
      "     stuarteberg/textadapter   |    2.0.0 | conda           | osx-64          | py36_0    \n",
      "Found 5 packages\n",
      "\n",
      "Run 'anaconda show <USER/PACKAGE>' to get installation details\n"
     ]
    }
   ],
   "source": [
    "!anaconda search textadapter"
   ]
  },
  {
   "cell_type": "markdown",
   "metadata": {},
   "source": [
    "## Default, non-default, and special channels\n",
    "\n",
    "The default channel on Anaconda Cloud is curated by Anaconda Inc., but another channel called **conda-forge** also has a special status. This channel does not operate any differently than other channels, whether those others are associated with an individual or organization, but it acts as a kind of **\"community curation\"** of relatively well-vetted packages. The GitHub page for the conda-forge project at https://github.com/conda-forge describes it as: **\"A community led collection of recipes, build infrastructure and distributions for the conda package manager.\"**\n",
    "\n",
    "Apart from the somewhat more organized conda-forge channel/project, Anaconda Cloud channels are relatively anarchic. Much like GitHub repos or packages on the Python Package Index (PyPI), anyone is free to upload whatever projects they like to conda-forge (as long as they are assembled as Conda packages, that is, but this is a minor restriction).\n",
    "\n",
    "You should generally trust or rely only on packages sourced from reputable channels. There is no inherent rating system for channels or their packages. However, you are likely to trust your colleagues, your organization, well-known people in your software or data science communities, and so on.\n",
    "\n",
    "**conda-forge** is almost certainly **the most widely used channel on Anaconda Cloud**. In fact, it has very many more packages than the main channel itself. \n"
   ]
  },
  {
   "cell_type": "code",
   "execution_count": null,
   "metadata": {},
   "outputs": [],
   "source": []
  }
 ],
 "metadata": {
  "kernelspec": {
   "display_name": "Python 3",
   "language": "python",
   "name": "python3"
  },
  "language_info": {
   "codemirror_mode": {
    "name": "ipython",
    "version": 3
   },
   "file_extension": ".py",
   "mimetype": "text/x-python",
   "name": "python",
   "nbconvert_exporter": "python",
   "pygments_lexer": "ipython3",
   "version": "3.6.4"
  }
 },
 "nbformat": 4,
 "nbformat_minor": 2
}
